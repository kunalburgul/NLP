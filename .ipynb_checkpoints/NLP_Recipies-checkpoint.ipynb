{
 "cells": [
  {
   "cell_type": "markdown",
   "metadata": {},
   "source": [
    "# Natural Language Processing Recipes"
   ]
  },
  {
   "cell_type": "markdown",
   "metadata": {},
   "source": [
    "## Extracting the Data"
   ]
  },
  {
   "cell_type": "markdown",
   "metadata": {},
   "source": [
    "Here, we are going to cover various sources of text data and ways to extract it, which can act as information or insights for businesses.\n",
    "\n",
    "Recipe 1. Text data collection using APIs\n",
    "\n",
    "Recipe 2. Reading PDF file in Python\n",
    "\n",
    "Recipe 3. Reading word document\n",
    "\n",
    "Recipe 4. Reading JSON object\n",
    "\n",
    "Recipe 5. Reading HTML page and HTML parsing\n",
    "\n",
    "Recipe 6. Regular expressions\n",
    "\n",
    "Recipe 7. String handling\n",
    "\n",
    "Recipe 8. Web scraping"
   ]
  },
  {
   "cell_type": "markdown",
   "metadata": {},
   "source": [
    "### Introduction"
   ]
  },
  {
   "cell_type": "markdown",
   "metadata": {},
   "source": [
    "Before getting into details of the book, let’s see the different possible datasources available in general. We need to identify potential data sources for a business’s benefit.\n",
    "\n",
    "**Client Data** For any problem statement, one of the sources is their own data that is already present. But it depends on the business where they store it. Data storage depends on the type of business, amount of data, and cost associated with different sources.\n",
    "- SQL databases\n",
    "- Hadoop clusters\n",
    "- Cloud storage\n",
    "- Flat files\n",
    "\n",
    "**Free source** A huge amount of data is freely available over the internet. We just need to streamline the problem and start exploring multiple free data sources.\n",
    "- Free APIs like Twitter\n",
    "- Wikipedia\n",
    "- Government data (e.g. http://data.gov)\n",
    "- Census data (e.g. http://www.census.gov/data.html)\n",
    "- Health care claim data (e.g. https://www.healthdata.gov/)\n",
    "\n",
    "**Web scraping** Extracting the content/data from websites, blogs, forums, and retail websites for reviews with the permission from the respective sources using web scraping packages in Python. There are a lot of other sources like crime data, accident data, and economic data that can also be leveraged for analysis based on the problem statement.\n",
    "\n"
   ]
  },
  {
   "cell_type": "markdown",
   "metadata": {},
   "source": [
    "#### Collecting the data from Twitter API"
   ]
  },
  {
   "cell_type": "markdown",
   "metadata": {},
   "source": [
    "- You want to collect text data using Twitter APIs.<br>\n",
    "--> Twitter has a gigantic amount of data with a lot of value in it. Social mediamarketers are making their living from it. There is an enormous amount of tweets every day, and every tweet has some story to tell. When all of this\n",
    "data is collected and analyzed, it gives a tremendous amount of insights to a business about their company, product, service, etc.<br>\n",
    "Let’s see how to pull the data in this recipe and then explore how to leverage it\n"
   ]
  },
  {
   "cell_type": "code",
   "execution_count": 119,
   "metadata": {},
   "outputs": [],
   "source": [
    "# Fetching the data\n",
    "\n",
    "# Import the libraries\n",
    "import numpy as np\n",
    "import tweepy\n",
    "import json\n",
    "import pandas as pd\n",
    "from tweepy import OAuthHandler\n",
    "\n",
    "# Credentials\n",
    "consumer_key = \"JrEyiSir2ehNBUncsR8NzMW6H\"\n",
    "consumer_secret = \"SZqQaaTEBiUfp3Gnwd6lkgcpiwgzuyuUbbWVL453BjDKighEdG\"\n",
    "access_token = \"2310353096-bR4mYstbYwXoZVIOCwRFYOjdLLqxGK4ZPt0cOB8\"\n",
    "access_token_secret = \"yMXQ7Mse2B69WpYpppojjbcPtPvdkOW1OqRddxtN8wj76\"\n",
    "\n",
    "# caliing API\n",
    "auth = tweepy.OAuthHandler(consumer_key, consumer_secret)\n",
    "auth.set_access_token(access_token, access_token_secret)\n",
    "api = tweepy.API(auth)\n"
   ]
  },
  {
   "cell_type": "markdown",
   "metadata": {},
   "source": [
    "The query below will pull the top 10 tweets when the product ABC is searched. The API will pull English tweets since the language given is ‘en’ and it will exclude retweets."
   ]
  },
  {
   "cell_type": "code",
   "execution_count": 120,
   "metadata": {},
   "outputs": [
    {
     "name": "stdout",
     "output_type": "stream",
     "text": [
      "[Status(_api=<tweepy.api.API object at 0x7fc4c148ef40>, _json={'created_at': 'Thu Oct 01 08:20:12 +0000 2020', 'id': 1311581670336684032, 'id_str': '1311581670336684032', 'full_text': \"Coronavirus Australia live news: Official behind Melbourne's COVID-19 curfew had concerns about a third wave https://t.co/U2H9H1R6Mw\", 'truncated': False, 'display_text_range': [0, 132], 'entities': {'hashtags': [], 'symbols': [], 'user_mentions': [], 'urls': [{'url': 'https://t.co/U2H9H1R6Mw', 'expanded_url': 'https://www.abc.net.au/news/2020-10-01/coronavirus-australia-live-news-covid-19-victoria-melbourne/12719188', 'display_url': 'abc.net.au/news/2020-10-0…', 'indices': [109, 132]}]}, 'metadata': {'iso_language_code': 'en', 'result_type': 'recent'}, 'source': '<a href=\"https://mobile.twitter.com\" rel=\"nofollow\">Twitter Web App</a>', 'in_reply_to_status_id': None, 'in_reply_to_status_id_str': None, 'in_reply_to_user_id': None, 'in_reply_to_user_id_str': None, 'in_reply_to_screen_name': None, 'user': {'id': 3013858489, 'id_str': '3013858489', 'name': 'bnewman9', 'screen_name': 'Taracamb', 'location': '', 'description': '', 'url': None, 'entities': {'description': {'urls': []}}, 'protected': False, 'followers_count': 31, 'friends_count': 118, 'listed_count': 2, 'created_at': 'Mon Feb 09 00:04:29 +0000 2015', 'favourites_count': 1545, 'utc_offset': None, 'time_zone': None, 'geo_enabled': True, 'verified': False, 'statuses_count': 9713, 'lang': None, 'contributors_enabled': False, 'is_translator': False, 'is_translation_enabled': False, 'profile_background_color': 'C0DEED', 'profile_background_image_url': 'http://abs.twimg.com/images/themes/theme1/bg.png', 'profile_background_image_url_https': 'https://abs.twimg.com/images/themes/theme1/bg.png', 'profile_background_tile': False, 'profile_image_url': 'http://abs.twimg.com/sticky/default_profile_images/default_profile_normal.png', 'profile_image_url_https': 'https://abs.twimg.com/sticky/default_profile_images/default_profile_normal.png', 'profile_link_color': '1DA1F2', 'profile_sidebar_border_color': 'C0DEED', 'profile_sidebar_fill_color': 'DDEEF6', 'profile_text_color': '333333', 'profile_use_background_image': True, 'has_extended_profile': False, 'default_profile': True, 'default_profile_image': True, 'following': False, 'follow_request_sent': False, 'notifications': False, 'translator_type': 'none'}, 'geo': None, 'coordinates': None, 'place': None, 'contributors': None, 'is_quote_status': False, 'retweet_count': 0, 'favorite_count': 0, 'favorited': False, 'retweeted': False, 'possibly_sensitive': False, 'lang': 'en'}, created_at=datetime.datetime(2020, 10, 1, 8, 20, 12), id=1311581670336684032, id_str='1311581670336684032', full_text=\"Coronavirus Australia live news: Official behind Melbourne's COVID-19 curfew had concerns about a third wave https://t.co/U2H9H1R6Mw\", truncated=False, display_text_range=[0, 132], entities={'hashtags': [], 'symbols': [], 'user_mentions': [], 'urls': [{'url': 'https://t.co/U2H9H1R6Mw', 'expanded_url': 'https://www.abc.net.au/news/2020-10-01/coronavirus-australia-live-news-covid-19-victoria-melbourne/12719188', 'display_url': 'abc.net.au/news/2020-10-0…', 'indices': [109, 132]}]}, metadata={'iso_language_code': 'en', 'result_type': 'recent'}, source='Twitter Web App', source_url='https://mobile.twitter.com', in_reply_to_status_id=None, in_reply_to_status_id_str=None, in_reply_to_user_id=None, in_reply_to_user_id_str=None, in_reply_to_screen_name=None, author=User(_api=<tweepy.api.API object at 0x7fc4c148ef40>, _json={'id': 3013858489, 'id_str': '3013858489', 'name': 'bnewman9', 'screen_name': 'Taracamb', 'location': '', 'description': '', 'url': None, 'entities': {'description': {'urls': []}}, 'protected': False, 'followers_count': 31, 'friends_count': 118, 'listed_count': 2, 'created_at': 'Mon Feb 09 00:04:29 +0000 2015', 'favourites_count': 1545, 'utc_offset': None, 'time_zone': None, 'geo_enabled': True, 'verified': False, 'statuses_count': 9713, 'lang': None, 'contributors_enabled': False, 'is_translator': False, 'is_translation_enabled': False, 'profile_background_color': 'C0DEED', 'profile_background_image_url': 'http://abs.twimg.com/images/themes/theme1/bg.png', 'profile_background_image_url_https': 'https://abs.twimg.com/images/themes/theme1/bg.png', 'profile_background_tile': False, 'profile_image_url': 'http://abs.twimg.com/sticky/default_profile_images/default_profile_normal.png', 'profile_image_url_https': 'https://abs.twimg.com/sticky/default_profile_images/default_profile_normal.png', 'profile_link_color': '1DA1F2', 'profile_sidebar_border_color': 'C0DEED', 'profile_sidebar_fill_color': 'DDEEF6', 'profile_text_color': '333333', 'profile_use_background_image': True, 'has_extended_profile': False, 'default_profile': True, 'default_profile_image': True, 'following': False, 'follow_request_sent': False, 'notifications': False, 'translator_type': 'none'}, id=3013858489, id_str='3013858489', name='bnewman9', screen_name='Taracamb', location='', description='', url=None, entities={'description': {'urls': []}}, protected=False, followers_count=31, friends_count=118, listed_count=2, created_at=datetime.datetime(2015, 2, 9, 0, 4, 29), favourites_count=1545, utc_offset=None, time_zone=None, geo_enabled=True, verified=False, statuses_count=9713, lang=None, contributors_enabled=False, is_translator=False, is_translation_enabled=False, profile_background_color='C0DEED', profile_background_image_url='http://abs.twimg.com/images/themes/theme1/bg.png', profile_background_image_url_https='https://abs.twimg.com/images/themes/theme1/bg.png', profile_background_tile=False, profile_image_url='http://abs.twimg.com/sticky/default_profile_images/default_profile_normal.png', profile_image_url_https='https://abs.twimg.com/sticky/default_profile_images/default_profile_normal.png', profile_link_color='1DA1F2', profile_sidebar_border_color='C0DEED', profile_sidebar_fill_color='DDEEF6', profile_text_color='333333', profile_use_background_image=True, has_extended_profile=False, default_profile=True, default_profile_image=True, following=False, follow_request_sent=False, notifications=False, translator_type='none'), user=User(_api=<tweepy.api.API object at 0x7fc4c148ef40>, _json={'id': 3013858489, 'id_str': '3013858489', 'name': 'bnewman9', 'screen_name': 'Taracamb', 'location': '', 'description': '', 'url': None, 'entities': {'description': {'urls': []}}, 'protected': False, 'followers_count': 31, 'friends_count': 118, 'listed_count': 2, 'created_at': 'Mon Feb 09 00:04:29 +0000 2015', 'favourites_count': 1545, 'utc_offset': None, 'time_zone': None, 'geo_enabled': True, 'verified': False, 'statuses_count': 9713, 'lang': None, 'contributors_enabled': False, 'is_translator': False, 'is_translation_enabled': False, 'profile_background_color': 'C0DEED', 'profile_background_image_url': 'http://abs.twimg.com/images/themes/theme1/bg.png', 'profile_background_image_url_https': 'https://abs.twimg.com/images/themes/theme1/bg.png', 'profile_background_tile': False, 'profile_image_url': 'http://abs.twimg.com/sticky/default_profile_images/default_profile_normal.png', 'profile_image_url_https': 'https://abs.twimg.com/sticky/default_profile_images/default_profile_normal.png', 'profile_link_color': '1DA1F2', 'profile_sidebar_border_color': 'C0DEED', 'profile_sidebar_fill_color': 'DDEEF6', 'profile_text_color': '333333', 'profile_use_background_image': True, 'has_extended_profile': False, 'default_profile': True, 'default_profile_image': True, 'following': False, 'follow_request_sent': False, 'notifications': False, 'translator_type': 'none'}, id=3013858489, id_str='3013858489', name='bnewman9', screen_name='Taracamb', location='', description='', url=None, entities={'description': {'urls': []}}, protected=False, followers_count=31, friends_count=118, listed_count=2, created_at=datetime.datetime(2015, 2, 9, 0, 4, 29), favourites_count=1545, utc_offset=None, time_zone=None, geo_enabled=True, verified=False, statuses_count=9713, lang=None, contributors_enabled=False, is_translator=False, is_translation_enabled=False, profile_background_color='C0DEED', profile_background_image_url='http://abs.twimg.com/images/themes/theme1/bg.png', profile_background_image_url_https='https://abs.twimg.com/images/themes/theme1/bg.png', profile_background_tile=False, profile_image_url='http://abs.twimg.com/sticky/default_profile_images/default_profile_normal.png', profile_image_url_https='https://abs.twimg.com/sticky/default_profile_images/default_profile_normal.png', profile_link_color='1DA1F2', profile_sidebar_border_color='C0DEED', profile_sidebar_fill_color='DDEEF6', profile_text_color='333333', profile_use_background_image=True, has_extended_profile=False, default_profile=True, default_profile_image=True, following=False, follow_request_sent=False, notifications=False, translator_type='none'), geo=None, coordinates=None, place=None, contributors=None, is_quote_status=False, retweet_count=0, favorite_count=0, favorited=False, retweeted=False, possibly_sensitive=False, lang='en'), Status(_api=<tweepy.api.API object at 0x7fc4c148ef40>, _json={'created_at': 'Thu Oct 01 08:20:06 +0000 2020', 'id': 1311581645049221123, 'id_str': '1311581645049221123', 'full_text': '@ellymelly @ScottMorrisonMP &amp; @PaulFletcherMP should privatise the #ABC ASAP. They’ve lost touch with normal Aussies. They’re fixated with their ‘within 5km of CBD, latte sipping mates’, that their inter-breeding has fostered, causing a loss of touch with their outer Sub/Reg/Rural audience!', 'truncated': False, 'display_text_range': [11, 295], 'entities': {'hashtags': [{'text': 'ABC', 'indices': [71, 75]}], 'symbols': [], 'user_mentions': [{'screen_name': 'ellymelly', 'name': 'Alexandra Marshall', 'id': 39002335, 'id_str': '39002335', 'indices': [0, 10]}, {'screen_name': 'ScottMorrisonMP', 'name': 'Scott Morrison', 'id': 34116377, 'id_str': '34116377', 'indices': [11, 27]}, {'screen_name': 'PaulFletcherMP', 'name': 'Paul Fletcher', 'id': 77896983, 'id_str': '77896983', 'indices': [34, 49]}], 'urls': []}, 'metadata': {'iso_language_code': 'en', 'result_type': 'recent'}, 'source': '<a href=\"http://twitter.com/#!/download/ipad\" rel=\"nofollow\">Twitter for iPad</a>', 'in_reply_to_status_id': 1311568833698648064, 'in_reply_to_status_id_str': '1311568833698648064', 'in_reply_to_user_id': 39002335, 'in_reply_to_user_id_str': '39002335', 'in_reply_to_screen_name': 'ellymelly', 'user': {'id': 3037006656, 'id_str': '3037006656', 'name': 'Suzie OBrien', 'screen_name': 'OBrien_Suzie', 'location': '', 'description': '', 'url': None, 'entities': {'description': {'urls': []}}, 'protected': False, 'followers_count': 63, 'friends_count': 146, 'listed_count': 2, 'created_at': 'Sun Feb 22 23:25:14 +0000 2015', 'favourites_count': 2895, 'utc_offset': None, 'time_zone': None, 'geo_enabled': False, 'verified': False, 'statuses_count': 2475, 'lang': None, 'contributors_enabled': False, 'is_translator': False, 'is_translation_enabled': False, 'profile_background_color': 'C0DEED', 'profile_background_image_url': 'http://abs.twimg.com/images/themes/theme1/bg.png', 'profile_background_image_url_https': 'https://abs.twimg.com/images/themes/theme1/bg.png', 'profile_background_tile': False, 'profile_image_url': 'http://abs.twimg.com/sticky/default_profile_images/default_profile_normal.png', 'profile_image_url_https': 'https://abs.twimg.com/sticky/default_profile_images/default_profile_normal.png', 'profile_link_color': '1DA1F2', 'profile_sidebar_border_color': 'C0DEED', 'profile_sidebar_fill_color': 'DDEEF6', 'profile_text_color': '333333', 'profile_use_background_image': True, 'has_extended_profile': False, 'default_profile': True, 'default_profile_image': True, 'following': False, 'follow_request_sent': False, 'notifications': False, 'translator_type': 'none'}, 'geo': None, 'coordinates': None, 'place': None, 'contributors': None, 'is_quote_status': False, 'retweet_count': 0, 'favorite_count': 0, 'favorited': False, 'retweeted': False, 'lang': 'en'}, created_at=datetime.datetime(2020, 10, 1, 8, 20, 6), id=1311581645049221123, id_str='1311581645049221123', full_text='@ellymelly @ScottMorrisonMP &amp; @PaulFletcherMP should privatise the #ABC ASAP. They’ve lost touch with normal Aussies. They’re fixated with their ‘within 5km of CBD, latte sipping mates’, that their inter-breeding has fostered, causing a loss of touch with their outer Sub/Reg/Rural audience!', truncated=False, display_text_range=[11, 295], entities={'hashtags': [{'text': 'ABC', 'indices': [71, 75]}], 'symbols': [], 'user_mentions': [{'screen_name': 'ellymelly', 'name': 'Alexandra Marshall', 'id': 39002335, 'id_str': '39002335', 'indices': [0, 10]}, {'screen_name': 'ScottMorrisonMP', 'name': 'Scott Morrison', 'id': 34116377, 'id_str': '34116377', 'indices': [11, 27]}, {'screen_name': 'PaulFletcherMP', 'name': 'Paul Fletcher', 'id': 77896983, 'id_str': '77896983', 'indices': [34, 49]}], 'urls': []}, metadata={'iso_language_code': 'en', 'result_type': 'recent'}, source='Twitter for iPad', source_url='http://twitter.com/#!/download/ipad', in_reply_to_status_id=1311568833698648064, in_reply_to_status_id_str='1311568833698648064', in_reply_to_user_id=39002335, in_reply_to_user_id_str='39002335', in_reply_to_screen_name='ellymelly', author=User(_api=<tweepy.api.API object at 0x7fc4c148ef40>, _json={'id': 3037006656, 'id_str': '3037006656', 'name': 'Suzie OBrien', 'screen_name': 'OBrien_Suzie', 'location': '', 'description': '', 'url': None, 'entities': {'description': {'urls': []}}, 'protected': False, 'followers_count': 63, 'friends_count': 146, 'listed_count': 2, 'created_at': 'Sun Feb 22 23:25:14 +0000 2015', 'favourites_count': 2895, 'utc_offset': None, 'time_zone': None, 'geo_enabled': False, 'verified': False, 'statuses_count': 2475, 'lang': None, 'contributors_enabled': False, 'is_translator': False, 'is_translation_enabled': False, 'profile_background_color': 'C0DEED', 'profile_background_image_url': 'http://abs.twimg.com/images/themes/theme1/bg.png', 'profile_background_image_url_https': 'https://abs.twimg.com/images/themes/theme1/bg.png', 'profile_background_tile': False, 'profile_image_url': 'http://abs.twimg.com/sticky/default_profile_images/default_profile_normal.png', 'profile_image_url_https': 'https://abs.twimg.com/sticky/default_profile_images/default_profile_normal.png', 'profile_link_color': '1DA1F2', 'profile_sidebar_border_color': 'C0DEED', 'profile_sidebar_fill_color': 'DDEEF6', 'profile_text_color': '333333', 'profile_use_background_image': True, 'has_extended_profile': False, 'default_profile': True, 'default_profile_image': True, 'following': False, 'follow_request_sent': False, 'notifications': False, 'translator_type': 'none'}, id=3037006656, id_str='3037006656', name='Suzie OBrien', screen_name='OBrien_Suzie', location='', description='', url=None, entities={'description': {'urls': []}}, protected=False, followers_count=63, friends_count=146, listed_count=2, created_at=datetime.datetime(2015, 2, 22, 23, 25, 14), favourites_count=2895, utc_offset=None, time_zone=None, geo_enabled=False, verified=False, statuses_count=2475, lang=None, contributors_enabled=False, is_translator=False, is_translation_enabled=False, profile_background_color='C0DEED', profile_background_image_url='http://abs.twimg.com/images/themes/theme1/bg.png', profile_background_image_url_https='https://abs.twimg.com/images/themes/theme1/bg.png', profile_background_tile=False, profile_image_url='http://abs.twimg.com/sticky/default_profile_images/default_profile_normal.png', profile_image_url_https='https://abs.twimg.com/sticky/default_profile_images/default_profile_normal.png', profile_link_color='1DA1F2', profile_sidebar_border_color='C0DEED', profile_sidebar_fill_color='DDEEF6', profile_text_color='333333', profile_use_background_image=True, has_extended_profile=False, default_profile=True, default_profile_image=True, following=False, follow_request_sent=False, notifications=False, translator_type='none'), user=User(_api=<tweepy.api.API object at 0x7fc4c148ef40>, _json={'id': 3037006656, 'id_str': '3037006656', 'name': 'Suzie OBrien', 'screen_name': 'OBrien_Suzie', 'location': '', 'description': '', 'url': None, 'entities': {'description': {'urls': []}}, 'protected': False, 'followers_count': 63, 'friends_count': 146, 'listed_count': 2, 'created_at': 'Sun Feb 22 23:25:14 +0000 2015', 'favourites_count': 2895, 'utc_offset': None, 'time_zone': None, 'geo_enabled': False, 'verified': False, 'statuses_count': 2475, 'lang': None, 'contributors_enabled': False, 'is_translator': False, 'is_translation_enabled': False, 'profile_background_color': 'C0DEED', 'profile_background_image_url': 'http://abs.twimg.com/images/themes/theme1/bg.png', 'profile_background_image_url_https': 'https://abs.twimg.com/images/themes/theme1/bg.png', 'profile_background_tile': False, 'profile_image_url': 'http://abs.twimg.com/sticky/default_profile_images/default_profile_normal.png', 'profile_image_url_https': 'https://abs.twimg.com/sticky/default_profile_images/default_profile_normal.png', 'profile_link_color': '1DA1F2', 'profile_sidebar_border_color': 'C0DEED', 'profile_sidebar_fill_color': 'DDEEF6', 'profile_text_color': '333333', 'profile_use_background_image': True, 'has_extended_profile': False, 'default_profile': True, 'default_profile_image': True, 'following': False, 'follow_request_sent': False, 'notifications': False, 'translator_type': 'none'}, id=3037006656, id_str='3037006656', name='Suzie OBrien', screen_name='OBrien_Suzie', location='', description='', url=None, entities={'description': {'urls': []}}, protected=False, followers_count=63, friends_count=146, listed_count=2, created_at=datetime.datetime(2015, 2, 22, 23, 25, 14), favourites_count=2895, utc_offset=None, time_zone=None, geo_enabled=False, verified=False, statuses_count=2475, lang=None, contributors_enabled=False, is_translator=False, is_translation_enabled=False, profile_background_color='C0DEED', profile_background_image_url='http://abs.twimg.com/images/themes/theme1/bg.png', profile_background_image_url_https='https://abs.twimg.com/images/themes/theme1/bg.png', profile_background_tile=False, profile_image_url='http://abs.twimg.com/sticky/default_profile_images/default_profile_normal.png', profile_image_url_https='https://abs.twimg.com/sticky/default_profile_images/default_profile_normal.png', profile_link_color='1DA1F2', profile_sidebar_border_color='C0DEED', profile_sidebar_fill_color='DDEEF6', profile_text_color='333333', profile_use_background_image=True, has_extended_profile=False, default_profile=True, default_profile_image=True, following=False, follow_request_sent=False, notifications=False, translator_type='none'), geo=None, coordinates=None, place=None, contributors=None, is_quote_status=False, retweet_count=0, favorite_count=0, favorited=False, retweeted=False, lang='en'), Status(_api=<tweepy.api.API object at 0x7fc4c148ef40>, _json={'created_at': 'Thu Oct 01 08:20:05 +0000 2020', 'id': 1311581640276152323, 'id_str': '1311581640276152323', 'full_text': '@ABC oh my gosh ...', 'truncated': False, 'display_text_range': [5, 19], 'entities': {'hashtags': [], 'symbols': [], 'user_mentions': [{'screen_name': 'ABC', 'name': 'ABC News', 'id': 28785486, 'id_str': '28785486', 'indices': [0, 4]}], 'urls': []}, 'metadata': {'iso_language_code': 'en', 'result_type': 'recent'}, 'source': '<a href=\"https://mobile.twitter.com\" rel=\"nofollow\">Twitter Web App</a>', 'in_reply_to_status_id': 1311374304941146114, 'in_reply_to_status_id_str': '1311374304941146114', 'in_reply_to_user_id': 28785486, 'in_reply_to_user_id_str': '28785486', 'in_reply_to_screen_name': 'ABC', 'user': {'id': 411195290, 'id_str': '411195290', 'name': 'Becky', 'screen_name': 'seablue_becky', 'location': '', 'description': 'balance & serenity', 'url': None, 'entities': {'description': {'urls': []}}, 'protected': False, 'followers_count': 81, 'friends_count': 1353, 'listed_count': 2, 'created_at': 'Sun Nov 13 03:33:19 +0000 2011', 'favourites_count': 21219, 'utc_offset': None, 'time_zone': None, 'geo_enabled': False, 'verified': False, 'statuses_count': 2282, 'lang': None, 'contributors_enabled': False, 'is_translator': False, 'is_translation_enabled': False, 'profile_background_color': '07090B', 'profile_background_image_url': 'http://abs.twimg.com/images/themes/theme14/bg.gif', 'profile_background_image_url_https': 'https://abs.twimg.com/images/themes/theme14/bg.gif', 'profile_background_tile': True, 'profile_image_url': 'http://pbs.twimg.com/profile_images/1206684446155399169/sb9LAbty_normal.jpg', 'profile_image_url_https': 'https://pbs.twimg.com/profile_images/1206684446155399169/sb9LAbty_normal.jpg', 'profile_banner_url': 'https://pbs.twimg.com/profile_banners/411195290/1562111706', 'profile_link_color': 'C34242', 'profile_sidebar_border_color': 'FFFFFF', 'profile_sidebar_fill_color': 'C9C9C9', 'profile_text_color': '1C1F23', 'profile_use_background_image': True, 'has_extended_profile': False, 'default_profile': False, 'default_profile_image': False, 'following': False, 'follow_request_sent': False, 'notifications': False, 'translator_type': 'none'}, 'geo': None, 'coordinates': None, 'place': None, 'contributors': None, 'is_quote_status': False, 'retweet_count': 0, 'favorite_count': 0, 'favorited': False, 'retweeted': False, 'lang': 'en'}, created_at=datetime.datetime(2020, 10, 1, 8, 20, 5), id=1311581640276152323, id_str='1311581640276152323', full_text='@ABC oh my gosh ...', truncated=False, display_text_range=[5, 19], entities={'hashtags': [], 'symbols': [], 'user_mentions': [{'screen_name': 'ABC', 'name': 'ABC News', 'id': 28785486, 'id_str': '28785486', 'indices': [0, 4]}], 'urls': []}, metadata={'iso_language_code': 'en', 'result_type': 'recent'}, source='Twitter Web App', source_url='https://mobile.twitter.com', in_reply_to_status_id=1311374304941146114, in_reply_to_status_id_str='1311374304941146114', in_reply_to_user_id=28785486, in_reply_to_user_id_str='28785486', in_reply_to_screen_name='ABC', author=User(_api=<tweepy.api.API object at 0x7fc4c148ef40>, _json={'id': 411195290, 'id_str': '411195290', 'name': 'Becky', 'screen_name': 'seablue_becky', 'location': '', 'description': 'balance & serenity', 'url': None, 'entities': {'description': {'urls': []}}, 'protected': False, 'followers_count': 81, 'friends_count': 1353, 'listed_count': 2, 'created_at': 'Sun Nov 13 03:33:19 +0000 2011', 'favourites_count': 21219, 'utc_offset': None, 'time_zone': None, 'geo_enabled': False, 'verified': False, 'statuses_count': 2282, 'lang': None, 'contributors_enabled': False, 'is_translator': False, 'is_translation_enabled': False, 'profile_background_color': '07090B', 'profile_background_image_url': 'http://abs.twimg.com/images/themes/theme14/bg.gif', 'profile_background_image_url_https': 'https://abs.twimg.com/images/themes/theme14/bg.gif', 'profile_background_tile': True, 'profile_image_url': 'http://pbs.twimg.com/profile_images/1206684446155399169/sb9LAbty_normal.jpg', 'profile_image_url_https': 'https://pbs.twimg.com/profile_images/1206684446155399169/sb9LAbty_normal.jpg', 'profile_banner_url': 'https://pbs.twimg.com/profile_banners/411195290/1562111706', 'profile_link_color': 'C34242', 'profile_sidebar_border_color': 'FFFFFF', 'profile_sidebar_fill_color': 'C9C9C9', 'profile_text_color': '1C1F23', 'profile_use_background_image': True, 'has_extended_profile': False, 'default_profile': False, 'default_profile_image': False, 'following': False, 'follow_request_sent': False, 'notifications': False, 'translator_type': 'none'}, id=411195290, id_str='411195290', name='Becky', screen_name='seablue_becky', location='', description='balance & serenity', url=None, entities={'description': {'urls': []}}, protected=False, followers_count=81, friends_count=1353, listed_count=2, created_at=datetime.datetime(2011, 11, 13, 3, 33, 19), favourites_count=21219, utc_offset=None, time_zone=None, geo_enabled=False, verified=False, statuses_count=2282, lang=None, contributors_enabled=False, is_translator=False, is_translation_enabled=False, profile_background_color='07090B', profile_background_image_url='http://abs.twimg.com/images/themes/theme14/bg.gif', profile_background_image_url_https='https://abs.twimg.com/images/themes/theme14/bg.gif', profile_background_tile=True, profile_image_url='http://pbs.twimg.com/profile_images/1206684446155399169/sb9LAbty_normal.jpg', profile_image_url_https='https://pbs.twimg.com/profile_images/1206684446155399169/sb9LAbty_normal.jpg', profile_banner_url='https://pbs.twimg.com/profile_banners/411195290/1562111706', profile_link_color='C34242', profile_sidebar_border_color='FFFFFF', profile_sidebar_fill_color='C9C9C9', profile_text_color='1C1F23', profile_use_background_image=True, has_extended_profile=False, default_profile=False, default_profile_image=False, following=False, follow_request_sent=False, notifications=False, translator_type='none'), user=User(_api=<tweepy.api.API object at 0x7fc4c148ef40>, _json={'id': 411195290, 'id_str': '411195290', 'name': 'Becky', 'screen_name': 'seablue_becky', 'location': '', 'description': 'balance & serenity', 'url': None, 'entities': {'description': {'urls': []}}, 'protected': False, 'followers_count': 81, 'friends_count': 1353, 'listed_count': 2, 'created_at': 'Sun Nov 13 03:33:19 +0000 2011', 'favourites_count': 21219, 'utc_offset': None, 'time_zone': None, 'geo_enabled': False, 'verified': False, 'statuses_count': 2282, 'lang': None, 'contributors_enabled': False, 'is_translator': False, 'is_translation_enabled': False, 'profile_background_color': '07090B', 'profile_background_image_url': 'http://abs.twimg.com/images/themes/theme14/bg.gif', 'profile_background_image_url_https': 'https://abs.twimg.com/images/themes/theme14/bg.gif', 'profile_background_tile': True, 'profile_image_url': 'http://pbs.twimg.com/profile_images/1206684446155399169/sb9LAbty_normal.jpg', 'profile_image_url_https': 'https://pbs.twimg.com/profile_images/1206684446155399169/sb9LAbty_normal.jpg', 'profile_banner_url': 'https://pbs.twimg.com/profile_banners/411195290/1562111706', 'profile_link_color': 'C34242', 'profile_sidebar_border_color': 'FFFFFF', 'profile_sidebar_fill_color': 'C9C9C9', 'profile_text_color': '1C1F23', 'profile_use_background_image': True, 'has_extended_profile': False, 'default_profile': False, 'default_profile_image': False, 'following': False, 'follow_request_sent': False, 'notifications': False, 'translator_type': 'none'}, id=411195290, id_str='411195290', name='Becky', screen_name='seablue_becky', location='', description='balance & serenity', url=None, entities={'description': {'urls': []}}, protected=False, followers_count=81, friends_count=1353, listed_count=2, created_at=datetime.datetime(2011, 11, 13, 3, 33, 19), favourites_count=21219, utc_offset=None, time_zone=None, geo_enabled=False, verified=False, statuses_count=2282, lang=None, contributors_enabled=False, is_translator=False, is_translation_enabled=False, profile_background_color='07090B', profile_background_image_url='http://abs.twimg.com/images/themes/theme14/bg.gif', profile_background_image_url_https='https://abs.twimg.com/images/themes/theme14/bg.gif', profile_background_tile=True, profile_image_url='http://pbs.twimg.com/profile_images/1206684446155399169/sb9LAbty_normal.jpg', profile_image_url_https='https://pbs.twimg.com/profile_images/1206684446155399169/sb9LAbty_normal.jpg', profile_banner_url='https://pbs.twimg.com/profile_banners/411195290/1562111706', profile_link_color='C34242', profile_sidebar_border_color='FFFFFF', profile_sidebar_fill_color='C9C9C9', profile_text_color='1C1F23', profile_use_background_image=True, has_extended_profile=False, default_profile=False, default_profile_image=False, following=False, follow_request_sent=False, notifications=False, translator_type='none'), geo=None, coordinates=None, place=None, contributors=None, is_quote_status=False, retweet_count=0, favorite_count=0, favorited=False, retweeted=False, lang='en'), Status(_api=<tweepy.api.API object at 0x7fc4c148ef40>, _json={'created_at': 'Thu Oct 01 08:19:57 +0000 2020', 'id': 1311581606172389379, 'id_str': '1311581606172389379', 'full_text': 'Correction: Oman-A Sultanate Challenged story\\nSource: ABC News\\nhttps://t.co/Xbs8LcFcyc', 'truncated': False, 'display_text_range': [0, 86], 'entities': {'hashtags': [], 'symbols': [], 'user_mentions': [], 'urls': [{'url': 'https://t.co/Xbs8LcFcyc', 'expanded_url': 'https://thetop10news.com/2020/10/01/correction-oman-a-sultanate-challenged-story/', 'display_url': 'thetop10news.com/2020/10/01/cor…', 'indices': [63, 86]}]}, 'metadata': {'iso_language_code': 'en', 'result_type': 'recent'}, 'source': '<a href=\"https://thetop10news.com/\" rel=\"nofollow\">App for thetop10new.com</a>', 'in_reply_to_status_id': None, 'in_reply_to_status_id_str': None, 'in_reply_to_user_id': None, 'in_reply_to_user_id_str': None, 'in_reply_to_screen_name': None, 'user': {'id': 1213780071212707840, 'id_str': '1213780071212707840', 'name': 'TheTop10News', 'screen_name': 'TheTop10News2', 'location': '', 'description': 'TheTop10News - world news aggregator from the most famous world media.\\nAll world news in one place. \\nJoin to us.', 'url': 'https://t.co/7ABKmIXBoh', 'entities': {'url': {'urls': [{'url': 'https://t.co/7ABKmIXBoh', 'expanded_url': 'https://thetop10news.com/', 'display_url': 'thetop10news.com', 'indices': [0, 23]}]}, 'description': {'urls': []}}, 'protected': False, 'followers_count': 145, 'friends_count': 0, 'listed_count': 6, 'created_at': 'Sun Jan 05 11:11:51 +0000 2020', 'favourites_count': 0, 'utc_offset': None, 'time_zone': None, 'geo_enabled': False, 'verified': False, 'statuses_count': 211616, 'lang': None, 'contributors_enabled': False, 'is_translator': False, 'is_translation_enabled': False, 'profile_background_color': 'F5F8FA', 'profile_background_image_url': None, 'profile_background_image_url_https': None, 'profile_background_tile': False, 'profile_image_url': 'http://pbs.twimg.com/profile_images/1213780249017769985/ielSiQFh_normal.jpg', 'profile_image_url_https': 'https://pbs.twimg.com/profile_images/1213780249017769985/ielSiQFh_normal.jpg', 'profile_banner_url': 'https://pbs.twimg.com/profile_banners/1213780071212707840/1578312966', 'profile_link_color': '1DA1F2', 'profile_sidebar_border_color': 'C0DEED', 'profile_sidebar_fill_color': 'DDEEF6', 'profile_text_color': '333333', 'profile_use_background_image': True, 'has_extended_profile': False, 'default_profile': True, 'default_profile_image': False, 'following': False, 'follow_request_sent': False, 'notifications': False, 'translator_type': 'none'}, 'geo': None, 'coordinates': None, 'place': None, 'contributors': None, 'is_quote_status': False, 'retweet_count': 0, 'favorite_count': 0, 'favorited': False, 'retweeted': False, 'possibly_sensitive': False, 'lang': 'en'}, created_at=datetime.datetime(2020, 10, 1, 8, 19, 57), id=1311581606172389379, id_str='1311581606172389379', full_text='Correction: Oman-A Sultanate Challenged story\\nSource: ABC News\\nhttps://t.co/Xbs8LcFcyc', truncated=False, display_text_range=[0, 86], entities={'hashtags': [], 'symbols': [], 'user_mentions': [], 'urls': [{'url': 'https://t.co/Xbs8LcFcyc', 'expanded_url': 'https://thetop10news.com/2020/10/01/correction-oman-a-sultanate-challenged-story/', 'display_url': 'thetop10news.com/2020/10/01/cor…', 'indices': [63, 86]}]}, metadata={'iso_language_code': 'en', 'result_type': 'recent'}, source='App for thetop10new.com', source_url='https://thetop10news.com/', in_reply_to_status_id=None, in_reply_to_status_id_str=None, in_reply_to_user_id=None, in_reply_to_user_id_str=None, in_reply_to_screen_name=None, author=User(_api=<tweepy.api.API object at 0x7fc4c148ef40>, _json={'id': 1213780071212707840, 'id_str': '1213780071212707840', 'name': 'TheTop10News', 'screen_name': 'TheTop10News2', 'location': '', 'description': 'TheTop10News - world news aggregator from the most famous world media.\\nAll world news in one place. \\nJoin to us.', 'url': 'https://t.co/7ABKmIXBoh', 'entities': {'url': {'urls': [{'url': 'https://t.co/7ABKmIXBoh', 'expanded_url': 'https://thetop10news.com/', 'display_url': 'thetop10news.com', 'indices': [0, 23]}]}, 'description': {'urls': []}}, 'protected': False, 'followers_count': 145, 'friends_count': 0, 'listed_count': 6, 'created_at': 'Sun Jan 05 11:11:51 +0000 2020', 'favourites_count': 0, 'utc_offset': None, 'time_zone': None, 'geo_enabled': False, 'verified': False, 'statuses_count': 211616, 'lang': None, 'contributors_enabled': False, 'is_translator': False, 'is_translation_enabled': False, 'profile_background_color': 'F5F8FA', 'profile_background_image_url': None, 'profile_background_image_url_https': None, 'profile_background_tile': False, 'profile_image_url': 'http://pbs.twimg.com/profile_images/1213780249017769985/ielSiQFh_normal.jpg', 'profile_image_url_https': 'https://pbs.twimg.com/profile_images/1213780249017769985/ielSiQFh_normal.jpg', 'profile_banner_url': 'https://pbs.twimg.com/profile_banners/1213780071212707840/1578312966', 'profile_link_color': '1DA1F2', 'profile_sidebar_border_color': 'C0DEED', 'profile_sidebar_fill_color': 'DDEEF6', 'profile_text_color': '333333', 'profile_use_background_image': True, 'has_extended_profile': False, 'default_profile': True, 'default_profile_image': False, 'following': False, 'follow_request_sent': False, 'notifications': False, 'translator_type': 'none'}, id=1213780071212707840, id_str='1213780071212707840', name='TheTop10News', screen_name='TheTop10News2', location='', description='TheTop10News - world news aggregator from the most famous world media.\\nAll world news in one place. \\nJoin to us.', url='https://t.co/7ABKmIXBoh', entities={'url': {'urls': [{'url': 'https://t.co/7ABKmIXBoh', 'expanded_url': 'https://thetop10news.com/', 'display_url': 'thetop10news.com', 'indices': [0, 23]}]}, 'description': {'urls': []}}, protected=False, followers_count=145, friends_count=0, listed_count=6, created_at=datetime.datetime(2020, 1, 5, 11, 11, 51), favourites_count=0, utc_offset=None, time_zone=None, geo_enabled=False, verified=False, statuses_count=211616, lang=None, contributors_enabled=False, is_translator=False, is_translation_enabled=False, profile_background_color='F5F8FA', profile_background_image_url=None, profile_background_image_url_https=None, profile_background_tile=False, profile_image_url='http://pbs.twimg.com/profile_images/1213780249017769985/ielSiQFh_normal.jpg', profile_image_url_https='https://pbs.twimg.com/profile_images/1213780249017769985/ielSiQFh_normal.jpg', profile_banner_url='https://pbs.twimg.com/profile_banners/1213780071212707840/1578312966', profile_link_color='1DA1F2', profile_sidebar_border_color='C0DEED', profile_sidebar_fill_color='DDEEF6', profile_text_color='333333', profile_use_background_image=True, has_extended_profile=False, default_profile=True, default_profile_image=False, following=False, follow_request_sent=False, notifications=False, translator_type='none'), user=User(_api=<tweepy.api.API object at 0x7fc4c148ef40>, _json={'id': 1213780071212707840, 'id_str': '1213780071212707840', 'name': 'TheTop10News', 'screen_name': 'TheTop10News2', 'location': '', 'description': 'TheTop10News - world news aggregator from the most famous world media.\\nAll world news in one place. \\nJoin to us.', 'url': 'https://t.co/7ABKmIXBoh', 'entities': {'url': {'urls': [{'url': 'https://t.co/7ABKmIXBoh', 'expanded_url': 'https://thetop10news.com/', 'display_url': 'thetop10news.com', 'indices': [0, 23]}]}, 'description': {'urls': []}}, 'protected': False, 'followers_count': 145, 'friends_count': 0, 'listed_count': 6, 'created_at': 'Sun Jan 05 11:11:51 +0000 2020', 'favourites_count': 0, 'utc_offset': None, 'time_zone': None, 'geo_enabled': False, 'verified': False, 'statuses_count': 211616, 'lang': None, 'contributors_enabled': False, 'is_translator': False, 'is_translation_enabled': False, 'profile_background_color': 'F5F8FA', 'profile_background_image_url': None, 'profile_background_image_url_https': None, 'profile_background_tile': False, 'profile_image_url': 'http://pbs.twimg.com/profile_images/1213780249017769985/ielSiQFh_normal.jpg', 'profile_image_url_https': 'https://pbs.twimg.com/profile_images/1213780249017769985/ielSiQFh_normal.jpg', 'profile_banner_url': 'https://pbs.twimg.com/profile_banners/1213780071212707840/1578312966', 'profile_link_color': '1DA1F2', 'profile_sidebar_border_color': 'C0DEED', 'profile_sidebar_fill_color': 'DDEEF6', 'profile_text_color': '333333', 'profile_use_background_image': True, 'has_extended_profile': False, 'default_profile': True, 'default_profile_image': False, 'following': False, 'follow_request_sent': False, 'notifications': False, 'translator_type': 'none'}, id=1213780071212707840, id_str='1213780071212707840', name='TheTop10News', screen_name='TheTop10News2', location='', description='TheTop10News - world news aggregator from the most famous world media.\\nAll world news in one place. \\nJoin to us.', url='https://t.co/7ABKmIXBoh', entities={'url': {'urls': [{'url': 'https://t.co/7ABKmIXBoh', 'expanded_url': 'https://thetop10news.com/', 'display_url': 'thetop10news.com', 'indices': [0, 23]}]}, 'description': {'urls': []}}, protected=False, followers_count=145, friends_count=0, listed_count=6, created_at=datetime.datetime(2020, 1, 5, 11, 11, 51), favourites_count=0, utc_offset=None, time_zone=None, geo_enabled=False, verified=False, statuses_count=211616, lang=None, contributors_enabled=False, is_translator=False, is_translation_enabled=False, profile_background_color='F5F8FA', profile_background_image_url=None, profile_background_image_url_https=None, profile_background_tile=False, profile_image_url='http://pbs.twimg.com/profile_images/1213780249017769985/ielSiQFh_normal.jpg', profile_image_url_https='https://pbs.twimg.com/profile_images/1213780249017769985/ielSiQFh_normal.jpg', profile_banner_url='https://pbs.twimg.com/profile_banners/1213780071212707840/1578312966', profile_link_color='1DA1F2', profile_sidebar_border_color='C0DEED', profile_sidebar_fill_color='DDEEF6', profile_text_color='333333', profile_use_background_image=True, has_extended_profile=False, default_profile=True, default_profile_image=False, following=False, follow_request_sent=False, notifications=False, translator_type='none'), geo=None, coordinates=None, place=None, contributors=None, is_quote_status=False, retweet_count=0, favorite_count=0, favorited=False, retweeted=False, possibly_sensitive=False, lang='en'), Status(_api=<tweepy.api.API object at 0x7fc4c148ef40>, _json={'created_at': 'Thu Oct 01 08:19:56 +0000 2020', 'id': 1311581599570460674, 'id_str': '1311581599570460674', 'full_text': 'Fascinating interview with @Wrigley_CA on Australian radio about the somewhat crazy Pleistocene Park in Siberia, where they use a beat up old military tank to simulate a mammoth, among other things! https://t.co/L4LpRqCPhS', 'truncated': False, 'display_text_range': [0, 222], 'entities': {'hashtags': [], 'symbols': [], 'user_mentions': [{'screen_name': 'Wrigley_CA', 'name': 'Charlotte Wrigley', 'id': 2517258194, 'id_str': '2517258194', 'indices': [27, 38]}], 'urls': [{'url': 'https://t.co/L4LpRqCPhS', 'expanded_url': 'https://www.abc.net.au/radionational/programs/sundayextra/pleistocene-park/12706058', 'display_url': 'abc.net.au/radionational/…', 'indices': [199, 222]}]}, 'metadata': {'iso_language_code': 'en', 'result_type': 'recent'}, 'source': '<a href=\"https://mobile.twitter.com\" rel=\"nofollow\">Twitter Web App</a>', 'in_reply_to_status_id': None, 'in_reply_to_status_id_str': None, 'in_reply_to_user_id': None, 'in_reply_to_user_id_str': None, 'in_reply_to_screen_name': None, 'user': {'id': 20011147, 'id_str': '20011147', 'name': 'Peter Gothard', 'screen_name': 'petergothard', 'location': 'London and thereabouts', 'description': 'Technical writing @GDSTeam', 'url': 'https://t.co/4rW2Zz2f2h', 'entities': {'url': {'urls': [{'url': 'https://t.co/4rW2Zz2f2h', 'expanded_url': 'https://www.linkedin.com/in/peter-gothard/', 'display_url': 'linkedin.com/in/peter-gotha…', 'indices': [0, 23]}]}, 'description': {'urls': []}}, 'protected': False, 'followers_count': 3997, 'friends_count': 1670, 'listed_count': 241, 'created_at': 'Tue Feb 03 22:50:06 +0000 2009', 'favourites_count': 4895, 'utc_offset': None, 'time_zone': None, 'geo_enabled': False, 'verified': False, 'statuses_count': 46463, 'lang': None, 'contributors_enabled': False, 'is_translator': False, 'is_translation_enabled': False, 'profile_background_color': '000000', 'profile_background_image_url': 'http://abs.twimg.com/images/themes/theme1/bg.png', 'profile_background_image_url_https': 'https://abs.twimg.com/images/themes/theme1/bg.png', 'profile_background_tile': True, 'profile_image_url': 'http://pbs.twimg.com/profile_images/1296478907957379073/u7AbuHvh_normal.jpg', 'profile_image_url_https': 'https://pbs.twimg.com/profile_images/1296478907957379073/u7AbuHvh_normal.jpg', 'profile_banner_url': 'https://pbs.twimg.com/profile_banners/20011147/1600237232', 'profile_link_color': 'B0681A', 'profile_sidebar_border_color': '000000', 'profile_sidebar_fill_color': '222020', 'profile_text_color': '94968D', 'profile_use_background_image': True, 'has_extended_profile': False, 'default_profile': False, 'default_profile_image': False, 'following': False, 'follow_request_sent': False, 'notifications': False, 'translator_type': 'none'}, 'geo': None, 'coordinates': None, 'place': None, 'contributors': None, 'is_quote_status': False, 'retweet_count': 0, 'favorite_count': 0, 'favorited': False, 'retweeted': False, 'possibly_sensitive': False, 'lang': 'en'}, created_at=datetime.datetime(2020, 10, 1, 8, 19, 56), id=1311581599570460674, id_str='1311581599570460674', full_text='Fascinating interview with @Wrigley_CA on Australian radio about the somewhat crazy Pleistocene Park in Siberia, where they use a beat up old military tank to simulate a mammoth, among other things! https://t.co/L4LpRqCPhS', truncated=False, display_text_range=[0, 222], entities={'hashtags': [], 'symbols': [], 'user_mentions': [{'screen_name': 'Wrigley_CA', 'name': 'Charlotte Wrigley', 'id': 2517258194, 'id_str': '2517258194', 'indices': [27, 38]}], 'urls': [{'url': 'https://t.co/L4LpRqCPhS', 'expanded_url': 'https://www.abc.net.au/radionational/programs/sundayextra/pleistocene-park/12706058', 'display_url': 'abc.net.au/radionational/…', 'indices': [199, 222]}]}, metadata={'iso_language_code': 'en', 'result_type': 'recent'}, source='Twitter Web App', source_url='https://mobile.twitter.com', in_reply_to_status_id=None, in_reply_to_status_id_str=None, in_reply_to_user_id=None, in_reply_to_user_id_str=None, in_reply_to_screen_name=None, author=User(_api=<tweepy.api.API object at 0x7fc4c148ef40>, _json={'id': 20011147, 'id_str': '20011147', 'name': 'Peter Gothard', 'screen_name': 'petergothard', 'location': 'London and thereabouts', 'description': 'Technical writing @GDSTeam', 'url': 'https://t.co/4rW2Zz2f2h', 'entities': {'url': {'urls': [{'url': 'https://t.co/4rW2Zz2f2h', 'expanded_url': 'https://www.linkedin.com/in/peter-gothard/', 'display_url': 'linkedin.com/in/peter-gotha…', 'indices': [0, 23]}]}, 'description': {'urls': []}}, 'protected': False, 'followers_count': 3997, 'friends_count': 1670, 'listed_count': 241, 'created_at': 'Tue Feb 03 22:50:06 +0000 2009', 'favourites_count': 4895, 'utc_offset': None, 'time_zone': None, 'geo_enabled': False, 'verified': False, 'statuses_count': 46463, 'lang': None, 'contributors_enabled': False, 'is_translator': False, 'is_translation_enabled': False, 'profile_background_color': '000000', 'profile_background_image_url': 'http://abs.twimg.com/images/themes/theme1/bg.png', 'profile_background_image_url_https': 'https://abs.twimg.com/images/themes/theme1/bg.png', 'profile_background_tile': True, 'profile_image_url': 'http://pbs.twimg.com/profile_images/1296478907957379073/u7AbuHvh_normal.jpg', 'profile_image_url_https': 'https://pbs.twimg.com/profile_images/1296478907957379073/u7AbuHvh_normal.jpg', 'profile_banner_url': 'https://pbs.twimg.com/profile_banners/20011147/1600237232', 'profile_link_color': 'B0681A', 'profile_sidebar_border_color': '000000', 'profile_sidebar_fill_color': '222020', 'profile_text_color': '94968D', 'profile_use_background_image': True, 'has_extended_profile': False, 'default_profile': False, 'default_profile_image': False, 'following': False, 'follow_request_sent': False, 'notifications': False, 'translator_type': 'none'}, id=20011147, id_str='20011147', name='Peter Gothard', screen_name='petergothard', location='London and thereabouts', description='Technical writing @GDSTeam', url='https://t.co/4rW2Zz2f2h', entities={'url': {'urls': [{'url': 'https://t.co/4rW2Zz2f2h', 'expanded_url': 'https://www.linkedin.com/in/peter-gothard/', 'display_url': 'linkedin.com/in/peter-gotha…', 'indices': [0, 23]}]}, 'description': {'urls': []}}, protected=False, followers_count=3997, friends_count=1670, listed_count=241, created_at=datetime.datetime(2009, 2, 3, 22, 50, 6), favourites_count=4895, utc_offset=None, time_zone=None, geo_enabled=False, verified=False, statuses_count=46463, lang=None, contributors_enabled=False, is_translator=False, is_translation_enabled=False, profile_background_color='000000', profile_background_image_url='http://abs.twimg.com/images/themes/theme1/bg.png', profile_background_image_url_https='https://abs.twimg.com/images/themes/theme1/bg.png', profile_background_tile=True, profile_image_url='http://pbs.twimg.com/profile_images/1296478907957379073/u7AbuHvh_normal.jpg', profile_image_url_https='https://pbs.twimg.com/profile_images/1296478907957379073/u7AbuHvh_normal.jpg', profile_banner_url='https://pbs.twimg.com/profile_banners/20011147/1600237232', profile_link_color='B0681A', profile_sidebar_border_color='000000', profile_sidebar_fill_color='222020', profile_text_color='94968D', profile_use_background_image=True, has_extended_profile=False, default_profile=False, default_profile_image=False, following=False, follow_request_sent=False, notifications=False, translator_type='none'), user=User(_api=<tweepy.api.API object at 0x7fc4c148ef40>, _json={'id': 20011147, 'id_str': '20011147', 'name': 'Peter Gothard', 'screen_name': 'petergothard', 'location': 'London and thereabouts', 'description': 'Technical writing @GDSTeam', 'url': 'https://t.co/4rW2Zz2f2h', 'entities': {'url': {'urls': [{'url': 'https://t.co/4rW2Zz2f2h', 'expanded_url': 'https://www.linkedin.com/in/peter-gothard/', 'display_url': 'linkedin.com/in/peter-gotha…', 'indices': [0, 23]}]}, 'description': {'urls': []}}, 'protected': False, 'followers_count': 3997, 'friends_count': 1670, 'listed_count': 241, 'created_at': 'Tue Feb 03 22:50:06 +0000 2009', 'favourites_count': 4895, 'utc_offset': None, 'time_zone': None, 'geo_enabled': False, 'verified': False, 'statuses_count': 46463, 'lang': None, 'contributors_enabled': False, 'is_translator': False, 'is_translation_enabled': False, 'profile_background_color': '000000', 'profile_background_image_url': 'http://abs.twimg.com/images/themes/theme1/bg.png', 'profile_background_image_url_https': 'https://abs.twimg.com/images/themes/theme1/bg.png', 'profile_background_tile': True, 'profile_image_url': 'http://pbs.twimg.com/profile_images/1296478907957379073/u7AbuHvh_normal.jpg', 'profile_image_url_https': 'https://pbs.twimg.com/profile_images/1296478907957379073/u7AbuHvh_normal.jpg', 'profile_banner_url': 'https://pbs.twimg.com/profile_banners/20011147/1600237232', 'profile_link_color': 'B0681A', 'profile_sidebar_border_color': '000000', 'profile_sidebar_fill_color': '222020', 'profile_text_color': '94968D', 'profile_use_background_image': True, 'has_extended_profile': False, 'default_profile': False, 'default_profile_image': False, 'following': False, 'follow_request_sent': False, 'notifications': False, 'translator_type': 'none'}, id=20011147, id_str='20011147', name='Peter Gothard', screen_name='petergothard', location='London and thereabouts', description='Technical writing @GDSTeam', url='https://t.co/4rW2Zz2f2h', entities={'url': {'urls': [{'url': 'https://t.co/4rW2Zz2f2h', 'expanded_url': 'https://www.linkedin.com/in/peter-gothard/', 'display_url': 'linkedin.com/in/peter-gotha…', 'indices': [0, 23]}]}, 'description': {'urls': []}}, protected=False, followers_count=3997, friends_count=1670, listed_count=241, created_at=datetime.datetime(2009, 2, 3, 22, 50, 6), favourites_count=4895, utc_offset=None, time_zone=None, geo_enabled=False, verified=False, statuses_count=46463, lang=None, contributors_enabled=False, is_translator=False, is_translation_enabled=False, profile_background_color='000000', profile_background_image_url='http://abs.twimg.com/images/themes/theme1/bg.png', profile_background_image_url_https='https://abs.twimg.com/images/themes/theme1/bg.png', profile_background_tile=True, profile_image_url='http://pbs.twimg.com/profile_images/1296478907957379073/u7AbuHvh_normal.jpg', profile_image_url_https='https://pbs.twimg.com/profile_images/1296478907957379073/u7AbuHvh_normal.jpg', profile_banner_url='https://pbs.twimg.com/profile_banners/20011147/1600237232', profile_link_color='B0681A', profile_sidebar_border_color='000000', profile_sidebar_fill_color='222020', profile_text_color='94968D', profile_use_background_image=True, has_extended_profile=False, default_profile=False, default_profile_image=False, following=False, follow_request_sent=False, notifications=False, translator_type='none'), geo=None, coordinates=None, place=None, contributors=None, is_quote_status=False, retweet_count=0, favorite_count=0, favorited=False, retweeted=False, possibly_sensitive=False, lang='en'), Status(_api=<tweepy.api.API object at 0x7fc4c148ef40>, _json={'created_at': 'Thu Oct 01 08:19:46 +0000 2020', 'id': 1311581560823447552, 'id_str': '1311581560823447552', 'full_text': 'WONDERFUL story \"Commercial laundry discovers it has 25 migrant workers with 31 untapped degrees\" https://t.co/NElQdn9yNJ @auspol #highereducation #Migration', 'truncated': False, 'display_text_range': [0, 157], 'entities': {'hashtags': [{'text': 'highereducation', 'indices': [130, 146]}, {'text': 'Migration', 'indices': [147, 157]}], 'symbols': [], 'user_mentions': [{'screen_name': 'Auspol', 'name': 'Auspol', 'id': 62587400, 'id_str': '62587400', 'indices': [122, 129]}], 'urls': [{'url': 'https://t.co/NElQdn9yNJ', 'expanded_url': 'https://www.abc.net.au/news/2020-10-01/commercial-laundry-discovers-25-staff-with-31-degrees/12718622', 'display_url': 'abc.net.au/news/2020-10-0…', 'indices': [98, 121]}]}, 'metadata': {'iso_language_code': 'en', 'result_type': 'recent'}, 'source': '<a href=\"https://mobile.twitter.com\" rel=\"nofollow\">Twitter Web App</a>', 'in_reply_to_status_id': None, 'in_reply_to_status_id_str': None, 'in_reply_to_user_id': None, 'in_reply_to_user_id_str': None, 'in_reply_to_screen_name': None, 'user': {'id': 279482851, 'id_str': '279482851', 'name': \"Dr Erin O'Dwyer\", 'screen_name': 'ErinODwyer', 'location': 'Sydney, Australia', 'description': 'Journalist. Mother of twins. Adjunct Lecturer, University of Sydney. Views mine.', 'url': 'https://t.co/LpelD3Y4gz', 'entities': {'url': {'urls': [{'url': 'https://t.co/LpelD3Y4gz', 'expanded_url': 'http://www.erinodwyer.com', 'display_url': 'erinodwyer.com', 'indices': [0, 23]}]}, 'description': {'urls': []}}, 'protected': False, 'followers_count': 669, 'friends_count': 951, 'listed_count': 42, 'created_at': 'Sat Apr 09 10:41:41 +0000 2011', 'favourites_count': 210, 'utc_offset': None, 'time_zone': None, 'geo_enabled': True, 'verified': False, 'statuses_count': 1843, 'lang': None, 'contributors_enabled': False, 'is_translator': False, 'is_translation_enabled': False, 'profile_background_color': '1A1B1F', 'profile_background_image_url': 'http://abs.twimg.com/images/themes/theme9/bg.gif', 'profile_background_image_url_https': 'https://abs.twimg.com/images/themes/theme9/bg.gif', 'profile_background_tile': False, 'profile_image_url': 'http://pbs.twimg.com/profile_images/2327745881/nco59h2b74i81u542b7n_normal.jpeg', 'profile_image_url_https': 'https://pbs.twimg.com/profile_images/2327745881/nco59h2b74i81u542b7n_normal.jpeg', 'profile_banner_url': 'https://pbs.twimg.com/profile_banners/279482851/1447925893', 'profile_link_color': '2FC2EF', 'profile_sidebar_border_color': '181A1E', 'profile_sidebar_fill_color': '252429', 'profile_text_color': '666666', 'profile_use_background_image': True, 'has_extended_profile': False, 'default_profile': False, 'default_profile_image': False, 'following': False, 'follow_request_sent': False, 'notifications': False, 'translator_type': 'none'}, 'geo': None, 'coordinates': None, 'place': None, 'contributors': None, 'is_quote_status': False, 'retweet_count': 0, 'favorite_count': 0, 'favorited': False, 'retweeted': False, 'possibly_sensitive': False, 'lang': 'en'}, created_at=datetime.datetime(2020, 10, 1, 8, 19, 46), id=1311581560823447552, id_str='1311581560823447552', full_text='WONDERFUL story \"Commercial laundry discovers it has 25 migrant workers with 31 untapped degrees\" https://t.co/NElQdn9yNJ @auspol #highereducation #Migration', truncated=False, display_text_range=[0, 157], entities={'hashtags': [{'text': 'highereducation', 'indices': [130, 146]}, {'text': 'Migration', 'indices': [147, 157]}], 'symbols': [], 'user_mentions': [{'screen_name': 'Auspol', 'name': 'Auspol', 'id': 62587400, 'id_str': '62587400', 'indices': [122, 129]}], 'urls': [{'url': 'https://t.co/NElQdn9yNJ', 'expanded_url': 'https://www.abc.net.au/news/2020-10-01/commercial-laundry-discovers-25-staff-with-31-degrees/12718622', 'display_url': 'abc.net.au/news/2020-10-0…', 'indices': [98, 121]}]}, metadata={'iso_language_code': 'en', 'result_type': 'recent'}, source='Twitter Web App', source_url='https://mobile.twitter.com', in_reply_to_status_id=None, in_reply_to_status_id_str=None, in_reply_to_user_id=None, in_reply_to_user_id_str=None, in_reply_to_screen_name=None, author=User(_api=<tweepy.api.API object at 0x7fc4c148ef40>, _json={'id': 279482851, 'id_str': '279482851', 'name': \"Dr Erin O'Dwyer\", 'screen_name': 'ErinODwyer', 'location': 'Sydney, Australia', 'description': 'Journalist. Mother of twins. Adjunct Lecturer, University of Sydney. Views mine.', 'url': 'https://t.co/LpelD3Y4gz', 'entities': {'url': {'urls': [{'url': 'https://t.co/LpelD3Y4gz', 'expanded_url': 'http://www.erinodwyer.com', 'display_url': 'erinodwyer.com', 'indices': [0, 23]}]}, 'description': {'urls': []}}, 'protected': False, 'followers_count': 669, 'friends_count': 951, 'listed_count': 42, 'created_at': 'Sat Apr 09 10:41:41 +0000 2011', 'favourites_count': 210, 'utc_offset': None, 'time_zone': None, 'geo_enabled': True, 'verified': False, 'statuses_count': 1843, 'lang': None, 'contributors_enabled': False, 'is_translator': False, 'is_translation_enabled': False, 'profile_background_color': '1A1B1F', 'profile_background_image_url': 'http://abs.twimg.com/images/themes/theme9/bg.gif', 'profile_background_image_url_https': 'https://abs.twimg.com/images/themes/theme9/bg.gif', 'profile_background_tile': False, 'profile_image_url': 'http://pbs.twimg.com/profile_images/2327745881/nco59h2b74i81u542b7n_normal.jpeg', 'profile_image_url_https': 'https://pbs.twimg.com/profile_images/2327745881/nco59h2b74i81u542b7n_normal.jpeg', 'profile_banner_url': 'https://pbs.twimg.com/profile_banners/279482851/1447925893', 'profile_link_color': '2FC2EF', 'profile_sidebar_border_color': '181A1E', 'profile_sidebar_fill_color': '252429', 'profile_text_color': '666666', 'profile_use_background_image': True, 'has_extended_profile': False, 'default_profile': False, 'default_profile_image': False, 'following': False, 'follow_request_sent': False, 'notifications': False, 'translator_type': 'none'}, id=279482851, id_str='279482851', name=\"Dr Erin O'Dwyer\", screen_name='ErinODwyer', location='Sydney, Australia', description='Journalist. Mother of twins. Adjunct Lecturer, University of Sydney. Views mine.', url='https://t.co/LpelD3Y4gz', entities={'url': {'urls': [{'url': 'https://t.co/LpelD3Y4gz', 'expanded_url': 'http://www.erinodwyer.com', 'display_url': 'erinodwyer.com', 'indices': [0, 23]}]}, 'description': {'urls': []}}, protected=False, followers_count=669, friends_count=951, listed_count=42, created_at=datetime.datetime(2011, 4, 9, 10, 41, 41), favourites_count=210, utc_offset=None, time_zone=None, geo_enabled=True, verified=False, statuses_count=1843, lang=None, contributors_enabled=False, is_translator=False, is_translation_enabled=False, profile_background_color='1A1B1F', profile_background_image_url='http://abs.twimg.com/images/themes/theme9/bg.gif', profile_background_image_url_https='https://abs.twimg.com/images/themes/theme9/bg.gif', profile_background_tile=False, profile_image_url='http://pbs.twimg.com/profile_images/2327745881/nco59h2b74i81u542b7n_normal.jpeg', profile_image_url_https='https://pbs.twimg.com/profile_images/2327745881/nco59h2b74i81u542b7n_normal.jpeg', profile_banner_url='https://pbs.twimg.com/profile_banners/279482851/1447925893', profile_link_color='2FC2EF', profile_sidebar_border_color='181A1E', profile_sidebar_fill_color='252429', profile_text_color='666666', profile_use_background_image=True, has_extended_profile=False, default_profile=False, default_profile_image=False, following=False, follow_request_sent=False, notifications=False, translator_type='none'), user=User(_api=<tweepy.api.API object at 0x7fc4c148ef40>, _json={'id': 279482851, 'id_str': '279482851', 'name': \"Dr Erin O'Dwyer\", 'screen_name': 'ErinODwyer', 'location': 'Sydney, Australia', 'description': 'Journalist. Mother of twins. Adjunct Lecturer, University of Sydney. Views mine.', 'url': 'https://t.co/LpelD3Y4gz', 'entities': {'url': {'urls': [{'url': 'https://t.co/LpelD3Y4gz', 'expanded_url': 'http://www.erinodwyer.com', 'display_url': 'erinodwyer.com', 'indices': [0, 23]}]}, 'description': {'urls': []}}, 'protected': False, 'followers_count': 669, 'friends_count': 951, 'listed_count': 42, 'created_at': 'Sat Apr 09 10:41:41 +0000 2011', 'favourites_count': 210, 'utc_offset': None, 'time_zone': None, 'geo_enabled': True, 'verified': False, 'statuses_count': 1843, 'lang': None, 'contributors_enabled': False, 'is_translator': False, 'is_translation_enabled': False, 'profile_background_color': '1A1B1F', 'profile_background_image_url': 'http://abs.twimg.com/images/themes/theme9/bg.gif', 'profile_background_image_url_https': 'https://abs.twimg.com/images/themes/theme9/bg.gif', 'profile_background_tile': False, 'profile_image_url': 'http://pbs.twimg.com/profile_images/2327745881/nco59h2b74i81u542b7n_normal.jpeg', 'profile_image_url_https': 'https://pbs.twimg.com/profile_images/2327745881/nco59h2b74i81u542b7n_normal.jpeg', 'profile_banner_url': 'https://pbs.twimg.com/profile_banners/279482851/1447925893', 'profile_link_color': '2FC2EF', 'profile_sidebar_border_color': '181A1E', 'profile_sidebar_fill_color': '252429', 'profile_text_color': '666666', 'profile_use_background_image': True, 'has_extended_profile': False, 'default_profile': False, 'default_profile_image': False, 'following': False, 'follow_request_sent': False, 'notifications': False, 'translator_type': 'none'}, id=279482851, id_str='279482851', name=\"Dr Erin O'Dwyer\", screen_name='ErinODwyer', location='Sydney, Australia', description='Journalist. Mother of twins. Adjunct Lecturer, University of Sydney. Views mine.', url='https://t.co/LpelD3Y4gz', entities={'url': {'urls': [{'url': 'https://t.co/LpelD3Y4gz', 'expanded_url': 'http://www.erinodwyer.com', 'display_url': 'erinodwyer.com', 'indices': [0, 23]}]}, 'description': {'urls': []}}, protected=False, followers_count=669, friends_count=951, listed_count=42, created_at=datetime.datetime(2011, 4, 9, 10, 41, 41), favourites_count=210, utc_offset=None, time_zone=None, geo_enabled=True, verified=False, statuses_count=1843, lang=None, contributors_enabled=False, is_translator=False, is_translation_enabled=False, profile_background_color='1A1B1F', profile_background_image_url='http://abs.twimg.com/images/themes/theme9/bg.gif', profile_background_image_url_https='https://abs.twimg.com/images/themes/theme9/bg.gif', profile_background_tile=False, profile_image_url='http://pbs.twimg.com/profile_images/2327745881/nco59h2b74i81u542b7n_normal.jpeg', profile_image_url_https='https://pbs.twimg.com/profile_images/2327745881/nco59h2b74i81u542b7n_normal.jpeg', profile_banner_url='https://pbs.twimg.com/profile_banners/279482851/1447925893', profile_link_color='2FC2EF', profile_sidebar_border_color='181A1E', profile_sidebar_fill_color='252429', profile_text_color='666666', profile_use_background_image=True, has_extended_profile=False, default_profile=False, default_profile_image=False, following=False, follow_request_sent=False, notifications=False, translator_type='none'), geo=None, coordinates=None, place=None, contributors=None, is_quote_status=False, retweet_count=0, favorite_count=0, favorited=False, retweeted=False, possibly_sensitive=False, lang='en'), Status(_api=<tweepy.api.API object at 0x7fc4c148ef40>, _json={'created_at': 'Thu Oct 01 08:19:36 +0000 2020', 'id': 1311581519262044160, 'id_str': '1311581519262044160', 'full_text': 'Watch ABC News live https://t.co/G3skvMbM4d', 'truncated': False, 'display_text_range': [0, 43], 'entities': {'hashtags': [], 'symbols': [], 'user_mentions': [], 'urls': [{'url': 'https://t.co/G3skvMbM4d', 'expanded_url': 'http://blog.naver.com/j1a2s3o4n/222104429201', 'display_url': 'blog.naver.com/j1a2s3o4n/2221…', 'indices': [20, 43]}]}, 'metadata': {'iso_language_code': 'en', 'result_type': 'recent'}, 'source': '<a href=\"http://www.naver.com\" rel=\"nofollow\">Naver</a>', 'in_reply_to_status_id': None, 'in_reply_to_status_id_str': None, 'in_reply_to_user_id': None, 'in_reply_to_user_id_str': None, 'in_reply_to_screen_name': None, 'user': {'id': 525491031, 'id_str': '525491031', 'name': '비주얼사운드 (English)전자책', 'screen_name': 'visualsoundjas1', 'location': 'New Jersey', 'description': 'English sound sculptor, 듣기발음기호, 내면의 리듬, 꼭 하고싶은 일, imagination, creative, 새로운 분야, 소리방앗간, 영어발음교정, 영어듣기,그림,조각, 소리보다 빠른 빛의 속도로, 10초에 책 한권을, 무한반복,', 'url': 'http://t.co/1Wr0ko76G3', 'entities': {'url': {'urls': [{'url': 'http://t.co/1Wr0ko76G3', 'expanded_url': 'http://blog.naver.com/j1a2s3o4n', 'display_url': 'blog.naver.com/j1a2s3o4n', 'indices': [0, 22]}]}, 'description': {'urls': []}}, 'protected': False, 'followers_count': 444, 'friends_count': 1092, 'listed_count': 1, 'created_at': 'Thu Mar 15 15:53:19 +0000 2012', 'favourites_count': 4, 'utc_offset': None, 'time_zone': None, 'geo_enabled': False, 'verified': False, 'statuses_count': 3322, 'lang': None, 'contributors_enabled': False, 'is_translator': False, 'is_translation_enabled': False, 'profile_background_color': 'C0DEED', 'profile_background_image_url': 'http://abs.twimg.com/images/themes/theme1/bg.png', 'profile_background_image_url_https': 'https://abs.twimg.com/images/themes/theme1/bg.png', 'profile_background_tile': False, 'profile_image_url': 'http://pbs.twimg.com/profile_images/1900325845/visual_sound_v.1-2-a_001_normal.jpg', 'profile_image_url_https': 'https://pbs.twimg.com/profile_images/1900325845/visual_sound_v.1-2-a_001_normal.jpg', 'profile_link_color': '1DA1F2', 'profile_sidebar_border_color': 'C0DEED', 'profile_sidebar_fill_color': 'DDEEF6', 'profile_text_color': '333333', 'profile_use_background_image': True, 'has_extended_profile': False, 'default_profile': True, 'default_profile_image': False, 'following': False, 'follow_request_sent': False, 'notifications': False, 'translator_type': 'none'}, 'geo': None, 'coordinates': None, 'place': None, 'contributors': None, 'is_quote_status': False, 'retweet_count': 0, 'favorite_count': 0, 'favorited': False, 'retweeted': False, 'possibly_sensitive': False, 'lang': 'en'}, created_at=datetime.datetime(2020, 10, 1, 8, 19, 36), id=1311581519262044160, id_str='1311581519262044160', full_text='Watch ABC News live https://t.co/G3skvMbM4d', truncated=False, display_text_range=[0, 43], entities={'hashtags': [], 'symbols': [], 'user_mentions': [], 'urls': [{'url': 'https://t.co/G3skvMbM4d', 'expanded_url': 'http://blog.naver.com/j1a2s3o4n/222104429201', 'display_url': 'blog.naver.com/j1a2s3o4n/2221…', 'indices': [20, 43]}]}, metadata={'iso_language_code': 'en', 'result_type': 'recent'}, source='Naver', source_url='http://www.naver.com', in_reply_to_status_id=None, in_reply_to_status_id_str=None, in_reply_to_user_id=None, in_reply_to_user_id_str=None, in_reply_to_screen_name=None, author=User(_api=<tweepy.api.API object at 0x7fc4c148ef40>, _json={'id': 525491031, 'id_str': '525491031', 'name': '비주얼사운드 (English)전자책', 'screen_name': 'visualsoundjas1', 'location': 'New Jersey', 'description': 'English sound sculptor, 듣기발음기호, 내면의 리듬, 꼭 하고싶은 일, imagination, creative, 새로운 분야, 소리방앗간, 영어발음교정, 영어듣기,그림,조각, 소리보다 빠른 빛의 속도로, 10초에 책 한권을, 무한반복,', 'url': 'http://t.co/1Wr0ko76G3', 'entities': {'url': {'urls': [{'url': 'http://t.co/1Wr0ko76G3', 'expanded_url': 'http://blog.naver.com/j1a2s3o4n', 'display_url': 'blog.naver.com/j1a2s3o4n', 'indices': [0, 22]}]}, 'description': {'urls': []}}, 'protected': False, 'followers_count': 444, 'friends_count': 1092, 'listed_count': 1, 'created_at': 'Thu Mar 15 15:53:19 +0000 2012', 'favourites_count': 4, 'utc_offset': None, 'time_zone': None, 'geo_enabled': False, 'verified': False, 'statuses_count': 3322, 'lang': None, 'contributors_enabled': False, 'is_translator': False, 'is_translation_enabled': False, 'profile_background_color': 'C0DEED', 'profile_background_image_url': 'http://abs.twimg.com/images/themes/theme1/bg.png', 'profile_background_image_url_https': 'https://abs.twimg.com/images/themes/theme1/bg.png', 'profile_background_tile': False, 'profile_image_url': 'http://pbs.twimg.com/profile_images/1900325845/visual_sound_v.1-2-a_001_normal.jpg', 'profile_image_url_https': 'https://pbs.twimg.com/profile_images/1900325845/visual_sound_v.1-2-a_001_normal.jpg', 'profile_link_color': '1DA1F2', 'profile_sidebar_border_color': 'C0DEED', 'profile_sidebar_fill_color': 'DDEEF6', 'profile_text_color': '333333', 'profile_use_background_image': True, 'has_extended_profile': False, 'default_profile': True, 'default_profile_image': False, 'following': False, 'follow_request_sent': False, 'notifications': False, 'translator_type': 'none'}, id=525491031, id_str='525491031', name='비주얼사운드 (English)전자책', screen_name='visualsoundjas1', location='New Jersey', description='English sound sculptor, 듣기발음기호, 내면의 리듬, 꼭 하고싶은 일, imagination, creative, 새로운 분야, 소리방앗간, 영어발음교정, 영어듣기,그림,조각, 소리보다 빠른 빛의 속도로, 10초에 책 한권을, 무한반복,', url='http://t.co/1Wr0ko76G3', entities={'url': {'urls': [{'url': 'http://t.co/1Wr0ko76G3', 'expanded_url': 'http://blog.naver.com/j1a2s3o4n', 'display_url': 'blog.naver.com/j1a2s3o4n', 'indices': [0, 22]}]}, 'description': {'urls': []}}, protected=False, followers_count=444, friends_count=1092, listed_count=1, created_at=datetime.datetime(2012, 3, 15, 15, 53, 19), favourites_count=4, utc_offset=None, time_zone=None, geo_enabled=False, verified=False, statuses_count=3322, lang=None, contributors_enabled=False, is_translator=False, is_translation_enabled=False, profile_background_color='C0DEED', profile_background_image_url='http://abs.twimg.com/images/themes/theme1/bg.png', profile_background_image_url_https='https://abs.twimg.com/images/themes/theme1/bg.png', profile_background_tile=False, profile_image_url='http://pbs.twimg.com/profile_images/1900325845/visual_sound_v.1-2-a_001_normal.jpg', profile_image_url_https='https://pbs.twimg.com/profile_images/1900325845/visual_sound_v.1-2-a_001_normal.jpg', profile_link_color='1DA1F2', profile_sidebar_border_color='C0DEED', profile_sidebar_fill_color='DDEEF6', profile_text_color='333333', profile_use_background_image=True, has_extended_profile=False, default_profile=True, default_profile_image=False, following=False, follow_request_sent=False, notifications=False, translator_type='none'), user=User(_api=<tweepy.api.API object at 0x7fc4c148ef40>, _json={'id': 525491031, 'id_str': '525491031', 'name': '비주얼사운드 (English)전자책', 'screen_name': 'visualsoundjas1', 'location': 'New Jersey', 'description': 'English sound sculptor, 듣기발음기호, 내면의 리듬, 꼭 하고싶은 일, imagination, creative, 새로운 분야, 소리방앗간, 영어발음교정, 영어듣기,그림,조각, 소리보다 빠른 빛의 속도로, 10초에 책 한권을, 무한반복,', 'url': 'http://t.co/1Wr0ko76G3', 'entities': {'url': {'urls': [{'url': 'http://t.co/1Wr0ko76G3', 'expanded_url': 'http://blog.naver.com/j1a2s3o4n', 'display_url': 'blog.naver.com/j1a2s3o4n', 'indices': [0, 22]}]}, 'description': {'urls': []}}, 'protected': False, 'followers_count': 444, 'friends_count': 1092, 'listed_count': 1, 'created_at': 'Thu Mar 15 15:53:19 +0000 2012', 'favourites_count': 4, 'utc_offset': None, 'time_zone': None, 'geo_enabled': False, 'verified': False, 'statuses_count': 3322, 'lang': None, 'contributors_enabled': False, 'is_translator': False, 'is_translation_enabled': False, 'profile_background_color': 'C0DEED', 'profile_background_image_url': 'http://abs.twimg.com/images/themes/theme1/bg.png', 'profile_background_image_url_https': 'https://abs.twimg.com/images/themes/theme1/bg.png', 'profile_background_tile': False, 'profile_image_url': 'http://pbs.twimg.com/profile_images/1900325845/visual_sound_v.1-2-a_001_normal.jpg', 'profile_image_url_https': 'https://pbs.twimg.com/profile_images/1900325845/visual_sound_v.1-2-a_001_normal.jpg', 'profile_link_color': '1DA1F2', 'profile_sidebar_border_color': 'C0DEED', 'profile_sidebar_fill_color': 'DDEEF6', 'profile_text_color': '333333', 'profile_use_background_image': True, 'has_extended_profile': False, 'default_profile': True, 'default_profile_image': False, 'following': False, 'follow_request_sent': False, 'notifications': False, 'translator_type': 'none'}, id=525491031, id_str='525491031', name='비주얼사운드 (English)전자책', screen_name='visualsoundjas1', location='New Jersey', description='English sound sculptor, 듣기발음기호, 내면의 리듬, 꼭 하고싶은 일, imagination, creative, 새로운 분야, 소리방앗간, 영어발음교정, 영어듣기,그림,조각, 소리보다 빠른 빛의 속도로, 10초에 책 한권을, 무한반복,', url='http://t.co/1Wr0ko76G3', entities={'url': {'urls': [{'url': 'http://t.co/1Wr0ko76G3', 'expanded_url': 'http://blog.naver.com/j1a2s3o4n', 'display_url': 'blog.naver.com/j1a2s3o4n', 'indices': [0, 22]}]}, 'description': {'urls': []}}, protected=False, followers_count=444, friends_count=1092, listed_count=1, created_at=datetime.datetime(2012, 3, 15, 15, 53, 19), favourites_count=4, utc_offset=None, time_zone=None, geo_enabled=False, verified=False, statuses_count=3322, lang=None, contributors_enabled=False, is_translator=False, is_translation_enabled=False, profile_background_color='C0DEED', profile_background_image_url='http://abs.twimg.com/images/themes/theme1/bg.png', profile_background_image_url_https='https://abs.twimg.com/images/themes/theme1/bg.png', profile_background_tile=False, profile_image_url='http://pbs.twimg.com/profile_images/1900325845/visual_sound_v.1-2-a_001_normal.jpg', profile_image_url_https='https://pbs.twimg.com/profile_images/1900325845/visual_sound_v.1-2-a_001_normal.jpg', profile_link_color='1DA1F2', profile_sidebar_border_color='C0DEED', profile_sidebar_fill_color='DDEEF6', profile_text_color='333333', profile_use_background_image=True, has_extended_profile=False, default_profile=True, default_profile_image=False, following=False, follow_request_sent=False, notifications=False, translator_type='none'), geo=None, coordinates=None, place=None, contributors=None, is_quote_status=False, retweet_count=0, favorite_count=0, favorited=False, retweeted=False, possibly_sensitive=False, lang='en'), Status(_api=<tweepy.api.API object at 0x7fc4c148ef40>, _json={'created_at': 'Thu Oct 01 08:19:31 +0000 2020', 'id': 1311581496671576066, 'id_str': '1311581496671576066', 'full_text': 'Coronavirus detected in Whitsunday sewage as Queensland records another day of zero new cases https://t.co/XJVqJIt71i', 'truncated': False, 'display_text_range': [0, 117], 'entities': {'hashtags': [], 'symbols': [], 'user_mentions': [], 'urls': [{'url': 'https://t.co/XJVqJIt71i', 'expanded_url': 'https://www.abc.net.au/news/2020-10-01/coronavirus-queensland-records-zero-cases-whitsunday-sewerage/12709398', 'display_url': 'abc.net.au/news/2020-10-0…', 'indices': [94, 117]}]}, 'metadata': {'iso_language_code': 'en', 'result_type': 'recent'}, 'source': '<a href=\"https://mobile.twitter.com\" rel=\"nofollow\">Twitter Web App</a>', 'in_reply_to_status_id': None, 'in_reply_to_status_id_str': None, 'in_reply_to_user_id': None, 'in_reply_to_user_id_str': None, 'in_reply_to_screen_name': None, 'user': {'id': 2566791985, 'id_str': '2566791985', 'name': 'Tamara Thomas', 'screen_name': 'Tamaratee2', 'location': 'Queensland, Australia', 'description': 'The only thing necessary for evil to triumph is for good people to do nothing.', 'url': None, 'entities': {'description': {'urls': []}}, 'protected': False, 'followers_count': 37, 'friends_count': 67, 'listed_count': 1, 'created_at': 'Sat Jun 14 09:05:29 +0000 2014', 'favourites_count': 426, 'utc_offset': None, 'time_zone': None, 'geo_enabled': False, 'verified': False, 'statuses_count': 2410, 'lang': None, 'contributors_enabled': False, 'is_translator': False, 'is_translation_enabled': False, 'profile_background_color': 'C0DEED', 'profile_background_image_url': 'http://abs.twimg.com/images/themes/theme1/bg.png', 'profile_background_image_url_https': 'https://abs.twimg.com/images/themes/theme1/bg.png', 'profile_background_tile': False, 'profile_image_url': 'http://pbs.twimg.com/profile_images/738856786292183040/HaXF_UYE_normal.jpg', 'profile_image_url_https': 'https://pbs.twimg.com/profile_images/738856786292183040/HaXF_UYE_normal.jpg', 'profile_banner_url': 'https://pbs.twimg.com/profile_banners/2566791985/1481450081', 'profile_link_color': '1DA1F2', 'profile_sidebar_border_color': 'C0DEED', 'profile_sidebar_fill_color': 'DDEEF6', 'profile_text_color': '333333', 'profile_use_background_image': True, 'has_extended_profile': False, 'default_profile': True, 'default_profile_image': False, 'following': False, 'follow_request_sent': False, 'notifications': False, 'translator_type': 'none'}, 'geo': None, 'coordinates': None, 'place': None, 'contributors': None, 'is_quote_status': False, 'retweet_count': 0, 'favorite_count': 0, 'favorited': False, 'retweeted': False, 'possibly_sensitive': False, 'lang': 'en'}, created_at=datetime.datetime(2020, 10, 1, 8, 19, 31), id=1311581496671576066, id_str='1311581496671576066', full_text='Coronavirus detected in Whitsunday sewage as Queensland records another day of zero new cases https://t.co/XJVqJIt71i', truncated=False, display_text_range=[0, 117], entities={'hashtags': [], 'symbols': [], 'user_mentions': [], 'urls': [{'url': 'https://t.co/XJVqJIt71i', 'expanded_url': 'https://www.abc.net.au/news/2020-10-01/coronavirus-queensland-records-zero-cases-whitsunday-sewerage/12709398', 'display_url': 'abc.net.au/news/2020-10-0…', 'indices': [94, 117]}]}, metadata={'iso_language_code': 'en', 'result_type': 'recent'}, source='Twitter Web App', source_url='https://mobile.twitter.com', in_reply_to_status_id=None, in_reply_to_status_id_str=None, in_reply_to_user_id=None, in_reply_to_user_id_str=None, in_reply_to_screen_name=None, author=User(_api=<tweepy.api.API object at 0x7fc4c148ef40>, _json={'id': 2566791985, 'id_str': '2566791985', 'name': 'Tamara Thomas', 'screen_name': 'Tamaratee2', 'location': 'Queensland, Australia', 'description': 'The only thing necessary for evil to triumph is for good people to do nothing.', 'url': None, 'entities': {'description': {'urls': []}}, 'protected': False, 'followers_count': 37, 'friends_count': 67, 'listed_count': 1, 'created_at': 'Sat Jun 14 09:05:29 +0000 2014', 'favourites_count': 426, 'utc_offset': None, 'time_zone': None, 'geo_enabled': False, 'verified': False, 'statuses_count': 2410, 'lang': None, 'contributors_enabled': False, 'is_translator': False, 'is_translation_enabled': False, 'profile_background_color': 'C0DEED', 'profile_background_image_url': 'http://abs.twimg.com/images/themes/theme1/bg.png', 'profile_background_image_url_https': 'https://abs.twimg.com/images/themes/theme1/bg.png', 'profile_background_tile': False, 'profile_image_url': 'http://pbs.twimg.com/profile_images/738856786292183040/HaXF_UYE_normal.jpg', 'profile_image_url_https': 'https://pbs.twimg.com/profile_images/738856786292183040/HaXF_UYE_normal.jpg', 'profile_banner_url': 'https://pbs.twimg.com/profile_banners/2566791985/1481450081', 'profile_link_color': '1DA1F2', 'profile_sidebar_border_color': 'C0DEED', 'profile_sidebar_fill_color': 'DDEEF6', 'profile_text_color': '333333', 'profile_use_background_image': True, 'has_extended_profile': False, 'default_profile': True, 'default_profile_image': False, 'following': False, 'follow_request_sent': False, 'notifications': False, 'translator_type': 'none'}, id=2566791985, id_str='2566791985', name='Tamara Thomas', screen_name='Tamaratee2', location='Queensland, Australia', description='The only thing necessary for evil to triumph is for good people to do nothing.', url=None, entities={'description': {'urls': []}}, protected=False, followers_count=37, friends_count=67, listed_count=1, created_at=datetime.datetime(2014, 6, 14, 9, 5, 29), favourites_count=426, utc_offset=None, time_zone=None, geo_enabled=False, verified=False, statuses_count=2410, lang=None, contributors_enabled=False, is_translator=False, is_translation_enabled=False, profile_background_color='C0DEED', profile_background_image_url='http://abs.twimg.com/images/themes/theme1/bg.png', profile_background_image_url_https='https://abs.twimg.com/images/themes/theme1/bg.png', profile_background_tile=False, profile_image_url='http://pbs.twimg.com/profile_images/738856786292183040/HaXF_UYE_normal.jpg', profile_image_url_https='https://pbs.twimg.com/profile_images/738856786292183040/HaXF_UYE_normal.jpg', profile_banner_url='https://pbs.twimg.com/profile_banners/2566791985/1481450081', profile_link_color='1DA1F2', profile_sidebar_border_color='C0DEED', profile_sidebar_fill_color='DDEEF6', profile_text_color='333333', profile_use_background_image=True, has_extended_profile=False, default_profile=True, default_profile_image=False, following=False, follow_request_sent=False, notifications=False, translator_type='none'), user=User(_api=<tweepy.api.API object at 0x7fc4c148ef40>, _json={'id': 2566791985, 'id_str': '2566791985', 'name': 'Tamara Thomas', 'screen_name': 'Tamaratee2', 'location': 'Queensland, Australia', 'description': 'The only thing necessary for evil to triumph is for good people to do nothing.', 'url': None, 'entities': {'description': {'urls': []}}, 'protected': False, 'followers_count': 37, 'friends_count': 67, 'listed_count': 1, 'created_at': 'Sat Jun 14 09:05:29 +0000 2014', 'favourites_count': 426, 'utc_offset': None, 'time_zone': None, 'geo_enabled': False, 'verified': False, 'statuses_count': 2410, 'lang': None, 'contributors_enabled': False, 'is_translator': False, 'is_translation_enabled': False, 'profile_background_color': 'C0DEED', 'profile_background_image_url': 'http://abs.twimg.com/images/themes/theme1/bg.png', 'profile_background_image_url_https': 'https://abs.twimg.com/images/themes/theme1/bg.png', 'profile_background_tile': False, 'profile_image_url': 'http://pbs.twimg.com/profile_images/738856786292183040/HaXF_UYE_normal.jpg', 'profile_image_url_https': 'https://pbs.twimg.com/profile_images/738856786292183040/HaXF_UYE_normal.jpg', 'profile_banner_url': 'https://pbs.twimg.com/profile_banners/2566791985/1481450081', 'profile_link_color': '1DA1F2', 'profile_sidebar_border_color': 'C0DEED', 'profile_sidebar_fill_color': 'DDEEF6', 'profile_text_color': '333333', 'profile_use_background_image': True, 'has_extended_profile': False, 'default_profile': True, 'default_profile_image': False, 'following': False, 'follow_request_sent': False, 'notifications': False, 'translator_type': 'none'}, id=2566791985, id_str='2566791985', name='Tamara Thomas', screen_name='Tamaratee2', location='Queensland, Australia', description='The only thing necessary for evil to triumph is for good people to do nothing.', url=None, entities={'description': {'urls': []}}, protected=False, followers_count=37, friends_count=67, listed_count=1, created_at=datetime.datetime(2014, 6, 14, 9, 5, 29), favourites_count=426, utc_offset=None, time_zone=None, geo_enabled=False, verified=False, statuses_count=2410, lang=None, contributors_enabled=False, is_translator=False, is_translation_enabled=False, profile_background_color='C0DEED', profile_background_image_url='http://abs.twimg.com/images/themes/theme1/bg.png', profile_background_image_url_https='https://abs.twimg.com/images/themes/theme1/bg.png', profile_background_tile=False, profile_image_url='http://pbs.twimg.com/profile_images/738856786292183040/HaXF_UYE_normal.jpg', profile_image_url_https='https://pbs.twimg.com/profile_images/738856786292183040/HaXF_UYE_normal.jpg', profile_banner_url='https://pbs.twimg.com/profile_banners/2566791985/1481450081', profile_link_color='1DA1F2', profile_sidebar_border_color='C0DEED', profile_sidebar_fill_color='DDEEF6', profile_text_color='333333', profile_use_background_image=True, has_extended_profile=False, default_profile=True, default_profile_image=False, following=False, follow_request_sent=False, notifications=False, translator_type='none'), geo=None, coordinates=None, place=None, contributors=None, is_quote_status=False, retweet_count=0, favorite_count=0, favorited=False, retweeted=False, possibly_sensitive=False, lang='en'), Status(_api=<tweepy.api.API object at 0x7fc4c148ef40>, _json={'created_at': 'Thu Oct 01 08:19:26 +0000 2020', 'id': 1311581476471762944, 'id_str': '1311581476471762944', 'full_text': '@channelcrm1 reply 991923', 'truncated': False, 'display_text_range': [13, 25], 'entities': {'hashtags': [], 'symbols': [], 'user_mentions': [{'screen_name': 'channelcrm1', 'name': 'channelcrm', 'id': 1299352486789087232, 'id_str': '1299352486789087232', 'indices': [0, 12]}], 'urls': []}, 'metadata': {'iso_language_code': 'en', 'result_type': 'recent'}, 'source': '<a href=\"https://mobile.twitter.com\" rel=\"nofollow\">Twitter Web App</a>', 'in_reply_to_status_id': 1311581025101910018, 'in_reply_to_status_id_str': '1311581025101910018', 'in_reply_to_user_id': 1299352486789087232, 'in_reply_to_user_id_str': '1299352486789087232', 'in_reply_to_screen_name': 'channelcrm1', 'user': {'id': 1192767192, 'id_str': '1192767192', 'name': 'moksha', 'screen_name': 'moksha_abc', 'location': '', 'description': '', 'url': None, 'entities': {'description': {'urls': []}}, 'protected': False, 'followers_count': 59, 'friends_count': 69, 'listed_count': 0, 'created_at': 'Mon Feb 18 10:48:29 +0000 2013', 'favourites_count': 10, 'utc_offset': None, 'time_zone': None, 'geo_enabled': False, 'verified': False, 'statuses_count': 52084, 'lang': None, 'contributors_enabled': False, 'is_translator': False, 'is_translation_enabled': False, 'profile_background_color': 'C0DEED', 'profile_background_image_url': 'http://abs.twimg.com/images/themes/theme1/bg.png', 'profile_background_image_url_https': 'https://abs.twimg.com/images/themes/theme1/bg.png', 'profile_background_tile': False, 'profile_image_url': 'http://pbs.twimg.com/profile_images/519471766788243457/2ZNZdeb2_normal.jpeg', 'profile_image_url_https': 'https://pbs.twimg.com/profile_images/519471766788243457/2ZNZdeb2_normal.jpeg', 'profile_link_color': '1DA1F2', 'profile_sidebar_border_color': 'C0DEED', 'profile_sidebar_fill_color': 'DDEEF6', 'profile_text_color': '333333', 'profile_use_background_image': True, 'has_extended_profile': False, 'default_profile': True, 'default_profile_image': False, 'following': False, 'follow_request_sent': False, 'notifications': False, 'translator_type': 'none'}, 'geo': None, 'coordinates': None, 'place': None, 'contributors': None, 'is_quote_status': False, 'retweet_count': 0, 'favorite_count': 0, 'favorited': False, 'retweeted': False, 'lang': 'en'}, created_at=datetime.datetime(2020, 10, 1, 8, 19, 26), id=1311581476471762944, id_str='1311581476471762944', full_text='@channelcrm1 reply 991923', truncated=False, display_text_range=[13, 25], entities={'hashtags': [], 'symbols': [], 'user_mentions': [{'screen_name': 'channelcrm1', 'name': 'channelcrm', 'id': 1299352486789087232, 'id_str': '1299352486789087232', 'indices': [0, 12]}], 'urls': []}, metadata={'iso_language_code': 'en', 'result_type': 'recent'}, source='Twitter Web App', source_url='https://mobile.twitter.com', in_reply_to_status_id=1311581025101910018, in_reply_to_status_id_str='1311581025101910018', in_reply_to_user_id=1299352486789087232, in_reply_to_user_id_str='1299352486789087232', in_reply_to_screen_name='channelcrm1', author=User(_api=<tweepy.api.API object at 0x7fc4c148ef40>, _json={'id': 1192767192, 'id_str': '1192767192', 'name': 'moksha', 'screen_name': 'moksha_abc', 'location': '', 'description': '', 'url': None, 'entities': {'description': {'urls': []}}, 'protected': False, 'followers_count': 59, 'friends_count': 69, 'listed_count': 0, 'created_at': 'Mon Feb 18 10:48:29 +0000 2013', 'favourites_count': 10, 'utc_offset': None, 'time_zone': None, 'geo_enabled': False, 'verified': False, 'statuses_count': 52084, 'lang': None, 'contributors_enabled': False, 'is_translator': False, 'is_translation_enabled': False, 'profile_background_color': 'C0DEED', 'profile_background_image_url': 'http://abs.twimg.com/images/themes/theme1/bg.png', 'profile_background_image_url_https': 'https://abs.twimg.com/images/themes/theme1/bg.png', 'profile_background_tile': False, 'profile_image_url': 'http://pbs.twimg.com/profile_images/519471766788243457/2ZNZdeb2_normal.jpeg', 'profile_image_url_https': 'https://pbs.twimg.com/profile_images/519471766788243457/2ZNZdeb2_normal.jpeg', 'profile_link_color': '1DA1F2', 'profile_sidebar_border_color': 'C0DEED', 'profile_sidebar_fill_color': 'DDEEF6', 'profile_text_color': '333333', 'profile_use_background_image': True, 'has_extended_profile': False, 'default_profile': True, 'default_profile_image': False, 'following': False, 'follow_request_sent': False, 'notifications': False, 'translator_type': 'none'}, id=1192767192, id_str='1192767192', name='moksha', screen_name='moksha_abc', location='', description='', url=None, entities={'description': {'urls': []}}, protected=False, followers_count=59, friends_count=69, listed_count=0, created_at=datetime.datetime(2013, 2, 18, 10, 48, 29), favourites_count=10, utc_offset=None, time_zone=None, geo_enabled=False, verified=False, statuses_count=52084, lang=None, contributors_enabled=False, is_translator=False, is_translation_enabled=False, profile_background_color='C0DEED', profile_background_image_url='http://abs.twimg.com/images/themes/theme1/bg.png', profile_background_image_url_https='https://abs.twimg.com/images/themes/theme1/bg.png', profile_background_tile=False, profile_image_url='http://pbs.twimg.com/profile_images/519471766788243457/2ZNZdeb2_normal.jpeg', profile_image_url_https='https://pbs.twimg.com/profile_images/519471766788243457/2ZNZdeb2_normal.jpeg', profile_link_color='1DA1F2', profile_sidebar_border_color='C0DEED', profile_sidebar_fill_color='DDEEF6', profile_text_color='333333', profile_use_background_image=True, has_extended_profile=False, default_profile=True, default_profile_image=False, following=False, follow_request_sent=False, notifications=False, translator_type='none'), user=User(_api=<tweepy.api.API object at 0x7fc4c148ef40>, _json={'id': 1192767192, 'id_str': '1192767192', 'name': 'moksha', 'screen_name': 'moksha_abc', 'location': '', 'description': '', 'url': None, 'entities': {'description': {'urls': []}}, 'protected': False, 'followers_count': 59, 'friends_count': 69, 'listed_count': 0, 'created_at': 'Mon Feb 18 10:48:29 +0000 2013', 'favourites_count': 10, 'utc_offset': None, 'time_zone': None, 'geo_enabled': False, 'verified': False, 'statuses_count': 52084, 'lang': None, 'contributors_enabled': False, 'is_translator': False, 'is_translation_enabled': False, 'profile_background_color': 'C0DEED', 'profile_background_image_url': 'http://abs.twimg.com/images/themes/theme1/bg.png', 'profile_background_image_url_https': 'https://abs.twimg.com/images/themes/theme1/bg.png', 'profile_background_tile': False, 'profile_image_url': 'http://pbs.twimg.com/profile_images/519471766788243457/2ZNZdeb2_normal.jpeg', 'profile_image_url_https': 'https://pbs.twimg.com/profile_images/519471766788243457/2ZNZdeb2_normal.jpeg', 'profile_link_color': '1DA1F2', 'profile_sidebar_border_color': 'C0DEED', 'profile_sidebar_fill_color': 'DDEEF6', 'profile_text_color': '333333', 'profile_use_background_image': True, 'has_extended_profile': False, 'default_profile': True, 'default_profile_image': False, 'following': False, 'follow_request_sent': False, 'notifications': False, 'translator_type': 'none'}, id=1192767192, id_str='1192767192', name='moksha', screen_name='moksha_abc', location='', description='', url=None, entities={'description': {'urls': []}}, protected=False, followers_count=59, friends_count=69, listed_count=0, created_at=datetime.datetime(2013, 2, 18, 10, 48, 29), favourites_count=10, utc_offset=None, time_zone=None, geo_enabled=False, verified=False, statuses_count=52084, lang=None, contributors_enabled=False, is_translator=False, is_translation_enabled=False, profile_background_color='C0DEED', profile_background_image_url='http://abs.twimg.com/images/themes/theme1/bg.png', profile_background_image_url_https='https://abs.twimg.com/images/themes/theme1/bg.png', profile_background_tile=False, profile_image_url='http://pbs.twimg.com/profile_images/519471766788243457/2ZNZdeb2_normal.jpeg', profile_image_url_https='https://pbs.twimg.com/profile_images/519471766788243457/2ZNZdeb2_normal.jpeg', profile_link_color='1DA1F2', profile_sidebar_border_color='C0DEED', profile_sidebar_fill_color='DDEEF6', profile_text_color='333333', profile_use_background_image=True, has_extended_profile=False, default_profile=True, default_profile_image=False, following=False, follow_request_sent=False, notifications=False, translator_type='none'), geo=None, coordinates=None, place=None, contributors=None, is_quote_status=False, retweet_count=0, favorite_count=0, favorited=False, retweeted=False, lang='en')]\n"
     ]
    }
   ],
   "source": [
    "# Provide the query you want to pull the data\n",
    "query = \"ABC\"\n",
    "Tweets = api.search(query, count=10, lang='en', exclude='retweets', tweet_mode=\"extended\")\n",
    "print(Tweets)"
   ]
  },
  {
   "cell_type": "markdown",
   "metadata": {},
   "source": [
    "#### Collecting data from PDF"
   ]
  },
  {
   "cell_type": "markdown",
   "metadata": {},
   "source": [
    "Most of the time your data will be stored as PDF files. We need to extract text from these files and store it for further analysis.\n",
    "\n",
    "--> Let’s follow the steps in this section to extract data from PDF files."
   ]
  },
  {
   "cell_type": "code",
   "execution_count": 3,
   "metadata": {},
   "outputs": [
    {
     "name": "stdout",
     "output_type": "stream",
     "text": [
      "8\n"
     ]
    }
   ],
   "source": [
    "# Import the Libraries\n",
    "import PyPDF2\n",
    "from PyPDF2 import PdfFileReader\n",
    "\n",
    "# Creating a pdf file object\n",
    "pdf = open(\"Data/Neural_Model.pdf\",\"rb\") # path to the .pdf file\n",
    "\n",
    "# Creating pdf reader objecct\n",
    "pdf_reader = PyPDF2.PdfFileReader(pdf)\n",
    "\n",
    "# Checking the number of pages in pdf file\n",
    "print(pdf_reader.numPages)\n"
   ]
  },
  {
   "cell_type": "code",
   "execution_count": 4,
   "metadata": {},
   "outputs": [
    {
     "name": "stdout",
     "output_type": "stream",
     "text": [
      "arXiv:1506.05869v3  [cs.CL]  22 Jul 2015ANeuralConversationalModel\n",
      "OriolVinyals\n",
      "VINYALS\n",
      "@\n",
      "GOOGLE\n",
      ".\n",
      "COM\n",
      "Google\n",
      "\n",
      "QuocV.Le\n",
      "QVL\n",
      "@\n",
      "GOOGLE\n",
      ".\n",
      "COM\n",
      "Google\n",
      "Abstract\n",
      "Conversationalmodelingisanimportanttaskin\n",
      "\n",
      "naturallanguageunderstandingandmachinein-\n",
      "\n",
      "telligence.Althoughpreviousapproachesex-\n",
      "\n",
      "ist,theyareoftenrestrictedtospecicdomains\n",
      "\n",
      "(e.g.,bookinganairlineticket)andrequirehand-\n",
      "\n",
      "craftedrules.Inthispaper,wepresentasim-\n",
      "\n",
      "pleapproachforthistaskwhichusestherecently\n",
      "\n",
      "proposedsequencetosequenceframework.Our\n",
      "\n",
      "modelconversesbypredictingthenextsentence\n",
      "\n",
      "giventheprevioussentenceorsentencesina\n",
      "\n",
      "conversation.Thestrengthofourmodelisthat\n",
      "\n",
      "itcanbetrainedend-to-endandthusrequires\n",
      "\n",
      "muchfewerhand-craftedrules.Wendthatthis\n",
      "\n",
      "straightforwardmodelcangeneratesimplecon-\n",
      "\n",
      "versationsgivenalargeconversationaltraining\n",
      "\n",
      "dataset.Ourpreliminaryresultssuggestthat,de-\n",
      "\n",
      "spiteoptimizingthewrongobjectivefunction,\n",
      "\n",
      "themodelisabletoconversewell.Itisable\n",
      "\n",
      "extractknowledgefrombothadomainspecic\n",
      "\n",
      "dataset,andfromalarge,noisy,andgeneraldo-\n",
      "\n",
      "maindatasetofmoviesubtitles.Onadomain-\n",
      "\n",
      "specicIThelpdeskdataset,themodelcannd\n",
      "\n",
      "asolutiontoatechnicalproblemviaconversa-\n",
      "\n",
      "tions.Onanoisyopen-domainmovietranscript\n",
      "\n",
      "dataset,themodelcanperformsimpleformsof\n",
      "\n",
      "commonsensereasoning.Asexpected,wealso\n",
      "\n",
      "ndthatthelackofconsistencyisacommonfail-\n",
      "\n",
      "uremodeofourmodel.\n",
      "1.Introduction\n",
      "\n",
      "Advancesinend-to-endtrainingofneuralnetworkshave\n",
      "\n",
      "ledtoremarkableprogressinmanydomainssuchasspeech\n",
      "\n",
      "recognition,computervision,andlanguageprocessing.\n",
      "\n",
      "Recentworksuggeststhatneuralnetworkscandomore\n",
      "Proceedingsofthe\n",
      "31\n",
      "st\n",
      "InternationalConferenceonMachine\n",
      "Learning\n",
      ",Lille,France,2015.JMLR:W&CPvolume37.Copy-\n",
      "right2015bytheauthor(s).\n",
      "thanjustmereclassication,theycanbeusedtomapcom-\n",
      "\n",
      "plicatedstructurestoothercomplicatedstructures.Anex\n",
      "-\n",
      "ampleofthisisthetaskofmappingasequencetoanother\n",
      "\n",
      "sequencewhichhasdirectapplicationsinnaturallanguage\n",
      "\n",
      "understanding(\n",
      "Sutskeveretal.\n",
      ",\n",
      "2014\n",
      ").Themainadvan-\n",
      "tageofthisframeworkisthatitrequireslittlefeatureen-\n",
      "\n",
      "gineeringanddomainspecicitywhilstmatchingorsur-\n",
      "\n",
      "passingstate-of-the-artresults.Thisadvance,inouropi\n",
      "n-\n",
      "ion,allowsresearcherstoworkontasksforwhichdomain\n",
      "\n",
      "knowledgemaynotbereadilyavailable,orfortaskswhich\n",
      "\n",
      "aresimplytoohardtodesignrulesmanually.\n",
      "\n",
      "Conversationalmodelingcandirectlybenetfromthisfor-\n",
      "\n",
      "mulationbecauseitrequiresmappingbetweenqueriesand\n",
      "\n",
      "reponses.Duetothecomplexityofthismapping,conver-\n",
      "\n",
      "sationalmodelinghaspreviouslybeendesignedtobevery\n",
      "\n",
      "narrowindomain,withamajorundertakingonfeatureen-\n",
      "\n",
      "gineering.Inthiswork,weexperimentwiththeconversa-\n",
      "\n",
      "tionmodelingtaskbycastingittoataskofpredictingthe\n",
      "\n",
      "nextsequencegiventheprevioussequenceorsequences\n",
      "\n",
      "usingrecurrentnetworks(\n",
      "Sutskeveretal.\n",
      ",\n",
      "2014\n",
      ").Wend\n",
      "thatthisapproachcandosurprisinglywellongenerating\n",
      "\n",
      "uentandaccuraterepliestoconversations.\n",
      "\n",
      "WetestthemodelonchatsessionsfromanIThelpdesk\n",
      "\n",
      "datasetofconversations,andndthatthemodelcansome-\n",
      "\n",
      "timestracktheproblemandprovideausefulanswerto\n",
      "\n",
      "theuser.Wealsoexperimentwithconversationsobtained\n",
      "\n",
      "fromanoisydatasetofmoviesubtitles,andndthatthe\n",
      "\n",
      "modelcanholdanaturalconversationandsometimesper-\n",
      "\n",
      "formsimpleformsofcommonsensereasoning.Inboth\n",
      "\n",
      "cases,therecurrentnetsobtainbetterperplexitycompare\n",
      "d\n",
      "tothen-grammodelandcaptureimportantlong-rangecor-\n",
      "\n",
      "relations.Fromaqualitativepointofview,ourmodelis\n",
      "\n",
      "sometimesabletoproducenaturalconversations.\n",
      "\n",
      "2.RelatedWork\n",
      "\n",
      "Ourapproachisbasedonrecentworkwhichpro-\n",
      "\n",
      "posedtouseneuralnetworkstomapsequencestose-\n",
      "\n",
      "quences(\n",
      "Kalchbrenner&Blunsom\n",
      ",\n",
      "2013\n",
      ";\n",
      "Sutskeveretal.\n",
      ",\n",
      "2014\n",
      ";\n",
      "Bahdanauetal.\n",
      ",\n",
      "2014\n",
      ").Thisframeworkhasbeen\n",
      "\n"
     ]
    }
   ],
   "source": [
    "# Creating a page object\n",
    "page = pdf_reader.getPage(0)\n",
    "\n",
    "# Finally extracting text from the page\n",
    "print(page.extractText())\n",
    "\n",
    "# Closing the pdf file \n",
    "pdf.close()"
   ]
  },
  {
   "cell_type": "markdown",
   "metadata": {},
   "source": [
    "#### Collecting Data from Word Files"
   ]
  },
  {
   "cell_type": "markdown",
   "metadata": {},
   "source": [
    "Let us look at another small recipe by reading Word files in Python.\n",
    "\n",
    "--> The simplest way to do this is by using the docx library."
   ]
  },
  {
   "cell_type": "code",
   "execution_count": 5,
   "metadata": {},
   "outputs": [
    {
     "name": "stdout",
     "output_type": "stream",
     "text": [
      "Demonstration of DOCX support in calibreThis document demonstrates the ability of the calibre DOCX Input plugin to convert the various typographic features in a Microsoft Word (2007 and newer) document. Convert this document to a modern ebook format, such as AZW3 for Kindles or EPUB for other ebook readers, to see it in action.There is support for images, tables, lists, footnotes, endnotes, links, dropcaps and various types of text and paragraph level formatting.To see the DOCX conversion in action, simply add this file to calibre using the “Add Books” button and then click “Convert”.  Set the output format in the top right corner of the conversion dialog to EPUB or AZW3 and click “OK”.Text FormattingInline formattingHere, we demonstrate various types of inline text formatting and the use of embedded fonts.Here is some bold, italic, bold-italic, underlined and struck out  text. Then, we have a superscript and a subscript. Now we see some red, green and blue text. Some text with a yellow highlight. Some text in a box. Some text in inverse video.A paragraph with styled text: subtle emphasis  followed by strong text and intense emphasis. This paragraph uses document wide styles for styling rather than inline text properties as demonstrated in the previous paragraph — calibre can handle both with equal ease.Fun with fontsThis document has embedded the Ubuntu font family. The body text is in the Ubuntu typeface, here is some text in the Ubuntu Mono typeface, notice how every letter has the same width, even i and m. Every embedded font will automatically be embedded in the output ebook during conversion. Paragraph level formattingYou can do crazy things with paragraphs, if the urge strikes you. For instance this paragraph is right aligned and has a right border. It has also been given a light gray background.For the lovers of poetry amongst you, paragraphs with hanging indents, like this often come in handy. You can use hanging indents to ensure that a line of poetry retains its individual identity as a line even when the screen is  too narrow to display it as a single line. Not only does this paragraph have a hanging indent, it is also has an extra top margin, setting it apart from the preceding paragraph.TablesTables in Word can vary from the extremely simple to the extremely complex. calibre tries to do its best when converting tables. While you may run into trouble with the occasional table, the vast majority of common cases should be converted very well, as demonstrated in this section. Note that for optimum results, when creating tables in Word, you should set their widths using percentages, rather than absolute units.  To the left of this paragraph is a floating two column table with a nice green border and header row.Now let’s look at a fancier table—one with alternating row colors and partial borders. This table is stretched out to take 100% of the available width.Next, we see a table with special formatting in various locations. Notice how the formatting for the header row and sub header rows is preserved.Source: Fictitious data, for illustration purposes onlyNext, we have something a little more complex, a nested table, i.e. a table inside another table. Additionally, the inner table has some of its cells merged. The table is displayed horizontally centered.We end with a fancy calendar, note how much of the original formatting is preserved. Note that this table will only display correctly on relatively wide screens. In general, very wide tables or tables whose cells have fixed width requirements don’t fare well in ebooks.Structural ElementsMiscellaneous structural elements you can add to your document, like footnotes, endnotes, dropcaps and the like. Footnotes & EndnotesFootnotes and endnotes are automatically recognized and both are converted to endnotes, with backlinks for maximum ease of use in ebook devices.DropcapsDrop caps are used to emphasize the leading paragraph at the start of a section. In Word it is possible to specify how many lines of text a drop-cap should use. Because of limitations in ebook technology, this is not possible when converting.  Instead, the converted drop cap will use font size and line height to simulate the effect as well as possible. While not as good as the original, the result is usually tolerable. This paragraph has a “D” dropcap set to occupy three lines of text with a font size of 58.5 pts. Depending on the screen width and capabilities of the device you view the book on, this dropcap can look anything from perfect to ugly.LinksTwo kinds of links are possible, those that refer to an external website and those that refer to locations inside the document itself. Both are supported by calibre. For example, here is a link pointing to the . Then we have a link that points back to the section on  in this document.Table of ContentsThere are two approaches that calibre takes when generating a Table of Contents. The first is if the Word document has a Table of Contents itself. Provided that the Table of Contents uses hyperlinks, calibre will automatically use it. The levels of the Table of Contents are identified by their left indent, so if you want the ebook to have a multi-level Table of Contents, make sure you create a properly indented Table of Contents in Word.If no Table of Contents is found in the document, then a table of contents is automatically generated from the headings in the document. A heading is identified as something that has the Heading 1 or Heading 2, etc. style applied to it. These headings are turned into a Table of Contents with Heading 1 being the topmost level, Heading 2 the second level and so on. You can see the Table of Contents created by calibre by clicking the Table of Contents button in whatever viewer you are using to view the converted ebook. ImagesImages can be of three main types. Inline images are images that are part of the normal text flow, like this image of a green dot . Inline images do not cause breaks in the text and are usually small in size. The next category of image is a floating image, one that “floats “ on the page and is surrounded by text. Word supports more types of floating images than are possible with current ebook technology, so the conversion maps floating images to simple left and right floats, as you can see with the left and right arrow images on the sides of this paragraph.The final type of image is a “block” image, one that becomes a paragraph on its own and has no text on either side. Below is a centered green dot.Centered images like this are useful for large pictures that should be a focus of attention. Generally, it is not possible to translate the exact positioning of images from a Word document to an ebook. That is because in Word, image positioning is specified in absolute units from the page boundaries.  There is no analogous technology in ebooks, so the conversion will usually end up placing the image either centered or floating close to the point in the text where it was inserted, not necessarily where it appears on the page in Word.ListsAll types of lists are supported by the conversion, with the exception of lists that use fancy bullets, these get converted to regular bullets.Bulleted ListOneTwoNumbered ListOne, with a very long line to demonstrate that the hanging indent for the list is working correctlyTwoMulti-level ListsOneTwoThreeFour with a very long line to demonstrate that the hanging indent for the list is working correctly.FiveSixA Multi-level list with bullets:OneTwoThis bullet uses an image as the bullet itemFourFiveContinued ListsOneTwoAn interruption in our regularly scheduled listing, for this essential and very relevant public service announcement.We now resume our normal programmingFour\n"
     ]
    }
   ],
   "source": [
    "# Import the Libraries\n",
    "import docx # from docx import Document\n",
    "\n",
    "# Creating a word file object\n",
    "doc = open(\"Data/demo.docx\",\"rb\")\n",
    "\n",
    "# Creating word reader object\n",
    "document = docx.Document(doc)\n",
    "\n",
    "# Creating an empty string and calling this document. \n",
    "# This document variable store each paragraph in the Word document.\n",
    "# We then create a for loop that goes through each paragraph in the Word document and appends the paragraph.\n",
    "docu=\"\"\n",
    "for para in document.paragraphs:\n",
    "#     print(para.text)\n",
    "    docu += para.text\n",
    "    \n",
    "# To see the output call docu\n",
    "print(docu)"
   ]
  },
  {
   "cell_type": "markdown",
   "metadata": {},
   "source": [
    "#### Collecting Data from JSON"
   ]
  },
  {
   "cell_type": "markdown",
   "metadata": {},
   "source": [
    "--> The simplest way to do this is by using requests and the JSON library."
   ]
  },
  {
   "cell_type": "code",
   "execution_count": 6,
   "metadata": {},
   "outputs": [
    {
     "name": "stdout",
     "output_type": "stream",
     "text": [
      "{\n",
      "    \"success\": {\n",
      "        \"total\": 1\n",
      "    },\n",
      "    \"contents\": {\n",
      "        \"quotes\": [\n",
      "            {\n",
      "                \"quote\": \"Ideas are these disembodied life forms, they don't have a form, but they have a will. All they want is to be made manifest. If you can manage to open up your consciousness to an idea of living in a world of abundance, then you can believe that, constantly, ideas are trying to find human collaborators.\",\n",
      "                \"length\": \"302\",\n",
      "                \"author\": \"Elizabeth Gilbert\",\n",
      "                \"tags\": [\n",
      "                    \"creativity\",\n",
      "                    \"idea\",\n",
      "                    \"inspire\"\n",
      "                ],\n",
      "                \"category\": \"inspire\",\n",
      "                \"language\": \"en\",\n",
      "                \"date\": \"2020-10-01\",\n",
      "                \"permalink\": \"https://theysaidso.com/quote/elizabeth-gilbert-ideas-are-these-disembodied-life-forms-they-dont-have-a-form-b\",\n",
      "                \"id\": \"KDiUTY_wN4KyP6mT9MyjIAeF\",\n",
      "                \"background\": \"https://theysaidso.com/img/qod/qod-inspire.jpg\",\n",
      "                \"title\": \"Inspiring Quote of the day\"\n",
      "            }\n",
      "        ]\n",
      "    },\n",
      "    \"baseurl\": \"https://theysaidso.com\",\n",
      "    \"copyright\": {\n",
      "        \"year\": 2022,\n",
      "        \"url\": \"https://theysaidso.com\"\n",
      "    }\n",
      "}\n"
     ]
    }
   ],
   "source": [
    "# Import the Libraries\n",
    "import requests\n",
    "import json\n",
    "\n",
    "# Now we extract json text from \"https://quotes.rest/qod.json\"\n",
    "r = requests.get(\"https://quotes.rest/qod.json\")\n",
    "res = r.json()\n",
    "print(json.dumps(res, indent = 4))"
   ]
  },
  {
   "cell_type": "code",
   "execution_count": 7,
   "metadata": {},
   "outputs": [
    {
     "data": {
      "text/plain": [
       "{'quote': \"Ideas are these disembodied life forms, they don't have a form, but they have a will. All they want is to be made manifest. If you can manage to open up your consciousness to an idea of living in a world of abundance, then you can believe that, constantly, ideas are trying to find human collaborators.\",\n",
       " 'length': '302',\n",
       " 'author': 'Elizabeth Gilbert',\n",
       " 'tags': ['creativity', 'idea', 'inspire'],\n",
       " 'category': 'inspire',\n",
       " 'language': 'en',\n",
       " 'date': '2020-10-01',\n",
       " 'permalink': 'https://theysaidso.com/quote/elizabeth-gilbert-ideas-are-these-disembodied-life-forms-they-dont-have-a-form-b',\n",
       " 'id': 'KDiUTY_wN4KyP6mT9MyjIAeF',\n",
       " 'background': 'https://theysaidso.com/img/qod/qod-inspire.jpg',\n",
       " 'title': 'Inspiring Quote of the day'}"
      ]
     },
     "execution_count": 7,
     "metadata": {},
     "output_type": "execute_result"
    }
   ],
   "source": [
    "# Extract contents\n",
    "q = res['contents']['quotes'][0]\n",
    "q"
   ]
  },
  {
   "cell_type": "code",
   "execution_count": 8,
   "metadata": {},
   "outputs": [
    {
     "name": "stdout",
     "output_type": "stream",
     "text": [
      "Ideas are these disembodied life forms, they don't have a form, but they have a will. All they want is to be made manifest. If you can manage to open up your consciousness to an idea of living in a world of abundance, then you can believe that, constantly, ideas are trying to find human collaborators. \n",
      "-- Elizabeth Gilbert\n"
     ]
    }
   ],
   "source": [
    "# Extract quote only\n",
    "print(q['quote'], '\\n--', q['author'])"
   ]
  },
  {
   "cell_type": "markdown",
   "metadata": {},
   "source": [
    "#### Collecting the Data from HTML"
   ]
  },
  {
   "cell_type": "markdown",
   "metadata": {},
   "source": [
    "In this recipe, let us look at reading HTML pages.\n",
    "\n",
    "--> The simplest way to do this is by using the bs4 library."
   ]
  },
  {
   "cell_type": "code",
   "execution_count": 9,
   "metadata": {},
   "outputs": [
    {
     "name": "stdout",
     "output_type": "stream",
     "text": [
      "<!DOCTYPE html>\n",
      "<html class=\"client-nojs\" dir=\"ltr\" lang=\"en\">\n",
      " <head>\n",
      "  <meta charset=\"utf-8\"/>\n",
      "  <title>\n",
      "   Natural language processing - Wikipedia\n",
      "  </title>\n",
      "  <script>\n",
      "   document.documentElement.className=\"client-js\";RLCONF={\"wgBreakFrames\":!1,\"wgSeparatorTransformTable\":[\"\",\"\"],\"wgDigitTransformTable\":[\"\",\"\"],\"wgDefaultDateFormat\":\"dmy\",\"wgMonthNames\":[\"\",\"January\",\"February\",\"March\",\"April\",\"May\",\"June\",\"July\",\"August\",\"September\",\"October\",\"November\",\"December\"],\"wgRequestId\":\"a0c5d7f0-dbaf-4853-b354-2e54552a12f0\",\"wgCSPNonce\":!1,\"wgCanonicalNamespace\":\"\",\"wgCanonicalSpecialPageName\":!1,\"wgNamespaceNumber\":0,\"wgPageName\":\"Natural_language_processing\",\"wgTitle\":\"Natural language processing\",\"wgCurRevisionId\":981205638,\"wgRevisionId\":981205638,\"wgArticleId\":21652,\"wgIsArticle\":!0,\"wgIsRedirect\":!1,\"wgAction\":\"view\",\"wgUserName\":null,\"wgUserGroups\":[\"*\"],\"wgCategories\":[\"CS1 maint: location\",\"Articles with short description\",\"Short description matches Wikidata\",\"All accuracy dispu\n"
     ]
    }
   ],
   "source": [
    "# Import the Libraries\n",
    "import urllib.request as urllib2\n",
    "from bs4 import BeautifulSoup\n",
    "\n",
    "# Fetch the HTML file \n",
    "#  Let’s pick Wikipedia for this example.\n",
    "response = urllib2.urlopen('https://en.wikipedia.org/wiki/Natural_language_processing')\n",
    "html_doc = response.read()\n",
    "\n",
    "# Parse the HTML file\n",
    "# Parsing \n",
    "soup = BeautifulSoup(html_doc, 'html.parser')\n",
    "\n",
    "# Formating the parsed html file\n",
    "strhtm = soup.prettify()\n",
    "\n",
    "# Print few lines\n",
    "print(strhtm[:1000])"
   ]
  },
  {
   "cell_type": "code",
   "execution_count": 10,
   "metadata": {},
   "outputs": [
    {
     "name": "stdout",
     "output_type": "stream",
     "text": [
      "<title>Natural language processing - Wikipedia</title>\n",
      "Natural language processing - Wikipedia\n",
      "None\n",
      "Natural language processing\n"
     ]
    }
   ],
   "source": [
    "# Extracting the tag values\n",
    "print(soup.title)\n",
    "print(soup.title.string)\n",
    "print(soup.a.string)\n",
    "print(soup.b.string)"
   ]
  },
  {
   "cell_type": "code",
   "execution_count": 11,
   "metadata": {},
   "outputs": [
    {
     "name": "stdout",
     "output_type": "stream",
     "text": [
      "None\n",
      "Jump to navigation\n",
      "Jump to search\n",
      "None\n",
      "None\n",
      "automated online assistant\n",
      "customer service\n",
      "[1]\n",
      "linguistics\n",
      "computer science\n",
      "artificial intelligence\n",
      "natural language\n",
      "speech recognition\n",
      "natural language understanding\n",
      "natural-language generation\n",
      "None\n",
      "None\n",
      "None\n",
      "None\n",
      "None\n",
      "None\n",
      "None\n",
      "None\n",
      "None\n",
      "None\n",
      "None\n",
      "None\n",
      "None\n",
      "None\n",
      "None\n",
      "None\n",
      "None\n",
      "None\n",
      "None\n",
      "edit\n",
      "History of natural language processing\n",
      "Alan Turing\n",
      "Computing Machinery and Intelligence\n",
      "Turing test\n",
      "edit\n",
      "John Searle\n",
      "Chinese room\n",
      "Georgetown experiment\n",
      "automatic translation\n",
      "[2]\n",
      "ALPAC report\n",
      "statistical machine translation\n",
      "SHRDLU\n",
      "blocks worlds\n",
      "ELIZA\n",
      "Rogerian psychotherapist\n",
      "Joseph Weizenbaum\n",
      "ontologies\n",
      "chatterbots\n",
      "PARRY\n",
      "HPSG\n",
      "generative grammar\n",
      "[3]\n",
      "Lesk algorithm\n",
      "[4]\n",
      "Rhetorical Structure Theory\n",
      "Racter\n",
      "Jabberwacky\n",
      "[5]\n",
      "edit\n",
      "machine learning\n",
      "Moore's law\n",
      "Chomskyan\n",
      "transformational grammar\n",
      "corpus linguistics\n",
      "[6]\n",
      "machine translation\n",
      "textual corpora\n",
      "Parliament of Canada\n",
      "European Union\n",
      "unsupervised\n",
      "semi-supervised learning\n",
      "supervised learning\n",
      "World Wide Web\n",
      "time complexity\n",
      "edit\n",
      "representation learning\n",
      "deep neural network\n",
      "[7]\n",
      "[8]\n",
      "[9]\n",
      "[10]\n",
      "[11]\n",
      "edit\n",
      "[12]\n",
      "[13]\n",
      "stemming\n",
      "machine-learning\n",
      "Apertium\n",
      "tokenization\n",
      "knowledge extraction\n",
      "edit\n",
      "[14]\n",
      "[15]\n",
      "statistical inference\n",
      "corpora\n",
      "statistical models\n",
      "probabilistic\n",
      "real-valued\n",
      "decision trees\n",
      "part-of-speech tagging\n",
      "hidden Markov models\n",
      "statistical models\n",
      "probabilistic\n",
      "real-valued\n",
      "cache language models\n",
      "speech recognition\n",
      "edit\n",
      "Artificial neural network\n",
      "[16]\n",
      "neural networks\n",
      "word embeddings\n",
      "neural machine translation\n",
      "sequence-to-sequence\n",
      "statistical machine translation\n",
      "edit\n",
      "edit\n",
      "Optical character recognition\n",
      "Speech recognition\n",
      "text to speech\n",
      "AI-complete\n",
      "natural speech\n",
      "speech segmentation\n",
      "coarticulation\n",
      "analog signal\n",
      "Speech segmentation\n",
      "speech recognition\n",
      "Text-to-speech\n",
      "[17]\n",
      "Word segmentation\n",
      "Tokenization\n",
      "English\n",
      "Chinese\n",
      "Japanese\n",
      "Thai\n",
      "vocabulary\n",
      "morphology\n",
      "bag of words\n",
      "edit\n",
      "Lemmatization\n",
      "Morphological segmentation\n",
      "morphemes\n",
      "morphology\n",
      "English\n",
      "inflectional morphology\n",
      "Turkish\n",
      "Meitei\n",
      "[18]\n",
      "agglutinated\n",
      "Part-of-speech tagging\n",
      "part of speech\n",
      "parts of speech\n",
      "noun\n",
      "verb\n",
      "noun\n",
      "verb\n",
      "adjective\n",
      "dubious\n",
      "discuss\n",
      "inflectional morphology\n",
      "English\n",
      "Chinese\n",
      "tonal language\n",
      "Stemming\n",
      "edit\n",
      "Grammar induction\n",
      "[19]\n",
      "formal grammar\n",
      "Sentence breaking\n",
      "sentence boundary disambiguation\n",
      "periods\n",
      "punctuation marks\n",
      "abbreviations\n",
      "Parsing\n",
      "parse tree\n",
      "grammar\n",
      "natural languages\n",
      "ambiguous\n",
      "probabilistic context-free grammar\n",
      "stochastic grammar\n",
      "edit\n",
      "Lexical semantics\n",
      "Distributional semantics\n",
      "Named entity recognition\n",
      "capitalization\n",
      "Chinese\n",
      "Arabic\n",
      "German\n",
      "nouns\n",
      "French\n",
      "Spanish\n",
      "adjectives\n",
      "Sentiment analysis\n",
      "multimodal sentiment analysis\n",
      "Terminology extraction\n",
      "Word sense disambiguation\n",
      "meaning\n",
      "WordNet\n",
      "edit\n",
      "Relationship extraction\n",
      "Semantic Parsing\n",
      "AMR parsing\n",
      "DRT parsing\n",
      "Semantic Role Labelling\n",
      "frames\n",
      "semantic roles\n",
      "edit\n",
      "Coreference resolution\n",
      "Anaphora resolution\n",
      "pronouns\n",
      "referring expressions\n",
      "Discourse analysis\n",
      "discourse\n",
      "speech acts\n",
      "frames\n",
      "pro-drop languages\n",
      "Recognizing Textual entailment\n",
      "[20]\n",
      "Topic segmentation\n",
      "edit\n",
      "Automatic summarization\n",
      "[21]\n",
      "1 the Road\n",
      "language models\n",
      "[22]\n",
      "Dialogue management\n",
      "Machine translation\n",
      "AI-complete\n",
      "Natural language generation\n",
      "Natural language understanding\n",
      "first-order logic\n",
      "computer\n",
      "closed-world assumption\n",
      "open-world assumption\n",
      "[23]\n",
      "Question answering\n",
      "[24]\n",
      "edit\n",
      "Cognition\n",
      "[25]\n",
      "Cognitive science\n",
      "[26]\n",
      "Cognitive linguistics\n",
      "[27]\n",
      "George Lakoff\n",
      "Cognitive science\n",
      "Cognitive linguistics\n",
      "[28]\n",
      "Conceptual metaphor\n",
      "[29]\n",
      "Comparative\n",
      "Stative verb\n",
      "Conceptual metaphor\n",
      "Probabilistic context-free grammar\n",
      "US patent 9269353\n",
      "edit\n",
      "1 the Road\n",
      "Automated essay scoring\n",
      "Biomedical text mining\n",
      "Compound term processing\n",
      "Computational linguistics\n",
      "Computer-assisted reviewing\n",
      "Controlled natural language\n",
      "Deep learning\n",
      "Deep linguistic processing\n",
      "Distributional semantics\n",
      "Foreign language reading aid\n",
      "Foreign language writing aid\n",
      "Information extraction\n",
      "Information retrieval\n",
      "Language and Communication Technologies\n",
      "Language technology\n",
      "Latent semantic indexing\n",
      "Native-language identification\n",
      "Natural language programming\n",
      "Natural language search\n",
      "Outline of natural language processing\n",
      "Query expansion\n",
      "Query understanding\n",
      "Reification (linguistics)\n",
      "Speech processing\n",
      "Spoken dialogue system\n",
      "Text-proofing\n",
      "Text simplification\n",
      "Transformer (machine learning model)\n",
      "Truecasing\n",
      "Question answering\n",
      "Word2vec\n",
      "edit\n",
      "^\n",
      "doi\n",
      "10.1145/1643823.1643908\n",
      "^\n",
      "\"The history of machine translation in a nutshell\"\n",
      "self-published source\n",
      "^\n",
      "Koskenniemi, Kimmo\n",
      "Two-level morphology: A general computational model of word-form recognition and production\n",
      "University of Helsinki\n",
      "^\n",
      "Control of Inference: Role of Some Aspects of Discourse Structure-Centering\n",
      "^\n",
      "doi\n",
      "10.1109/PROC.1986.13580\n",
      "ISSN\n",
      "1558-2256\n",
      "S2CID\n",
      "30688575\n",
      "^\n",
      "corner cases\n",
      "pathological\n",
      "thought experiments\n",
      "corpus linguistics\n",
      "corpora\n",
      "poverty of the stimulus\n",
      "^\n",
      "arXiv\n",
      "1807.10854\n",
      "doi\n",
      "10.1613/jair.4992\n",
      "S2CID\n",
      "8273530\n",
      "^\n",
      "Deep Learning\n",
      "^\n",
      "arXiv\n",
      "1602.02410\n",
      "Bibcode\n",
      "2016arXiv160202410J\n",
      "^\n",
      "\"Parsing as Language Modeling\"\n",
      "^\n",
      "\"Grammar as a Foreign Language\"\n",
      "arXiv\n",
      "1412.7449\n",
      "Bibcode\n",
      "2014arXiv1412.7449V\n",
      "^\n",
      "Procedures as a Representation for Data in a Computer Program for Understanding Natural Language\n",
      "^\n",
      "ISBN\n",
      "0-470-99033-3\n",
      "^\n",
      "Mark Johnson. How the statistical revolution changes (computational) linguistics.\n",
      "^\n",
      "Philip Resnik. Four revolutions.\n",
      "^\n",
      "\"Deep Learning For NLP-ACL 2012 Tutorial\"\n",
      "^\n",
      "CiteSeerX\n",
      "10.1.1.668.869\n",
      "doi\n",
      "10.1007/978-3-642-29364-1_2\n",
      "ISBN\n",
      "9783642293634\n",
      "^\n",
      "\"Manipuri Morpheme Identification\"\n",
      "link\n",
      "^\n",
      "\"Natural language grammar induction using a constituent-context model\"\n",
      "^\n",
      "https://tac.nist.gov//2011/RTE/\n",
      "^\n",
      "\"U B U W E B :: Racter\"\n",
      "^\n",
      "doi\n",
      "10.1007/978-3-030-16800-1\n",
      "ISBN\n",
      "978-3-030-16799-8\n",
      "^\n",
      "\"Formalizing Semantic of Natural Language through Conceptualization from Existence\"\n",
      "the original\n",
      "^\n",
      "\"Versatile question answering systems: seeing in synthesis\"\n",
      "doi\n",
      "10.1504/IJIIDS.2011.038968\n",
      "^\n",
      "\"Cognition\"\n",
      "Oxford University Press\n",
      "Dictionary.com\n",
      "^\n",
      "\"Ask the Cognitive Scientist\"\n",
      "^\n",
      "ISBN\n",
      "978-0-805-85352-0\n",
      "^\n",
      "ISBN\n",
      "978-0-465-05674-3\n",
      "^\n",
      "ISBN\n",
      "978-0-521-59541-4\n",
      "edit\n",
      "\"Models of natural language understanding\"\n",
      "Bibcode\n",
      "1995PNAS...92.9977B\n",
      "doi\n",
      "10.1073/pnas.92.22.9977\n",
      "PMC\n",
      "40721\n",
      "PMID\n",
      "7479812\n",
      "ISBN\n",
      "978-0-596-51649-9\n",
      "ISBN\n",
      "978-0-13-187321-6\n",
      "ISBN\n",
      "978-1848218482\n",
      "ISBN\n",
      "978-1848219212\n",
      "ISBN\n",
      "978-0-521-86571-5\n",
      "Official html and pdf versions available without charge.\n",
      "ISBN\n",
      "978-0-262-13360-9\n",
      "ISBN\n",
      "978-0-387-19557-5\n",
      "Natural language processing\n",
      "v\n",
      "t\n",
      "e\n",
      "Natural language processing\n",
      "AI-complete\n",
      "Bag-of-words\n",
      "n-gram\n",
      "Bigram\n",
      "Trigram\n",
      "Natural language understanding\n",
      "Speech corpus\n",
      "Stopwords\n",
      "Text corpus\n",
      "Text analysis\n",
      "Collocation extraction\n",
      "Concept mining\n",
      "Compound term processing\n",
      "Coreference resolution\n",
      "Lemmatisation\n",
      "Named-entity recognition\n",
      "Ontology learning\n",
      "Parsing\n",
      "Part-of-speech tagging\n",
      "Semantic similarity\n",
      "Sentiment analysis\n",
      "Stemming\n",
      "Terminology extraction\n",
      "Text chunking\n",
      "Text segmentation\n",
      "Sentence segmentation\n",
      "Word segmentation\n",
      "Textual entailment\n",
      "Truecasing\n",
      "Word-sense disambiguation\n",
      "Automatic summarization\n",
      "Multi-document summarization\n",
      "Sentence extraction\n",
      "Text simplification\n",
      "Machine translation\n",
      "Computer-assisted\n",
      "Example-based\n",
      "Rule-based\n",
      "Neural\n",
      "None\n",
      "Speech recognition\n",
      "Speech segmentation\n",
      "Speech synthesis\n",
      "Natural language generation\n",
      "Optical character recognition\n",
      "Topic model\n",
      "Latent Dirichlet allocation\n",
      "Latent semantic analysis\n",
      "Pachinko allocation\n",
      "None\n",
      "Automated essay scoring\n",
      "Concordancer\n",
      "Grammar checker\n",
      "Predictive text\n",
      "Spell checker\n",
      "Syntax guessing\n",
      "None\n",
      "Chatbot\n",
      "Interactive fiction\n",
      "Question answering\n",
      "Virtual assistant\n",
      "Voice user interface\n",
      "Authority control\n",
      "None\n",
      "LCCN\n",
      "sh88002425\n",
      "NDL\n",
      "00562347\n",
      "None\n",
      "Language portal\n",
      "https://en.wikipedia.org/w/index.php?title=Natural_language_processing&oldid=981205638\n",
      "Categories\n",
      "Natural language processing\n",
      "Computational linguistics\n",
      "Speech recognition\n",
      "Computational fields of study\n",
      "Artificial intelligence\n",
      "CS1 maint: location\n",
      "Articles with short description\n",
      "Short description matches Wikidata\n",
      "All accuracy disputes\n",
      "Articles with disputed statements from June 2018\n",
      "Commons link from Wikidata\n",
      "Wikipedia articles with LCCN identifiers\n",
      "Wikipedia articles with NDL identifiers\n",
      "Talk\n",
      "Contributions\n",
      "Create account\n",
      "Log in\n",
      "Article\n",
      "Talk\n",
      "Read\n",
      "Edit\n",
      "View history\n",
      "None\n",
      "Main page\n",
      "Contents\n",
      "Current events\n",
      "Random article\n",
      "About Wikipedia\n",
      "Contact us\n",
      "Donate\n",
      "Help\n",
      "Learn to edit\n",
      "Community portal\n",
      "Recent changes\n",
      "Upload file\n",
      "What links here\n",
      "Related changes\n",
      "Upload file\n",
      "Special pages\n",
      "Permanent link\n",
      "Page information\n",
      "Cite this page\n",
      "Wikidata item\n",
      "Download as PDF\n",
      "Printable version\n",
      "Wikimedia Commons\n",
      "Afrikaans\n",
      "العربية\n",
      "Azərbaycanca\n",
      "বাংলা\n",
      "Bân-lâm-gú\n",
      "Беларуская\n",
      "Беларуская (тарашкевіца)‎\n",
      "Български\n",
      "Català\n",
      "Čeština\n",
      "Dansk\n",
      "Deutsch\n",
      "Eesti\n",
      "Ελληνικά\n",
      "Español\n",
      "Euskara\n",
      "فارسی\n",
      "Français\n",
      "Galego\n",
      "한국어\n",
      "Հայերեն\n",
      "हिन्दी\n",
      "Hrvatski\n",
      "Bahasa Indonesia\n",
      "Íslenska\n",
      "Italiano\n",
      "עברית\n",
      "ಕನ್ನಡ\n",
      "ქართული\n",
      "Lietuvių\n",
      "Македонски\n",
      "मराठी\n",
      "Монгол\n",
      "မြန်မာဘာသာ\n",
      "日本語\n",
      "ଓଡ଼ିଆ\n",
      "Piemontèis\n",
      "Polski\n",
      "Português\n",
      "Română\n",
      "Русский\n",
      "Simple English\n",
      "کوردی\n",
      "Српски / srpski\n",
      "Srpskohrvatski / српскохрватски\n",
      "தமிழ்\n",
      "ไทย\n",
      "Türkçe\n",
      "Українська\n",
      "Tiếng Việt\n",
      "粵語\n",
      "中文\n",
      "Edit links\n",
      "Creative Commons Attribution-ShareAlike License\n",
      "None\n",
      "Terms of Use\n",
      "Privacy Policy\n",
      "Wikimedia Foundation, Inc.\n",
      "Privacy policy\n",
      "About Wikipedia\n",
      "Disclaimers\n",
      "Contact Wikipedia\n",
      "Mobile view\n",
      "Developers\n",
      "Statistics\n",
      "Cookie statement\n",
      "None\n",
      "None\n"
     ]
    }
   ],
   "source": [
    "# Extracting the instances of the particular tag\n",
    "for x in soup.find_all('a'): print(x.string)"
   ]
  },
  {
   "cell_type": "code",
   "execution_count": 12,
   "metadata": {},
   "outputs": [
    {
     "name": "stdout",
     "output_type": "stream",
     "text": [
      "Natural language processing (NLP) is a subfield of linguistics, computer science, and artificial intelligence concerned with the interactions between computers and human language, in particular how to program computers to process and analyze large amounts of natural language data.\n",
      "\n",
      "Challenges in natural language processing frequently involve speech recognition, natural language understanding, and natural-language generation.\n",
      "\n",
      "Natural language processing has its roots in the 1950s. Already in 1950, Alan Turing published an article titled \"Computing Machinery and Intelligence\" which proposed what is now called the Turing test as a criterion of intelligence, a task that involves the automated interpretation and generation of natural language, but at the time not articulated as a problem separate from artificial intelligence.\n",
      "\n",
      "The premise of symbolic NLP is well-summarized by John Searle's Chinese room experiment: Given a collection of rules (e.g., a Chinese phrasebook, with questions and matching answers), the computer emulates natural language understanding (or other NLP tasks) by applying those rules to the data it is confronted with.\n",
      "\n",
      "Up to the 1980s, most natural language processing systems were based on complex sets of hand-written rules.  Starting in the late 1980s, however, there was a revolution in natural language processing with the introduction of machine learning algorithms for language processing.  This was due to both the steady increase in computational power (see Moore's law) and the gradual lessening of the dominance of Chomskyan theories of linguistics (e.g. transformational grammar), whose theoretical underpinnings discouraged the sort of corpus linguistics that underlies the machine-learning approach to language processing.[6]\n",
      "\n",
      "In the 2010s, representation learning and deep neural network-style machine learning methods became widespread in natural language processing, due in part to a flurry of results showing that such techniques[7][8] can achieve state-of-the-art results in many natural language tasks, for example in language modeling,[9] parsing,[10][11] and many others.\n",
      "\n",
      "In the early days, many language-processing systems were designed by symbolic methods, i.e., the hand-coding of a set of rules, coupled with a dictionary lookup:[12][13] such as by writing grammars or devising heuristic rules for stemming.\n",
      "\n",
      "More recent systems based on machine-learning algorithms have many advantages over hand-produced rules: \n",
      "\n",
      "Despite the popularity of machine learning in NLP research, symbolic methods are still (2020) commonly used\n",
      "\n",
      "Since the so-called \"statistical revolution\"[14][15] in the late 1980s and mid-1990s, much natural language processing research has relied heavily on machine learning. The machine-learning paradigm calls instead for using statistical inference to automatically learn such rules through the analysis of large corpora (the plural form of corpus, is a set of documents, possibly with human or computer annotations) of typical real-world examples.\n",
      "\n",
      "Many different classes of machine-learning algorithms have been applied to natural-language-processing tasks. These algorithms take as input a large set of \"features\" that are generated from the input data. Increasingly, however, research has focused on statistical models, which make soft, probabilistic decisions based on attaching real-valued weights to each input feature. Such models have the advantage that they can express the relative certainty of many different possible answers rather than only one, producing more reliable results when such a model is included as a component of a larger system.\n",
      "\n",
      "Some of the earliest-used machine learning algorithms, such as decision trees, produced systems of hard if-then rules similar to existing hand-written rules.  However, part-of-speech tagging introduced the use of hidden Markov models to natural language processing, and increasingly, research has focused on statistical models, which make soft, probabilistic decisions based on attaching real-valued weights to the features making up the input data. The cache language models upon which many speech recognition systems now rely are examples of such statistical models.  Such models are generally more robust when given unfamiliar input, especially input that contains errors (as is very common for real-world data), and produce more reliable results when integrated into a larger system comprising multiple subtasks.\n",
      "\n",
      "Since the neural turn, statistical methods in NLP research have been largely replaced by neural networks. However, they continue to be relevant for contexts in which statistical interpretability and transparency is required.\n",
      "\n",
      "A major drawback of statistical methods is that they require elaborate feature engineering. Since the early 2010s,[16] the field has thus largely abandoned statistical methods and shifted to neural networks for machine learning. Popular techniques include the use of word embeddings to capture semantic properties of words, and an increase in end-to-end learning of a higher-level task (e.g., question answering) instead of relying on a pipeline of separate intermediate tasks (e.g., part-of-speech tagging and dependency parsing). In some areas, this shift has entailed substantial changes in how NLP systems are designed, such that deep neural network-based approaches may be viewed as a new paradigm distinct from statistical natural language processing. For instance, the term neural machine translation (NMT) emphasizes the fact that deep learning-based approaches to machine translation directly learn sequence-to-sequence transformations, obviating the need for intermediate steps such as word alignment and language modeling that was used in statistical machine translation (SMT).\n",
      "\n",
      "The following is a list of some of the most commonly researched tasks in natural language processing. Some of these tasks have direct real-world applications, while others more commonly serve as subtasks that are used to aid in solving larger tasks.\n",
      "\n",
      "Though natural language processing tasks are closely intertwined, they can be subdivided into categories for convenience. A coarse division is given below.\n",
      "\n",
      "Cognition refers to \"the mental action or process of acquiring knowledge and understanding through thought, experience, and the senses.\"[25] Cognitive science is the interdisciplinary, scientific study of the mind and its processes.[26] Cognitive linguistics is an interdisciplinary branch of linguistics, combining knowledge and research from both psychology and linguistics.[27] George Lakoff offers a methodology to build Natural language processing (NLP) algorithms through the perspective of Cognitive science, along with the findings of Cognitive linguistics:[28]\n",
      "\n",
      "The first defining aspect of this cognitive task of NLP is the application of the theory of Conceptual metaphor, explained by Lakoff as “the understanding of one idea, in terms of another” which provides an idea of the intent of the author.[29]\n",
      "\n",
      "For example, consider some of the meanings, in English, of the word “big”. When used as a Comparative, as in “That is a big tree,” a likely inference of the intent of the author is that the author is using the word “big” to imply a statement about the tree being ”physically large” in comparison to other trees or the authors experience.  When used as a Stative verb, as in ”Tomorrow is a big day”, a likely inference of the author’s intent it that ”big” is being used to imply ”importance”.  These examples are not presented to be complete, but merely as indicators of the implication of the idea of Conceptual metaphor.  The intent behind other usages, like in ”She is a big person” will remain somewhat ambiguous to a person and a cognitive NLP algorithm alike without additional information.\n",
      "\n",
      "This leads to the second defining aspect of this cognitive task of NLP, namely Probabilistic context-free grammar (PCFG) which enables cognitive NLP algorithms to assign relative measures of meaning  to a word, phrase, sentence or piece of text based on the information presented before and after the piece of text being analyzed. The mathematical equation for such algorithms is presented in US patent 9269353 :\n",
      "\n",
      "Where,\n",
      "     RMM, is the Relative Measure of Meaning\n",
      "     token, is any block of text, sentence, phrase or word\n",
      "     N, is the number of tokens being analyzed\n",
      "     PMM, is the Probable Measure of Meaning based on a corpora\n",
      "     d, is the location of the token along the sequence of N-1 tokens\n",
      "     PF, is the Probability Function specific to a language\n",
      "\n"
     ]
    }
   ],
   "source": [
    "# EXtracting all the text of a particular tag\n",
    "for x in soup.find_all('p'): print(x.text)"
   ]
  },
  {
   "cell_type": "markdown",
   "metadata": {},
   "source": [
    "#### Parsing the Text Using Regular Expressions"
   ]
  },
  {
   "cell_type": "markdown",
   "metadata": {},
   "source": [
    "In this recipe, we are going to discuss how regular expressions are helpful when dealing with text data. This is very much required when dealing with raw data from the web, which would contain HTML tags, long text, and repeated text. During the process of developing your application, as well as in output, we don’t need such data.\n",
    "\n",
    "--> The best way to do this is by using the “re” library in Python."
   ]
  },
  {
   "cell_type": "markdown",
   "metadata": {},
   "source": [
    "Let’s look at some of the ways we can use regular expressions for our tasks. Basic flags: \n",
    "the basic flags are I, L, M, S, U, X:\n",
    "- **re.I**: This flag is used for ignoring casing.\n",
    "- **re.L**: This flag is used to find a local dependent.\n",
    "- **re.M**: This flag is useful if you want to find patterns throughout multiple lines.\n",
    "- **re.S**: This flag is used to find dot matches.\n",
    "- **re.U**: This flag is used to work for unicode data.\n",
    "- **re.X**: This flag is used for writing regex in a more readable format Regular expressions’ functionality:"
   ]
  },
  {
   "cell_type": "markdown",
   "metadata": {},
   "source": [
    "- Find the single occurrence of character a and b: **Regex: [ab]**\n",
    "- Find characters except for a and b: **Regex: [^ab]**\n",
    "- Find the character range of a to z: **Regex: [a-z]**\n",
    "- Find a range except to z: **Regex: [^a-z]**\n",
    "- Find all the characters a to z as well as A to Z: **Regex: [a-zA-Z]**\n",
    "- Any single character: <b>Regex:  </b>\n",
    "- Any whitespace character: **Regex: \\s**\n",
    "- Any non-whitespace character: **Regex: \\S**\n",
    "- Any digit: **Regex: \\d**\n",
    "- Any non-digit: **Regex: \\D**\n",
    "- Any non-words: **Regex: \\W**\n",
    "- Any words: **Regex: \\w**\n",
    "- Either match a or b: **Regex: (a|b)**\n",
    "- The occurrence of a is either zero or one:\n",
    "    - Matches zero or one occurrence but not more than one occurrence **Regex: a? ; ?**\n",
    "    - The occurrence of a is zero times or more than that: **Regex: a* ; *** matches zero or more than that\n",
    "    - The occurrence of a is one time or more than that: **Regex: a+ ; +** matches occurrences one or more that one time\n",
    "- Exactly match three occurrences of a: **Regex: a{3}**\n",
    "- Match simultaneous occurrences of a with 3 or more than 3: **Regex: a{3,}**\n",
    "- Match simultaneous occurrences of a between 3 to 6: **Regex: a{3,6}**\n",
    "- Starting of the string: **Regex: ^**\n",
    "- Ending of the string: **Regex: $**\n",
    "- Match word boundary: **Regex: \\b**\n",
    "- Non-word boundary: **Regex: \\B**"
   ]
  },
  {
   "cell_type": "markdown",
   "metadata": {},
   "source": [
    "**re.match()** and **re.search()** functions are used to find the patterns and then can be processed according to the requirements of the application. Let’s look at the differences between **re.match()** and **re.search():**\n",
    "\n",
    "- **re.match()**: This checks for a match of the string only at the beginning of the string. So, if it finds the pattern at the beginning of the input string, then it returns the matched pattern; otherwise; it returns a noun.\n",
    "\n",
    "- **re.search()**: This checks for a match of the string anywhere in the string. It finds all the occurrences of the pattern in the given input string or data. Now let’s look at a few of the examples using these regular expressions.\n",
    "\n"
   ]
  },
  {
   "cell_type": "markdown",
   "metadata": {},
   "source": [
    "##### Tokenization"
   ]
  },
  {
   "cell_type": "markdown",
   "metadata": {},
   "source": [
    "You want to split the sentence into words – tokenize. One of the ways to do this is by using re.split."
   ]
  },
  {
   "cell_type": "code",
   "execution_count": 13,
   "metadata": {},
   "outputs": [
    {
     "data": {
      "text/plain": [
       "['I', 'like', 'this', 'book', 'very', 'much', 'it', 'is', 'so', 'intresting.']"
      ]
     },
     "execution_count": 13,
     "metadata": {},
     "output_type": "execute_result"
    }
   ],
   "source": [
    "# Import the Libraries\n",
    "import re\n",
    "\n",
    "# Run the split query\n",
    "re.split('\\s+',\"I like this book very much it is so intresting.\")"
   ]
  },
  {
   "cell_type": "markdown",
   "metadata": {},
   "source": [
    "##### Extracting email IDs"
   ]
  },
  {
   "cell_type": "markdown",
   "metadata": {},
   "source": [
    "The simplest way to do this is by using re.findall."
   ]
  },
  {
   "cell_type": "code",
   "execution_count": 14,
   "metadata": {},
   "outputs": [
    {
     "name": "stdout",
     "output_type": "stream",
     "text": [
      "xyz@abc.com\n",
      "pqr@mno.com\n"
     ]
    }
   ],
   "source": [
    "# 1. Read/create the document or sentences\n",
    "doc = \"For more details please mail us at: xyz@abc.com, pqr@mno.com\"\n",
    "\n",
    "# 2. Execute the re.findall function\n",
    "addresses = re.findall(r'[\\w\\.-]+@[\\w\\.-]+', doc)\n",
    "for address in addresses:\n",
    "    print(address)"
   ]
  },
  {
   "cell_type": "markdown",
   "metadata": {},
   "source": [
    "##### Replacing email IDs"
   ]
  },
  {
   "cell_type": "markdown",
   "metadata": {},
   "source": [
    "Here we replace email ids from the sentences or documents with another email id. The simplest way to do this is by using re.sub.\n"
   ]
  },
  {
   "cell_type": "code",
   "execution_count": 15,
   "metadata": {},
   "outputs": [
    {
     "name": "stdout",
     "output_type": "stream",
     "text": [
      "For more details please mail us at pqr@mno.com\n"
     ]
    }
   ],
   "source": [
    "# 1. Read/create the document or sentences\n",
    "doc = \"For more details please mail us at xyz@abc.com\"\n",
    "\n",
    "# 2. Execute the re.sub function\n",
    "new_email_address = re.sub(r'([\\w\\.-]+)@([\\w\\.-]+)',r'pqr@mno.com', doc)\n",
    "print(new_email_address)"
   ]
  },
  {
   "cell_type": "markdown",
   "metadata": {},
   "source": [
    "##### Extract data from the ebook and perform regex"
   ]
  },
  {
   "cell_type": "markdown",
   "metadata": {},
   "source": [
    "Let’s solve this case study by using the techniques learned so far."
   ]
  },
  {
   "cell_type": "code",
   "execution_count": 16,
   "metadata": {},
   "outputs": [
    {
     "name": "stdout",
     "output_type": "stream",
     "text": [
      " produced by martin adamson david widger with corrections by andrew sly the idiot by fyodor dostoyevsky translated by eva martin part i i. towards the end of november during a thaw at nine o clock one morning a train on the warsaw and petersburg railway was approaching the latter city at full speed. the morning was so damp and misty that it was only with great difficulty that the day succeeded in breaking and it was impossible to distinguish anything more than a few yards away from the carriage windows. some of the passengers by this particular train were returning from abroad but the third class carriages were the best filled chiefly with insignificant persons of various occupations and degrees picked up at the different stations nearer town. all of them seemed weary and most of them had sleepy eyes and a shivering expression while their complexions generally appeared to have taken on the colour of the fog outside. when day dawned two passengers in one of the third class carriages found themselves opposite each other. both were young fellows both were rather poorly dressed both had remarkable faces and both were evidently anxious to start a conversation. if they had but known why at this particular moment they were both remarkable persons they would undoubtedly have wondered at the strange chance which had set them down opposite to one another in a third class carriage of the warsaw railway company. one of them was a young fellow of about twenty seven not tall with black curling hair and small grey fiery eyes. his nose was broad and flat and he had high cheek bones his thin lips were constantly compressed into an impudent ironical it might almost be called a malicious smile but his forehead was high and well formed and atoned for a good deal of the ugliness of the lower part of his face. a special feature of this physiognomy was its death like pallor which gave to the whole man an indescribably emaciated appearance in spite of his hard look and at the same time a sort of passionate and suffering expression which did not harmonize with his impudent sarcastic smile and keen self satisfied bearing. he wore a large fur or rather astrachan overcoat which had kept him warm all night while his neighbour had been obliged to bear the full severity of a russian november night entirely unprepared. his wide sleeveless mantle with a large cape to it the sort of cloak one sees upon travellers during the winter months in switzerland or north italy was by no means adapted to the long cold journey through russia from eydkuhnen to st. petersburg. the wearer of this cloak was a young fellow also of about twenty six or twenty seven years of age slightly above the middle height very fair with a thin pointed and very light coloured beard his eyes were large and blue and had an intent look about them yet that heavy expression which some people affirm to be a peculiarity as well as evidence of an epileptic subject. his face was decidedly a pleasant one for all that refined but quite colourless except for the circumstance that at this moment it was blue with cold. he held a bundle made up of an old faded silk handkerchief that apparently contained all his travelling wardrobe and wore thick shoes and gaiters his whole appearance being very un russian. his black haired neighbour inspected these peculiarities having nothing better to do and at length remarked with that rude enjoyment of the discomforts of others which the common classes so often show cold very said his neighbour readily and this is a thaw too. fancy if it had been a hard frost i never thought it would be so cold in the old country. i ve grown quite out of the way of it. what been abroad i suppose yes straight from switzerland. wheugh my goodness the black haired young fellow whistled and then laughed. the conversation proceeded. the readiness of the fair haired young man in the cloak to answer all his opposite neighbour s questions was surprising. he seemed to have no suspicion of any impertinence or inappropriateness in the fact of such questions being put to him. replying to them he made known to the inquirer that he certainly had been long absent from russia more than four years that he had been sent abroad for his health that he had suffered from some strange nervous malady a kind of epilepsy with convulsive spasms. his interlocutor burst out laughing several times at his answers and more than ever when to the question whether he had been cured the patient replied no they did not cure me. hey that s it you stumped up your money for nothing and we believe in those fellows here remarked the black haired individual sarcastically. gospel truth sir gospel truth exclaimed another passenger a shabbily dressed man of about forty who looked like a clerk and possessed a red nose and a very blotchy face. gospel truth all they do is to get hold of our good russian money free gratis and for nothing. oh but you re quite wrong in my particular instance said the swiss patient quietly. of course i can t argue the matter because i know only my own case but my doctor gave me money and he had very little to pay my journey back besides having kept me at his own expense while there for nearly two years. why was there no one else to pay for you asked the black haired one. no mr. pavlicheff who had been supporting me there died a couple of years ago. i wrote to mrs. general epanchin at the time she is a distant relative of mine but she did not answer my letter. and so eventually i came back. and where have you come to that is where am i going to stay i i really don t quite know yet i both the listeners laughed again. i suppose your whole set up is in that bundle then asked the first. i bet anything it is exclaimed the red nosed passenger with extreme satisfaction and that he has precious little in the luggage van though of course poverty is no crime we must remember that it appeared that it was indeed as they had surmised. the young fellow hastened to admit the fact with wonderful readiness. your bundle has some importance however continued the clerk when they had laughed their fill it was observable that the subject of their mirth joined in the laughter when he saw them laughing for though i dare say it is not stuffed full of friedrichs d or and louis d or judge from your costume and gaiters still if you can add to your possessions such a valuable property as a relation like mrs. general epanchin then your bundle becomes a significant object at once. that is of course if you really are a relative of mrs. epanchin s and have not made a little error through well absence of mind which is very common to human beings or say through a too luxuriant fancy oh you are right again said the fair haired traveller for i really am almost wrong when i say she and i are related. she is hardly a relation at all so little in fact that i was not in the least surprised to have no answer to my letter. i expected as much. h m you spent your postage for nothing then. h m you are candid however and that is commendable. h m mrs. epanchin oh yes a most eminent person. i know her. as for mr. pavlicheff who supported you in switzerland i know him too at least if it was nicolai andreevitch of that name a fine fellow he was and had a property of four thousand souls in his day. yes nicolai andreevitch that was his name and the young fellow looked earnestly and with curiosity at the all knowing gentleman with the red nose. this sort of character is met with pretty frequently in a certain class. they are people who know everyone that is they know where a man is employed what his salary is whom he knows whom he married what money his wife had who are his cousins and second cousins etc. etc. these men generally have about a hundred pounds a year to live on and they spend their whole time and talents in the amassing of this style of knowledge which they reduce or raise to the standard of a science. during the latter part of the conversation the black haired young man had become very impatient. he stared out of the window and fidgeted and evidently longed for the end of the journey. he was very absent he would appear to listen and heard nothing and he would laugh of a sudden evidently with no idea of what he was laughing about. excuse me said the red nosed man to the young fellow with the bundle rather suddenly whom have i the honour to be talking to prince lef nicolaievitch muishkin replied the latter with perfect readiness. prince muishkin lef nicolaievitch h m i don t know i m sure i may say i have never heard of such a person said the clerk thoughtfully. at least the name i admit is historical. karamsin must mention the family name of course in his history but as an individual one never hears of any prince muishkin nowadays. of course not replied the prince there are none except myself. i believe i am the last and only one. as to my forefathers they have always been a poor lot my own father was a sublieutenant in the army. i don t know how mrs. epanchin comes into the muishkin family but she is descended from the princess muishkin and she too is the last of her line. and did you learn science and all that with your professor over there asked the black haired passenger. oh yes i did learn a little but i ve never learned anything whatever said the other. oh but i learned very little you know added the prince as though excusing himself. they could not teach me very much on account of my illness. do you know the rogojins asked his questioner abruptly. no i don t not at all i hardly know anyone in russia. why is that your name yes i am rogojin parfen rogojin. parfen rogojin dear me then don t you belong to those very rogojins perhaps began the clerk with a very perceptible increase of civility in his tone. yes those very ones interrupted rogojin impatiently and with scant courtesy. i may remark that he had not once taken any notice of the blotchy faced passenger and had hitherto addressed all his remarks direct to the prince. dear me is it possible observed the clerk while his face assumed an expression of great deference and servility if not of absolute alarm what a son of that very semen rogojin hereditary honourable citizen who died a month or so ago and left two million and a half of roubles and how do you know that he left two million and a half of roubles asked rogojin disdainfully and not deigning so much as to look at the other. however it s true enough that my father died a month ago and that here am i returning from pskoff a month after with hardly a boot to my foot. they ve treated me like a dog i ve been ill of fever at pskoff the whole time and not a line nor farthing of money have i received from my mother or my confounded brother and now you ll have a million roubles at least goodness gracious me exclaimed the clerk rubbing his hands. five weeks since i was just like yourself continued rogojin addressing the prince with nothing but a bundle and the clothes i wore. i ran away from my father and came to pskoff to my aunt s house where i caved in at once with fever and he went and died while i was away. all honour to my respected father s memory but he uncommonly nearly killed me all the same. give you my word prince if i hadn t cut and run then when i did he d have murdered me like a dog. i suppose you angered him somehow asked the prince looking at the millionaire with considerable curiosity. but though there may have been something remarkable in the fact that this man was heir to millions of roubles there was something about him which surprised and interested the prince more than that. rogojin too seemed to have taken up the conversation with unusual alacrity it appeared that he was still in a considerable state of excitement if not absolutely feverish and was in real need of someone to talk to for the mere sake of talking as safety valve to his agitation. as for his red nosed neighbour the latter since the information as to the identity of rogojin hung over him seemed to be living on the honey of his words and in the breath of his nostrils catching at every syllable as though it were a pearl of great price. oh yes i angered him i certainly did anger him replied rogojin. but what puts me out so is my brother. of course my mother couldn t do anything she s too old and whatever brother senka says is law for her but why couldn t he let me know he sent a telegram they say. what s the good of a telegram it frightened my aunt so that she sent it back to the office unopened and there it s been ever since it s only thanks to konief that i heard at all he wrote me all about it. he says my brother cut off the gold tassels from my father s coffin at night because they re worth a lot of money says he. why i can get him sent off to siberia for that alone if i like it s sacrilege. here you scarecrow he added addressing the clerk at his side is it sacrilege or not by law sacrilege certainly certainly sacrilege said the latter. and it s siberia for sacrilege isn t it undoubtedly so siberia of course they will think that i m still ill continued rogojin to the prince but i sloped off quietly seedy as i was took the train and came away. aha brother senka you ll have to open your gates and let me in my boy i know he told tales about me to my father i know that well enough but i certainly did rile my father about nastasia philipovna that s very sure and that was my own doing. nastasia philipovna said the clerk as though trying to think out something. come you know nothing about her said rogojin impatiently. and supposing i do know something observed the other triumphantly. bosh there are plenty of nastasia philipovnas. and what an impertinent beast you are he added angrily. i thought some creature like you would hang on to me as soon as i got hold of my money. oh but i do know as it happens said the clerk in an aggravating manner. lebedeff knows all about her. you are pleased to reproach me your excellency but what if i prove that i am right after all nastasia phillpovna s family name is barashkoff i know you see and she is a very well known lady indeed and comes of a good family too. she is connected with one totski afanasy ivanovitch a man of considerable property a director of companies and so on and a great friend of general epanchin who is interested in the same matters as he is. my eyes said rogojin really surprised at last. the devil take the fellow how does he know that why he knows everything lebedeff knows everything i was a month or two with lihachof after his father died your excellency and while he was knocking about he s in the debtor s prison now i was with him and he couldn t do a thing without lebedeff and i got to know nastasia philipovna and several people at that time. nastasia philipovna why you don t mean to say that she and lihachof cried rogojin turning quite pale. no no no no no nothing of the sort i assure you said lebedeff hastily. oh dear no not for the world totski s the only man with any chance there. oh no he takes her to his box at the opera at the french theatre of an evening and the officers and people all look at her and say by jove there s the famous nastasia philipovna but no one ever gets any further than that for there is nothing more to say. yes it s quite true said rogojin frowning gloomily so zaleshoff told me. i was walking about the nefsky one fine day prince in my father s old coat when she suddenly came out of a shop and stepped into her carriage. i swear i was all of a blaze at once. then i met zaleshoff looking like a hair dresser s assistant got up as fine as i don t know who while i looked like a tinker. don t flatter yourself my boy said he she s not for such as you she s a princess she is and her name is nastasia philipovna barashkoff and she lives with totski who wishes to get rid of her because he s growing rather old fifty five or so and wants to marry a certain beauty the loveliest woman in all petersburg. and then he told me that i could see nastasia philipovna at the opera house that evening if i liked and described which was her box. well i d like to see my father allowing any of us to go to the theatre he d sooner have killed us any day. however i went for an hour or so and saw nastasia philipovna and i never slept a wink all night after. next morning my father happened to give me two government loan bonds to sell worth nearly five thousand roubles each. sell them said he and then take seven thousand five hundred roubles to the office give them to the cashier and bring me back the rest of the ten thousand without looking in anywhere on the way look sharp i shall be waiting for you. well i sold the bonds but i didn t take the seven thousand roubles to the office i went straight to the english shop and chose a pair of earrings with a diamond the size of a nut in each. they cost four hundred roubles more than i had so i gave my name and they trusted me. with the earrings i went at once to zaleshoff s. come on i said come on to nastasia philipovna s and off we went without more ado. i tell you i hadn t a notion of what was about me or before me or below my feet all the way i saw nothing whatever. we went straight into her drawing room and then she came out to us. i didn t say right out who i was but zaleshoff said from parfen rogojin in memory of his first meeting with you yesterday be so kind as to accept these she opened the parcel looked at the earrings and laughed. thank your friend mr. rogojin for his kind attention says she and bowed and went off. why didn t i die there on the spot the worst of it all was though that the beast zaleshoff got all the credit of it i was short and abominably dressed and stood and stared in her face and never said a word because i was shy like an ass and there was he all in the fashion pomaded and dressed out with a smart tie on bowing and scraping and i bet anything she took him for me all the while look here now i said when we came out none of your interference here after this do you understand he laughed and how are you going to settle up with your father says he. i thought i might as well jump into the neva at once without going home first but it struck me that i wouldn t after all and i went home feeling like one of the damned. my goodness shivered the clerk. and his father he added for the prince s instruction and his father would have given a man a ticket to the other world for ten roubles any day not to speak of ten thousand the prince observed rogojin with great curiosity he seemed paler than ever at this moment. what do you know about it cried the latter. well my father learned the whole story at once and zaleshoff blabbed it all over the town besides. so he took me upstairs and locked me up and swore at me for an hour. this is only a foretaste says he wait a bit till night comes and i ll come back and talk to you again. well what do you think the old fellow went straight off to nastasia philipovna touched the floor with his forehead and began blubbering and beseeching her on his knees to give him back the diamonds. so after awhile she brought the box and flew out at him. there she says take your earrings you wretched old miser although they are ten times dearer than their value to me now that i know what it must have cost parfen to get them give parfen my compliments she says and thank him very much well i meanwhile had borrowed twenty five roubles from a friend and off i went to pskoff to my aunt s. the old woman there lectured me so that i left the house and went on a drinking tour round the public houses of the place. i was in a high fever when i got to pskoff and by nightfall i was lying delirious in the streets somewhere or other oho we ll make nastasia philipovna sing another song now giggled lebedeff rubbing his hands with glee. hey my boy we ll get her some proper earrings now we ll get her such earrings that look here cried rogojin seizing him fiercely by the arm look here if you so much as name nastasia philipovna again i ll tan your hide as sure as you sit there aha do by all means if you tan my hide you won t turn me away from your society. you ll bind me to you with your lash for ever. ha ha here we are at the station though. sure enough the train was just steaming in as he spoke. though rogojin had declared that he left pskoff secretly a large collection of friends had assembled to greet him and did so with profuse waving of hats and shouting. why there s zaleshoff here too he muttered gazing at the scene with a sort of triumphant but unpleasant smile. then he suddenly turned to the prince prince i don t know why i have taken a fancy to you perhaps because i met you just when i did. but no it can t be that for i met this fellow nodding at lebedeff too and i have not taken a fancy to him by any means. come to see me prince we ll take off those gaiters of yours and dress you up in a smart fur coat the best we can buy. you shall have a dress coat best quality white waistcoat anything you like and your pocket shall be full of money. come and you shall go with me to nastasia philipovna s. now then will you come or no accept accept prince lef nicolaievitch said lebedef solemnly don t let it slip accept quick prince muishkin rose and stretched out his hand courteously while he replied with some cordiality i will come with the greatest pleasure and thank you very much for taking a fancy to me. i dare say i may even come today if i have time for i tell you frankly that i like you very much too. i liked you especially when you told us about the diamond earrings but i liked you before that as well though you have such a dark clouded sort of face. thanks very much for the offer of clothes and a fur coat i certainly shall require both clothes and coat very soon. as for money i have hardly a copeck about me at this moment. you shall have lots of money by the evening i shall have plenty so come along that s true enough he ll have lots before evening put in lebedeff. but look here are you a great hand with the ladies let s know that first asked rogojin. oh no oh no said the prince i couldn t you know my illness i hardly ever saw a soul. h m well here you fellow you can come along with me now if you like cried rogojin to lebedeff and so they all left the carriage. lebedeff had his desire. he went off with the noisy group of rogojin s friends towards the voznesensky while the prince s route lay towards the litaynaya. it was damp and wet. the prince asked his way of passers by and finding that he was a couple of miles or so from his destination he determined to take a droshky. \n"
     ]
    }
   ],
   "source": [
    "# 1. Extract the content form the book\n",
    "\n",
    "# Import Libraries\n",
    "import re\n",
    "import requests\n",
    "\n",
    "# url you want to extract\n",
    "url = 'https://www.gutenberg.org/files/2638/2638-0.txt'\n",
    "\n",
    "# Function to extract\n",
    "def get_book(url):\n",
    "    raw = requests.get(url).text # Sends a http request to get the text from project Gutenberg\n",
    "    start = re.search(r\"\\*\\*\\* START OF THIS PROJECT GUTENBERG EBOOK .* \\*\\*\\*\",raw ).end() # Discards the metadata from the beginning of the book\n",
    "    stop = re.search(r\"II\", raw).start() # Discards the metadata from the end of the book4\n",
    "    text = raw[start:stop] # Keeps the relevant text\n",
    "    return text\n",
    "\n",
    "# Processing\n",
    "def preprocess(sentence):\n",
    "    return re.sub('[^A-Za-z0-9.]+' , ' ', sentence).lower()\n",
    "\n",
    "# Calling the above function\n",
    "book = get_book(url)\n",
    "processed_book = preprocess(book)\n",
    "print(processed_book)"
   ]
  },
  {
   "cell_type": "code",
   "execution_count": 17,
   "metadata": {},
   "outputs": [
    {
     "data": {
      "text/plain": [
       "302"
      ]
     },
     "execution_count": 17,
     "metadata": {},
     "output_type": "execute_result"
    }
   ],
   "source": [
    "# 2.Perform some exploratory data analysis on this data using regex\n",
    "\n",
    "# Count number of times \"the\" is appeared in the book\n",
    "len(re.findall(r'the', processed_book))"
   ]
  },
  {
   "cell_type": "code",
   "execution_count": 18,
   "metadata": {},
   "outputs": [
    {
     "name": "stdout",
     "output_type": "stream",
     "text": [
      " produced by martin adamson david widger with corrections by andrew sly the idiot by fyodor dostoyevsky translated by eva martin part I i. towards the end of november during a thaw at nine o clock one morning a train on the warsaw and petersburg railway was approaching the latter city at full speed. the morning was so damp and misty that it was only with great difficulty that the day succeeded in breaking and it was impossible to distinguish anything more than a few yards away from the carriage windows. some of the passengers by this particular train were returning from abroad but the third class carriages were the best filled chiefly with insignificant persons of various occupations and degrees picked up at the different stations nearer town. all of them seemed weary and most of them had sleepy eyes and a shivering expression while their complexions generally appeared to have taken on the colour of the fog outside. when day dawned two passengers in one of the third class carriages found themselves opposite each other. both were young fellows both were rather poorly dressed both had remarkable faces and both were evidently anxious to start a conversation. if they had but known why at this particular moment they were both remarkable persons they would undoubtedly have wondered at the strange chance which had set them down opposite to one another in a third class carriage of the warsaw railway company. one of them was a young fellow of about twenty seven not tall with black curling hair and small grey fiery eyes. his nose was broad and flat and he had high cheek bones his thin lips were constantly compressed into an impudent ironical it might almost be called a malicious smile but his forehead was high and well formed and atoned for a good deal of the ugliness of the lower part of his face. a special feature of this physiognomy was its death like pallor which gave to the whole man an indescribably emaciated appearance in spite of his hard look and at the same time a sort of passionate and suffering expression which did not harmonize with his impudent sarcastic smile and keen self satisfied bearing. he wore a large fur or rather astrachan overcoat which had kept him warm all night while his neighbour had been obliged to bear the full severity of a russian november night entirely unprepared. his wide sleeveless mantle with a large cape to it the sort of cloak one sees upon travellers during the winter months in switzerland or north italy was by no means adapted to the long cold journey through russia from eydkuhnen to st. petersburg. the wearer of this cloak was a young fellow also of about twenty six or twenty seven years of age slightly above the middle height very fair with a thin pointed and very light coloured beard his eyes were large and blue and had an intent look about them yet that heavy expression which some people affirm to be a peculiarity as well as evidence of an epileptic subject. his face was decidedly a pleasant one for all that refined but quite colourless except for the circumstance that at this moment it was blue with cold. he held a bundle made up of an old faded silk handkerchief that apparently contained all his travelling wardrobe and wore thick shoes and gaiters his whole appearance being very un russian. his black haired neighbour inspected these peculiarities having nothing better to do and at length remarked with that rude enjoyment of the discomforts of others which the common classes so often show cold very said his neighbour readily and this is a thaw too. fancy if it had been a hard frost I never thought it would be so cold in the old country. I ve grown quite out of the way of it. what been abroad I suppose yes straight from switzerland. wheugh my goodness the black haired young fellow whistled and then laughed. the conversation proceeded. the readiness of the fair haired young man in the cloak to answer all his opposite neighbour s questions was surprising. he seemed to have no suspicion of any impertinence or inappropriateness in the fact of such questions being put to him. replying to them he made known to the inquirer that he certainly had been long absent from russia more than four years that he had been sent abroad for his health that he had suffered from some strange nervous malady a kind of epilepsy with convulsive spasms. his interlocutor burst out laughing several times at his answers and more than ever when to the question whether he had been cured the patient replied no they did not cure me. hey that s it you stumped up your money for nothing and we believe in those fellows here remarked the black haired individual sarcastically. gospel truth sir gospel truth exclaimed another passenger a shabbily dressed man of about forty who looked like a clerk and possessed a red nose and a very blotchy face. gospel truth all they do is to get hold of our good russian money free gratis and for nothing. oh but you re quite wrong in my particular instance said the swiss patient quietly. of course I can t argue the matter because I know only my own case but my doctor gave me money and he had very little to pay my journey back besides having kept me at his own expense while there for nearly two years. why was there no one else to pay for you asked the black haired one. no mr. pavlicheff who had been supporting me there died a couple of years ago. I wrote to mrs. general epanchin at the time she is a distant relative of mine but she did not answer my letter. and so eventually I came back. and where have you come to that is where am I going to stay I i really don t quite know yet I both the listeners laughed again. I suppose your whole set up is in that bundle then asked the first. I bet anything it is exclaimed the red nosed passenger with extreme satisfaction and that he has precious little in the luggage van though of course poverty is no crime we must remember that it appeared that it was indeed as they had surmised. the young fellow hastened to admit the fact with wonderful readiness. your bundle has some importance however continued the clerk when they had laughed their fill it was observable that the subject of their mirth joined in the laughter when he saw them laughing for though I dare say it is not stuffed full of friedrichs d or and louis d or judge from your costume and gaiters still if you can add to your possessions such a valuable property as a relation like mrs. general epanchin then your bundle becomes a significant object at once. that is of course if you really are a relative of mrs. epanchin s and have not made a little error through well absence of mind which is very common to human beings or say through a too luxuriant fancy oh you are right again said the fair haired traveller for I really am almost wrong when I say she and I are related. she is hardly a relation at all so little in fact that I was not in the least surprised to have no answer to my letter. I expected as much. h m you spent your postage for nothing then. h m you are candid however and that is commendable. h m mrs. epanchin oh yes a most eminent person. I know her. as for mr. pavlicheff who supported you in switzerland I know him too at least if it was nicolai andreevitch of that name a fine fellow he was and had a property of four thousand souls in his day. yes nicolai andreevitch that was his name and the young fellow looked earnestly and with curiosity at the all knowing gentleman with the red nose. this sort of character is met with pretty frequently in a certain class. they are people who know everyone that is they know where a man is employed what his salary is whom he knows whom he married what money his wife had who are his cousins and second cousins etc. etc. these men generally have about a hundred pounds a year to live on and they spend their whole time and talents in the amassing of this style of knowledge which they reduce or raise to the standard of a science. during the latter part of the conversation the black haired young man had become very impatient. he stared out of the window and fidgeted and evidently longed for the end of the journey. he was very absent he would appear to listen and heard nothing and he would laugh of a sudden evidently with no idea of what he was laughing about. excuse me said the red nosed man to the young fellow with the bundle rather suddenly whom have I the honour to be talking to prince lef nicolaievitch muishkin replied the latter with perfect readiness. prince muishkin lef nicolaievitch h m I don t know I m sure I may say I have never heard of such a person said the clerk thoughtfully. at least the name I admit is historical. karamsin must mention the family name of course in his history but as an individual one never hears of any prince muishkin nowadays. of course not replied the prince there are none except myself. I believe I am the last and only one. as to my forefathers they have always been a poor lot my own father was a sublieutenant in the army. I don t know how mrs. epanchin comes into the muishkin family but she is descended from the princess muishkin and she too is the last of her line. and did you learn science and all that with your professor over there asked the black haired passenger. oh yes I did learn a little but I ve never learned anything whatever said the other. oh but I learned very little you know added the prince as though excusing himself. they could not teach me very much on account of my illness. do you know the rogojins asked his questioner abruptly. no I don t not at all I hardly know anyone in russia. why is that your name yes I am rogojin parfen rogojin. parfen rogojin dear me then don t you belong to those very rogojins perhaps began the clerk with a very perceptible increase of civility in his tone. yes those very ones interrupted rogojin impatiently and with scant courtesy. I may remark that he had not once taken any notice of the blotchy faced passenger and had hitherto addressed all his remarks direct to the prince. dear me is it possible observed the clerk while his face assumed an expression of great deference and servility if not of absolute alarm what a son of that very semen rogojin hereditary honourable citizen who died a month or so ago and left two million and a half of roubles and how do you know that he left two million and a half of roubles asked rogojin disdainfully and not deigning so much as to look at the other. however it s true enough that my father died a month ago and that here am I returning from pskoff a month after with hardly a boot to my foot. they ve treated me like a dog I ve been ill of fever at pskoff the whole time and not a line nor farthing of money have I received from my mother or my confounded brother and now you ll have a million roubles at least goodness gracious me exclaimed the clerk rubbing his hands. five weeks since I was just like yourself continued rogojin addressing the prince with nothing but a bundle and the clothes I wore. I ran away from my father and came to pskoff to my aunt s house where I caved in at once with fever and he went and died while I was away. all honour to my respected father s memory but he uncommonly nearly killed me all the same. give you my word prince if I hadn t cut and run then when I did he d have murdered me like a dog. I suppose you angered him somehow asked the prince looking at the millionaire with considerable curiosity. but though there may have been something remarkable in the fact that this man was heir to millions of roubles there was something about him which surprised and interested the prince more than that. rogojin too seemed to have taken up the conversation with unusual alacrity it appeared that he was still in a considerable state of excitement if not absolutely feverish and was in real need of someone to talk to for the mere sake of talking as safety valve to his agitation. as for his red nosed neighbour the latter since the information as to the identity of rogojin hung over him seemed to be living on the honey of his words and in the breath of his nostrils catching at every syllable as though it were a pearl of great price. oh yes I angered him I certainly did anger him replied rogojin. but what puts me out so is my brother. of course my mother couldn t do anything she s too old and whatever brother senka says is law for her but why couldn t he let me know he sent a telegram they say. what s the good of a telegram it frightened my aunt so that she sent it back to the office unopened and there it s been ever since it s only thanks to konief that I heard at all he wrote me all about it. he says my brother cut off the gold tassels from my father s coffin at night because they re worth a lot of money says he. why I can get him sent off to siberia for that alone if I like it s sacrilege. here you scarecrow he added addressing the clerk at his side is it sacrilege or not by law sacrilege certainly certainly sacrilege said the latter. and it s siberia for sacrilege isn t it undoubtedly so siberia of course they will think that I m still ill continued rogojin to the prince but I sloped off quietly seedy as I was took the train and came away. aha brother senka you ll have to open your gates and let me in my boy I know he told tales about me to my father I know that well enough but I certainly did rile my father about nastasia philipovna that s very sure and that was my own doing. nastasia philipovna said the clerk as though trying to think out something. come you know nothing about her said rogojin impatiently. and supposing I do know something observed the other triumphantly. bosh there are plenty of nastasia philipovnas. and what an impertinent beast you are he added angrily. I thought some creature like you would hang on to me as soon as I got hold of my money. oh but I do know as it happens said the clerk in an aggravating manner. lebedeff knows all about her. you are pleased to reproach me your excellency but what if I prove that I am right after all nastasia phillpovna s family name is barashkoff I know you see and she is a very well known lady indeed and comes of a good family too. she is connected with one totski afanasy ivanovitch a man of considerable property a director of companies and so on and a great friend of general epanchin who is interested in the same matters as he is. my eyes said rogojin really surprised at last. the devil take the fellow how does he know that why he knows everything lebedeff knows everything I was a month or two with lihachof after his father died your excellency and while he was knocking about he s in the debtor s prison now I was with him and he couldn t do a thing without lebedeff and I got to know nastasia philipovna and several people at that time. nastasia philipovna why you don t mean to say that she and lihachof cried rogojin turning quite pale. no no no no no nothing of the sort I assure you said lebedeff hastily. oh dear no not for the world totski s the only man with any chance there. oh no he takes her to his box at the opera at the french theatre of an evening and the officers and people all look at her and say by jove there s the famous nastasia philipovna but no one ever gets any further than that for there is nothing more to say. yes it s quite true said rogojin frowning gloomily so zaleshoff told me. I was walking about the nefsky one fine day prince in my father s old coat when she suddenly came out of a shop and stepped into her carriage. I swear I was all of a blaze at once. then I met zaleshoff looking like a hair dresser s assistant got up as fine as I don t know who while I looked like a tinker. don t flatter yourself my boy said he she s not for such as you she s a princess she is and her name is nastasia philipovna barashkoff and she lives with totski who wishes to get rid of her because he s growing rather old fifty five or so and wants to marry a certain beauty the loveliest woman in all petersburg. and then he told me that I could see nastasia philipovna at the opera house that evening if I liked and described which was her box. well I d like to see my father allowing any of us to go to the theatre he d sooner have killed us any day. however I went for an hour or so and saw nastasia philipovna and I never slept a wink all night after. next morning my father happened to give me two government loan bonds to sell worth nearly five thousand roubles each. sell them said he and then take seven thousand five hundred roubles to the office give them to the cashier and bring me back the rest of the ten thousand without looking in anywhere on the way look sharp I shall be waiting for you. well I sold the bonds but I didn t take the seven thousand roubles to the office I went straight to the english shop and chose a pair of earrings with a diamond the size of a nut in each. they cost four hundred roubles more than I had so I gave my name and they trusted me. with the earrings I went at once to zaleshoff s. come on I said come on to nastasia philipovna s and off we went without more ado. I tell you I hadn t a notion of what was about me or before me or below my feet all the way I saw nothing whatever. we went straight into her drawing room and then she came out to us. I didn t say right out who I was but zaleshoff said from parfen rogojin in memory of his first meeting with you yesterday be so kind as to accept these she opened the parcel looked at the earrings and laughed. thank your friend mr. rogojin for his kind attention says she and bowed and went off. why didn t I die there on the spot the worst of it all was though that the beast zaleshoff got all the credit of it I was short and abominably dressed and stood and stared in her face and never said a word because I was shy like an ass and there was he all in the fashion pomaded and dressed out with a smart tie on bowing and scraping and I bet anything she took him for me all the while look here now I said when we came out none of your interference here after this do you understand he laughed and how are you going to settle up with your father says he. I thought I might as well jump into the neva at once without going home first but it struck me that I wouldn t after all and I went home feeling like one of the damned. my goodness shivered the clerk. and his father he added for the prince s instruction and his father would have given a man a ticket to the other world for ten roubles any day not to speak of ten thousand the prince observed rogojin with great curiosity he seemed paler than ever at this moment. what do you know about it cried the latter. well my father learned the whole story at once and zaleshoff blabbed it all over the town besides. so he took me upstairs and locked me up and swore at me for an hour. this is only a foretaste says he wait a bit till night comes and I ll come back and talk to you again. well what do you think the old fellow went straight off to nastasia philipovna touched the floor with his forehead and began blubbering and beseeching her on his knees to give him back the diamonds. so after awhile she brought the box and flew out at him. there she says take your earrings you wretched old miser although they are ten times dearer than their value to me now that I know what it must have cost parfen to get them give parfen my compliments she says and thank him very much well I meanwhile had borrowed twenty five roubles from a friend and off I went to pskoff to my aunt s. the old woman there lectured me so that I left the house and went on a drinking tour round the public houses of the place. I was in a high fever when I got to pskoff and by nightfall I was lying delirious in the streets somewhere or other oho we ll make nastasia philipovna sing another song now giggled lebedeff rubbing his hands with glee. hey my boy we ll get her some proper earrings now we ll get her such earrings that look here cried rogojin seizing him fiercely by the arm look here if you so much as name nastasia philipovna again I ll tan your hide as sure as you sit there aha do by all means if you tan my hide you won t turn me away from your society. you ll bind me to you with your lash for ever. ha ha here we are at the station though. sure enough the train was just steaming in as he spoke. though rogojin had declared that he left pskoff secretly a large collection of friends had assembled to greet him and did so with profuse waving of hats and shouting. why there s zaleshoff here too he muttered gazing at the scene with a sort of triumphant but unpleasant smile. then he suddenly turned to the prince prince I don t know why I have taken a fancy to you perhaps because I met you just when I did. but no it can t be that for I met this fellow nodding at lebedeff too and I have not taken a fancy to him by any means. come to see me prince we ll take off those gaiters of yours and dress you up in a smart fur coat the best we can buy. you shall have a dress coat best quality white waistcoat anything you like and your pocket shall be full of money. come and you shall go with me to nastasia philipovna s. now then will you come or no accept accept prince lef nicolaievitch said lebedef solemnly don t let it slip accept quick prince muishkin rose and stretched out his hand courteously while he replied with some cordiality I will come with the greatest pleasure and thank you very much for taking a fancy to me. I dare say I may even come today if I have time for I tell you frankly that I like you very much too. I liked you especially when you told us about the diamond earrings but I liked you before that as well though you have such a dark clouded sort of face. thanks very much for the offer of clothes and a fur coat I certainly shall require both clothes and coat very soon. as for money I have hardly a copeck about me at this moment. you shall have lots of money by the evening I shall have plenty so come along that s true enough he ll have lots before evening put in lebedeff. but look here are you a great hand with the ladies let s know that first asked rogojin. oh no oh no said the prince I couldn t you know my illness I hardly ever saw a soul. h m well here you fellow you can come along with me now if you like cried rogojin to lebedeff and so they all left the carriage. lebedeff had his desire. he went off with the noisy group of rogojin s friends towards the voznesensky while the prince s route lay towards the litaynaya. it was damp and wet. the prince asked his way of passers by and finding that he was a couple of miles or so from his destination he determined to take a droshky. \n"
     ]
    }
   ],
   "source": [
    "# Replace \"i\" with \"I\"\n",
    "processed_book = re.sub(r'\\si\\s', \" I \", processed_book)\n",
    "print(processed_book)"
   ]
  },
  {
   "cell_type": "code",
   "execution_count": 19,
   "metadata": {},
   "outputs": [
    {
     "data": {
      "text/plain": [
       "['ironical--it',\n",
       " 'malicious--smile',\n",
       " 'fur--or',\n",
       " 'astrachan--overcoat',\n",
       " 'it--the',\n",
       " 'Italy--was',\n",
       " 'malady--a',\n",
       " 'money--and',\n",
       " 'little--to',\n",
       " 'No--Mr',\n",
       " 'is--where',\n",
       " 'I--I',\n",
       " 'I--',\n",
       " '--though',\n",
       " 'crime--we',\n",
       " 'or--judge',\n",
       " 'gaiters--still',\n",
       " '--if',\n",
       " 'through--well',\n",
       " 'say--through',\n",
       " 'however--and',\n",
       " 'Epanchin--oh',\n",
       " 'too--at',\n",
       " 'was--and',\n",
       " 'Andreevitch--that',\n",
       " 'everyone--that',\n",
       " 'reduce--or',\n",
       " 'raise--to',\n",
       " 'listen--and',\n",
       " 'history--but',\n",
       " 'individual--one',\n",
       " 'yes--I',\n",
       " 'but--',\n",
       " 't--not',\n",
       " 'me--then',\n",
       " 'perhaps--',\n",
       " 'Yes--those',\n",
       " 'me--is',\n",
       " 'servility--if',\n",
       " 'Rogojin--hereditary',\n",
       " 'citizen--who',\n",
       " 'least--goodness',\n",
       " 'memory--but',\n",
       " 'latter--since',\n",
       " 'Rogojin--hung',\n",
       " 'him--I',\n",
       " 'anything--she',\n",
       " 'old--and',\n",
       " 'you--scarecrow',\n",
       " 'certainly--certainly',\n",
       " 'father--I',\n",
       " 'Barashkoff--I',\n",
       " 'see--and',\n",
       " 'everything--Lebedeff',\n",
       " 'about--he',\n",
       " 'now--I',\n",
       " 'Lihachof--',\n",
       " 'Zaleshoff--looking',\n",
       " 'old--fifty',\n",
       " 'so--and',\n",
       " 'this--do',\n",
       " 'day--not',\n",
       " 'that--',\n",
       " 'do--by',\n",
       " 'know--my',\n",
       " 'illness--I',\n",
       " 'well--here',\n",
       " 'fellow--you']"
      ]
     },
     "execution_count": 19,
     "metadata": {},
     "output_type": "execute_result"
    }
   ],
   "source": [
    "# Find all occurance of text in the format \"abc--xyz\"\n",
    "re.findall(r'[a-zA-Z0-9]*--[a-zA-Z0-9]*', book)"
   ]
  },
  {
   "cell_type": "markdown",
   "metadata": {},
   "source": [
    "##### String Handling"
   ]
  },
  {
   "cell_type": "markdown",
   "metadata": {},
   "source": [
    "In this recipe, we are going to discuss how to handle strings and dealing\n",
    "with text data.\n",
    "We can do all sort of basic text explorations using string operations.\n",
    "\n",
    "\n",
    "The simplest way to do this is by using the below string functionality.\n",
    "\n",
    "\n",
    "**s.find(t)** index of first instance of string t inside s (-1 if not found)<br>\n",
    "**s.rfind(t)** index of last instance of string t inside s (-1 if not found)<br>\n",
    "**s.index(t)** like s.find(t) except it raises ValueError if not found<br>\n",
    "**s.rindex(t)** like s.rfind(t) except it raises ValueError if not found<br>\n",
    "**s.join(text)** combine the words of the text into a string using s as the glue<br>\n",
    "**s.split(t)** split s into a list wherever a t is found (whitespace by default)<br>\n",
    "**s.splitlines()** split s into a list of strings, one per line<br>\n",
    "**s.lower()** a lowercased version of the string s<br>\n",
    "**s.upper()** an uppercased version of the string s<br>\n",
    "**s.title()** a titlecased version of the string s<br>\n",
    "**s.strip()** a copy of s without leading or trailing whitespace<br>\n",
    "**s.replace(t, u)** replace instances of t with u inside s<br>"
   ]
  },
  {
   "cell_type": "code",
   "execution_count": 20,
   "metadata": {},
   "outputs": [
    {
     "name": "stdout",
     "output_type": "stream",
     "text": [
      "I\n",
      "------\n",
      " explorin\n"
     ]
    }
   ],
   "source": [
    "# 1. Creating a String\n",
    "\n",
    "String_v1 = \"I  am exploring NLP\"\n",
    "\n",
    "#To extract particular character or range of charactersfrom string\n",
    "print(String_v1[0])\n",
    "\n",
    "print(\"------\")\n",
    "#To extract exploring\n",
    "print(String_v1[5:14])"
   ]
  },
  {
   "cell_type": "code",
   "execution_count": 21,
   "metadata": {},
   "outputs": [
    {
     "name": "stdout",
     "output_type": "stream",
     "text": [
      "I  am learning NLP\n"
     ]
    }
   ],
   "source": [
    "# 2. Replace “exploring” with “learning” in the above string\n",
    "String_v2 = String_v1.replace(\"exploring\", \"learning\")\n",
    "print(String_v2)"
   ]
  },
  {
   "cell_type": "code",
   "execution_count": 22,
   "metadata": {},
   "outputs": [
    {
     "name": "stdout",
     "output_type": "stream",
     "text": [
      "nlpmachine learning\n"
     ]
    }
   ],
   "source": [
    "# Concatenating two strings\n",
    "s1 = \"nlp\"\n",
    "s2 = \"machine learning\"\n",
    "s3 = s1+s2\n",
    "print(s3)"
   ]
  },
  {
   "cell_type": "code",
   "execution_count": 129,
   "metadata": {},
   "outputs": [
    {
     "data": {
      "text/plain": [
       "5"
      ]
     },
     "execution_count": 129,
     "metadata": {},
     "output_type": "execute_result"
    }
   ],
   "source": [
    "# Searching for a substring in a string\n",
    "var=\"I am learning NLP\"\n",
    "f= \"learn\"\n",
    "var.find(f)"
   ]
  },
  {
   "cell_type": "markdown",
   "metadata": {},
   "source": [
    "#### Web Scraping"
   ]
  },
  {
   "cell_type": "markdown",
   "metadata": {},
   "source": [
    "In this recipe, we are going to discuss how to scrape data from the web.\n",
    "\n",
    "So, what is web scraping, also called web harvesting or web data\n",
    "extraction?\n",
    "\n",
    "--> It is a technique to extract a large amount of data from websites and save it in a database or locally. You can use this data to extract information related to your customers/users/products for the business’s benefit. \n",
    "\n",
    "**Prerequisite**: Basic understanding of HTML structure.\n",
    "\n",
    "--> The simplest way to do this is by using beautiful soup or scrapy library from Python. Let’s use beautiful soup in this recipe.\n",
    "\n",
    "Now we wil take the example of the IMDB website for scraping top movies."
   ]
  },
  {
   "cell_type": "code",
   "execution_count": 130,
   "metadata": {},
   "outputs": [
    {
     "data": {
      "application/vnd.jupyter.widget-view+json": {
       "model_id": "750bcaad030143d28b2df4b1ae3d90d9",
       "version_major": 2,
       "version_minor": 0
      },
      "text/plain": [
       "FloatProgress(value=0.0, max=250.0)"
      ]
     },
     "metadata": {},
     "output_type": "display_data"
    },
    {
     "ename": "AttributeError",
     "evalue": "'NoneType' object has no attribute 'find'",
     "output_type": "error",
     "traceback": [
      "\u001b[0;31m---------------------------------------------------------------------------\u001b[0m",
      "\u001b[0;31mAttributeError\u001b[0m                            Traceback (most recent call last)",
      "\u001b[0;32m<ipython-input-130-cc0e3517081e>\u001b[0m in \u001b[0;36m<module>\u001b[0;34m\u001b[0m\n\u001b[1;32m     72\u001b[0m                 \u001b[0mdescription\u001b[0m\u001b[0;34m.\u001b[0m\u001b[0mappend\u001b[0m\u001b[0;34m(\u001b[0m\u001b[0misoup\u001b[0m\u001b[0;34m.\u001b[0m\u001b[0mfind\u001b[0m\u001b[0;34m(\u001b[0m\u001b[0;34m'div'\u001b[0m\u001b[0;34m,\u001b[0m\u001b[0;34m{\u001b[0m\u001b[0;34m'class'\u001b[0m\u001b[0;34m:\u001b[0m\u001b[0;34m'summary_text'\u001b[0m\u001b[0;34m}\u001b[0m\u001b[0;34m)\u001b[0m\u001b[0;34m.\u001b[0m\u001b[0mfind\u001b[0m\u001b[0;34m(\u001b[0m\u001b[0mtext\u001b[0m\u001b[0;34m=\u001b[0m\u001b[0;32mTrue\u001b[0m\u001b[0;34m)\u001b[0m\u001b[0;34m.\u001b[0m\u001b[0mstrip\u001b[0m\u001b[0;34m(\u001b[0m\u001b[0;34m)\u001b[0m\u001b[0;34m)\u001b[0m\u001b[0;34m\u001b[0m\u001b[0;34m\u001b[0m\u001b[0m\n\u001b[1;32m     73\u001b[0m                 \u001b[0mgenre\u001b[0m\u001b[0;34m.\u001b[0m\u001b[0mappend\u001b[0m\u001b[0;34m(\u001b[0m\u001b[0misoup\u001b[0m\u001b[0;34m.\u001b[0m\u001b[0mfind\u001b[0m\u001b[0;34m(\u001b[0m\u001b[0;34m'span'\u001b[0m\u001b[0;34m,\u001b[0m\u001b[0;34m{\u001b[0m\u001b[0;34m'class'\u001b[0m\u001b[0;34m:\u001b[0m\u001b[0;34m'itemprop'\u001b[0m\u001b[0;34m}\u001b[0m\u001b[0;34m)\u001b[0m\u001b[0;34m.\u001b[0m\u001b[0mfind\u001b[0m\u001b[0;34m(\u001b[0m\u001b[0mtext\u001b[0m\u001b[0;34m=\u001b[0m\u001b[0;32mTrue\u001b[0m\u001b[0;34m)\u001b[0m\u001b[0;34m)\u001b[0m\u001b[0;34m\u001b[0m\u001b[0;34m\u001b[0m\u001b[0m\n\u001b[0;32m---> 74\u001b[0;31m                 \u001b[0mmovielength\u001b[0m\u001b[0;34m.\u001b[0m\u001b[0mappend\u001b[0m\u001b[0;34m(\u001b[0m\u001b[0misoup\u001b[0m\u001b[0;34m.\u001b[0m\u001b[0mfind\u001b[0m\u001b[0;34m(\u001b[0m\u001b[0;34m'time'\u001b[0m\u001b[0;34m,\u001b[0m\u001b[0;34m{\u001b[0m\u001b[0;34m'itemprop'\u001b[0m\u001b[0;34m:\u001b[0m\u001b[0;34m'duration'\u001b[0m\u001b[0;34m}\u001b[0m\u001b[0;34m)\u001b[0m\u001b[0;34m.\u001b[0m\u001b[0mfind\u001b[0m\u001b[0;34m(\u001b[0m\u001b[0mtext\u001b[0m\u001b[0;34m=\u001b[0m\u001b[0;32mTrue\u001b[0m\u001b[0;34m)\u001b[0m\u001b[0;34m.\u001b[0m\u001b[0mstrip\u001b[0m\u001b[0;34m(\u001b[0m\u001b[0;34m)\u001b[0m\u001b[0;34m)\u001b[0m\u001b[0;34m\u001b[0m\u001b[0;34m\u001b[0m\u001b[0m\n\u001b[0m\u001b[1;32m     75\u001b[0m             \u001b[0;32mexcept\u001b[0m \u001b[0mrequests\u001b[0m\u001b[0;34m.\u001b[0m\u001b[0mexceptions\u001b[0m\u001b[0;34m.\u001b[0m\u001b[0mConnectionError\u001b[0m\u001b[0;34m:\u001b[0m\u001b[0;34m\u001b[0m\u001b[0;34m\u001b[0m\u001b[0m\n\u001b[1;32m     76\u001b[0m                 \u001b[0mdescription\u001b[0m\u001b[0;34m.\u001b[0m\u001b[0mappend\u001b[0m\u001b[0;34m(\u001b[0m\u001b[0;34m\"\"\u001b[0m\u001b[0;34m)\u001b[0m\u001b[0;34m\u001b[0m\u001b[0;34m\u001b[0m\u001b[0m\n",
      "\u001b[0;31mAttributeError\u001b[0m: 'NoneType' object has no attribute 'find'"
     ]
    }
   ],
   "source": [
    "# Import the Libraries\n",
    "from bs4 import BeautifulSoup\n",
    "import requests\n",
    "import pandas as pd \n",
    "from ipywidgets import FloatProgress\n",
    "from time import sleep\n",
    "from IPython.display import display\n",
    "import re\n",
    "import pickle\n",
    "\n",
    "# URL to extract the data\n",
    "url = 'http://www.imdb.com/chart/top?ref_=nv_mv_250_6'\n",
    "\n",
    "# Request the URL and download the contents using beautiful soup\n",
    "results = requests.get(url)\n",
    "c = results.content\n",
    "soup = BeautifulSoup(c, \"lxml\")\n",
    "\n",
    "# Using Beatuiful soup to extract and parse the data from HTML tags\n",
    "\n",
    "summary = soup.find('div', {'class':'article'})\n",
    "\n",
    "# Create empty lists to append the extracted data\n",
    "moviename = []\n",
    "cast = []\n",
    "description = []\n",
    "rating = []\n",
    "ratingoutof = []\n",
    "year = []\n",
    "genre = []\n",
    "movielength = []\n",
    "rot_audscore = []\n",
    "rot_avgrating = []\n",
    "rot_users = []\n",
    "\n",
    "# Extracting the required data from html soup\n",
    "rgx = re.compile('[%s]' % '()')\n",
    "f = FloatProgress(min=0, max=250)\n",
    "display(f)\n",
    "for row,i in zip(summary.find('table').findAll('tr'),range(len(summary.find('table').findAll('tr')))):\n",
    "    for sitem in row.findAll('span',{'class':'secondaryInfo'}):\n",
    "        s = sitem.find(text=True)\n",
    "        year.append(rgx.sub('', s))\n",
    "    for ritem in row.findAll('td',{'class':'ratingColumn imdbRating'}):\n",
    "        for iget in ritem.findAll('strong'):\n",
    "            rating.append(iget.find(text=True))\n",
    "            ratingoutof.append(iget.get('title').split(' ', 4)[3])\n",
    "    for item in row.findAll('td',{'class':'titleColumn'}):\n",
    "        for href in item.findAll('a',href=True):\n",
    "            moviename.append(href.find(text=True))\n",
    "            rurl = 'https://www.rottentomatoes.com/m/'+ href.find(text=True)\n",
    "            try:\n",
    "                rresult = requests.get(rurl)\n",
    "            except requests.exceptions.ConnectionError:\n",
    "                status_code = \"Connection refused\"\n",
    "            rc = rresult.content\n",
    "            rsoup = BeautifulSoup(rc)\n",
    "            try:\n",
    "                rot_audscore.append(rsoup.find('div',{'class':'meter-value'}).find('span',{'class':'superPageFontColor'}).text)\n",
    "                rot_avgrating.append(rsoup.find('div',{'class':'audience-info hidden-xs superPageFontColor'}).find('div').contents[2].strip())\n",
    "                rot_users.append(rsoup.find('div',{'class':'audience-info hidden-xs superPageFontColor'}).contents[3].contents[2].strip())\n",
    "            except AttributeError:\n",
    "                rot_audscore.append(\"\")\n",
    "                rot_avgrating.append(\"\")\n",
    "                rot_users.append(\"\")\n",
    "            cast.append(href.get('title'))\n",
    "            imdb = \"http://www.imdb.com\" + href.get('href')\n",
    "            try:\n",
    "                iresult = requests.get(imdb)\n",
    "                ic = iresult.content\n",
    "                isoup = BeautifulSoup(ic)\n",
    "                description.append(isoup.find('div',{'class':'summary_text'}).find(text=True).strip())\n",
    "                genre.append(isoup.find('span',{'class':'itemprop'}).find(text=True))\n",
    "                movielength.append(isoup.find('time',{'itemprop':'duration'}).find(text=True).strip())\n",
    "            except requests.exceptions.ConnectionError:\n",
    "                description.append(\"\")\n",
    "                genre.append(\"\")\n",
    "                movielength.append(\"\")\n",
    "    sleep(.1)\n",
    "    f.value = i\n",
    "\n",
    "# List to pandas series\n",
    "moviename = Series(moviename)\n",
    "cast = Series(cast)\n",
    "description = Series(description)\n",
    "rating = Series(rating)\n",
    "ratingoutof = Series(ratingoutof)\n",
    "year = Series(year)\n",
    "genre = Series(genre)\n",
    "movielength = Series(movielength) \n",
    "rot_audscore = Series(rot_audscore)\n",
    "rot_avgrating = Series(rot_avgrating)\n",
    "rot_users = Series(rot_users)\n",
    "\n",
    "# creating dataframe and doing analysis\n",
    "\n",
    "imdb_df = pd.concat([moviename,year,description,genre,movielength,cast,rating,ratingoutof,rot_audscore,rot_avgrating,rot_users],axis=1)\n",
    "imdb_df.columns = ['moviename','year','description','genre','movielength','cast','imdb_rating','imdb_ratingbasedon','tomatoes_audscore','tomatoes_rating','tomatoes_ratingbasedon']\n",
    "imdb_df['rank'] = imdb_df.index + 1\n",
    "imdb_df.head(1)\n",
    "\n",
    "# Saving the file as CSV.\n",
    "\n",
    "imdb_df.to_csv(\"imdbdataexport.csv\")"
   ]
  },
  {
   "cell_type": "markdown",
   "metadata": {},
   "source": [
    "## Exploring and Processing Text Data"
   ]
  },
  {
   "cell_type": "markdown",
   "metadata": {},
   "source": [
    "In this topic, we are going to cover various methods and techniques to preprocess the text data along with exploratory data analysis. We are going to discuss the following recipes under text preprocessing and exploratory data analysis.\n",
    "\n",
    "Recipe 1. Lowercasing\n",
    "\n",
    "Recipe 2. Punctuation removal\n",
    "\n",
    "Recipe 3. Stop words removal\n",
    "\n",
    "Recipe 4. Text standardization\n",
    "\n",
    "Recipe 5. Spelling correction\n",
    "\n",
    "Recipe 6. Tokenization\n",
    "\n",
    "Recipe 7. Stemming\n",
    "\n",
    "Recipe 8. Lemmatization\n",
    "\n",
    "Recipe 9. Exploratory data analysis\n",
    "\n",
    "Recipe 10. End-to-end processing pipeline"
   ]
  },
  {
   "cell_type": "markdown",
   "metadata": {},
   "source": [
    "### Introduction"
   ]
  },
  {
   "cell_type": "markdown",
   "metadata": {},
   "source": [
    "Before directly jumping into the recipes, let us first understand the need for preprocessing the text data. As we all know, around 90% of the world’s data is unstructured and may be present in the form of an image,text, audio, and video. \n",
    "\n",
    "Text can come in a variety of forms from a list of individual words, to sentences to multiple paragraphs with special characters (like tweets and other punctuations). It also may be present in the form of web, HTML, documents, etc. And this data is never clean and consists of a lot of noise. \n",
    "\n",
    "It needs to be treated and then perform a few of the preprocessing functions to make sure we have the right input\n",
    "data for the feature engineering and model building. Suppose if we don’t preprocess the data, any algorithms that are built on top of such data will not add any value for the business. \n",
    "\n",
    "This reminds me of a very popular phrase in the Data Science world “Garbage in – Garbage out.” Preprocessing involves transforming raw text data into an understandable format. Real-world data is very often incomplete,\n",
    "inconsistent, and filled with a lot of noise and is likely to contain many errors. \n",
    "\n",
    "Preprocessing is a proven method of resolving such issues. Data\n",
    "preprocessing prepares raw text data for further processing.\n"
   ]
  },
  {
   "cell_type": "markdown",
   "metadata": {},
   "source": [
    "####  Converting Text Data to Lowercase"
   ]
  },
  {
   "cell_type": "markdown",
   "metadata": {},
   "source": [
    "In this recipe, we are going to discuss how to lowercase the text data in order to have all the data in a uniform format and to make sure “NLP” and “nlp” are treated as the same.\n"
   ]
  },
  {
   "cell_type": "markdown",
   "metadata": {},
   "source": [
    "--> The simplest way to do this is by using the default lower() function in\n",
    "Python.\n",
    "\n",
    "--> The lower() method converts all uppercase characters in a string into\n",
    "lowercase characters and returns them.\n"
   ]
  },
  {
   "cell_type": "code",
   "execution_count": 25,
   "metadata": {},
   "outputs": [
    {
     "name": "stdout",
     "output_type": "stream",
     "text": [
      "                                               tweet\n",
      "0                        This is introduction to NLP\n",
      "1               It is likely to be useful,to people \n",
      "2             Machine learning is the new electrcity\n",
      "3  There would be less hype around AI and more ac...\n",
      "4                           python is the best tool!\n",
      "5                                R is good langauage\n",
      "6                                   I like this book\n",
      "7                        I want more books like this\n"
     ]
    }
   ],
   "source": [
    "# get the input text\n",
    "text=['This is introduction to NLP','It is likely to be useful,\\\n",
    "to people ','Machine learning is the new electrcity','There \\\n",
    "would be less hype around AI and more action going \\\n",
    "forward','python is the best tool!','R is good langauage','I \\\n",
    "like this book','I want more books like this']\n",
    "\n",
    "# convert list to data frame\n",
    "import pandas as pd\n",
    "df = pd.DataFrame({'tweet':text})\n",
    "print(df)"
   ]
  },
  {
   "cell_type": "code",
   "execution_count": 33,
   "metadata": {},
   "outputs": [
    {
     "name": "stdout",
     "output_type": "stream",
     "text": [
      "testing\n"
     ]
    }
   ],
   "source": [
    "#  Execute lower() function on the text data\n",
    "\n",
    "x = 'Testing'\n",
    "x2 = x.lower()\n",
    "print(x2)\n"
   ]
  },
  {
   "cell_type": "code",
   "execution_count": 41,
   "metadata": {},
   "outputs": [
    {
     "data": {
      "text/plain": [
       "0                          this is introduction to nlp\n",
       "1                  it is likely to be useful,to people\n",
       "2               machine learning is the new electrcity\n",
       "3    there would be less hype around ai and more ac...\n",
       "4                             python is the best tool!\n",
       "5                                  r is good langauage\n",
       "6                                     i like this book\n",
       "7                          i want more books like this\n",
       "Name: tweet, dtype: object"
      ]
     },
     "execution_count": 41,
     "metadata": {},
     "output_type": "execute_result"
    }
   ],
   "source": [
    "# Checking the memory usage \n",
    "# %load_ext memory_profiler # %memit\n",
    "# When you want to perform lowercasing on a data frame, use the apply a function as shown below:\n",
    "\n",
    "df['tweet'] = df['tweet'].apply(lambda x: \" \".join(x.lower() for x in x.split()))\n",
    "df['tweet']"
   ]
  },
  {
   "cell_type": "markdown",
   "metadata": {},
   "source": [
    "#### Removing Punctuation"
   ]
  },
  {
   "cell_type": "markdown",
   "metadata": {},
   "source": [
    "In this recipe, we are going to discuss how to remove punctuation from the text data. This step is very important as punctuation doesn’t add any extra information or value. Hence removal of all such instances will help reduce the size of the data and increase computational efficiency.\n",
    " \n",
    "--> The simplest way to do this is by using the regex and replace() function in Python."
   ]
  },
  {
   "cell_type": "code",
   "execution_count": 44,
   "metadata": {},
   "outputs": [
    {
     "name": "stdout",
     "output_type": "stream",
     "text": [
      "                                               tweet\n",
      "0                        this is introduction to nlp\n",
      "1                 it is likely to be usefulto people\n",
      "2             machine learning is the new electrcity\n",
      "3  there would be less hype around ai and more ac...\n",
      "4                            python is the best tool\n",
      "5                                r is good langauage\n",
      "6                                   i like this book\n",
      "7                        i want more books like this\n"
     ]
    }
   ],
   "source": [
    "# get the input text\n",
    "text=['This is introduction to NLP','It is likely to be useful,\\\n",
    "to people ','Machine learning is the new electrcity','There \\\n",
    "would be less hype around AI and more action going \\\n",
    "forward','python is the best tool!','R is good langauage','I \\\n",
    "like this book','I want more books like this']\n",
    "\n",
    "#convert lst to dataframe\n",
    "import pandas as pd\n",
    "sd = pd.DataFrame({'tweet':text})\n",
    "print(df)"
   ]
  },
  {
   "cell_type": "code",
   "execution_count": 45,
   "metadata": {},
   "outputs": [
    {
     "data": {
      "text/plain": [
       "'I like This book'"
      ]
     },
     "execution_count": 45,
     "metadata": {},
     "output_type": "execute_result"
    }
   ],
   "source": [
    "# Using the regex and replace() function, we can remove the punctuation\n",
    "\n",
    "import re \n",
    "s = \"I. like. This book!\"\n",
    "new_s = re.sub(r'[^\\w\\s]','',s)\n",
    "new_s"
   ]
  },
  {
   "cell_type": "markdown",
   "metadata": {},
   "source": [
    "OR"
   ]
  },
  {
   "cell_type": "code",
   "execution_count": 46,
   "metadata": {},
   "outputs": [
    {
     "data": {
      "text/plain": [
       "0                          this is introduction to nlp\n",
       "1                   it is likely to be usefulto people\n",
       "2               machine learning is the new electrcity\n",
       "3    there would be less hype around ai and more ac...\n",
       "4                              python is the best tool\n",
       "5                                  r is good langauage\n",
       "6                                     i like this book\n",
       "7                          i want more books like this\n",
       "Name: tweet, dtype: object"
      ]
     },
     "execution_count": 46,
     "metadata": {},
     "output_type": "execute_result"
    }
   ],
   "source": [
    "df['tweet'] = df['tweet'].str.replace('[^\\w\\s]','')\n",
    "df['tweet']\n",
    "# Here in removing of the punctuations you can see that comma after useful in setn 1 is removed"
   ]
  },
  {
   "cell_type": "code",
   "execution_count": 47,
   "metadata": {},
   "outputs": [
    {
     "data": {
      "text/plain": [
       "'I like This book'"
      ]
     },
     "execution_count": 47,
     "metadata": {},
     "output_type": "execute_result"
    }
   ],
   "source": [
    "import string\n",
    "s = \"I. like. This book!\"\n",
    "for c in string.punctuation:\n",
    "    s = s.replace(c, \"\")\n",
    "s"
   ]
  },
  {
   "cell_type": "markdown",
   "metadata": {},
   "source": [
    "#### Removing Stop Words"
   ]
  },
  {
   "cell_type": "markdown",
   "metadata": {},
   "source": [
    "In this recipe, we are going to discuss how to remove stop words. Stop words are very common words that carry no meaning or less meaning compared to other keywords. \n",
    "\n",
    "If we remove the words that are less commonly used, we can focus on the important keywords instead. Say, for example, in the context of a search engine, if your search query is “How to develop chatbot using python,” if the search engine tries to find web pages that contained the terms “how,” “to,” “develop,” “chatbot,” “using,” “python,” the search engine is going to find a lot more pages that contain the terms “how” and “to” than pages that contain information about developing chatbot because the terms “how” and “to” are so commonly used in the English language. \n",
    "\n",
    "So, if we remove such terms, the search engine can actually focus on retrieving pages that contain the keywords: “develop,” “chatbot,” “python” – which would more closely bring up pages that are of real interest. Similarly we can remove more common words and rare words as well.\n",
    "\n",
    "--> The simplest way to do this by using the NLTK library, or you can build your own stop words file."
   ]
  },
  {
   "cell_type": "code",
   "execution_count": 54,
   "metadata": {
    "scrolled": true
   },
   "outputs": [
    {
     "name": "stdout",
     "output_type": "stream",
     "text": [
      "                                               tweet\n",
      "0                        This is introduction to NLP\n",
      "1              It is likely to be useful, to people \n",
      "2             Machine learning is the new electrcity\n",
      "3  There would be less hype around AI and more ac...\n",
      "4                           python is the best tool!\n",
      "5                                R is good langauage\n",
      "6                                   I like this book\n",
      "7                        I want more books like this\n",
      "++++++++++++++++++++++++++++++++++++++++++++++++++++++++++++++++++++++++++\n"
     ]
    },
    {
     "data": {
      "text/plain": [
       "0                                This introduction NLP\n",
       "1                             It likely useful, people\n",
       "2                      Machine learning new electrcity\n",
       "3    There would less hype around AI action going f...\n",
       "4                                    python best tool!\n",
       "5                                     R good langauage\n",
       "6                                          I like book\n",
       "7                                    I want books like\n",
       "Name: tweet, dtype: object"
      ]
     },
     "execution_count": 54,
     "metadata": {},
     "output_type": "execute_result"
    }
   ],
   "source": [
    "# Read/create the text data\n",
    "text=['This is introduction to NLP','It is likely to be useful, \\\n",
    "to people ','Machine learning is the new electrcity', \n",
    "'There would be less hype around AI and more action going \\\n",
    "forward','python is the best tool!','R is good langauage','I like \\\n",
    "this book','I want more books like this']\n",
    "\n",
    "#convert list to data frame\n",
    "import pandas as pd\n",
    "df = pd.DataFrame({'tweet':text})\n",
    "print(df)\n",
    "\n",
    "print(\"++++++++++++++++++++++++++++++++++++++++++++++++++++++++++++++++++++++++++\")\n",
    "\n",
    "# Execute below commands on the text data\n",
    "\n",
    "import nltk\n",
    "#nltk.download()\n",
    "from nltk.corpus import stopwords\n",
    "\n",
    "# remove stop words\n",
    "stop = stopwords.words('english')\n",
    "df['tweet'] = df['tweet'].apply(lambda x: \" \".join(x for x in x.split() if x not in stop))\n",
    "df['tweet']\n",
    "#memit"
   ]
  },
  {
   "cell_type": "markdown",
   "metadata": {},
   "source": [
    "####  Standardizing Text"
   ]
  },
  {
   "cell_type": "markdown",
   "metadata": {},
   "source": [
    "In this recipe, we are going to discuss how to standardize the text. But before that, let’s understand what is text standardization and why we need to do it.\n",
    "\n",
    "Most of the text data is in the form of either customer reviews, blogs, or tweets, where there is a high chance of people using short words and abbreviations to represent the same meaning. \n",
    "\n",
    "This may help the downstream process to easily understand and resolve the semantics of the text.\n",
    "\n",
    "--> We can write our own custom dictionary to look for short words and abbreviations."
   ]
  },
  {
   "cell_type": "code",
   "execution_count": 56,
   "metadata": {},
   "outputs": [
    {
     "data": {
      "text/plain": [
       "'natural language processing your'"
      ]
     },
     "execution_count": 56,
     "metadata": {},
     "output_type": "execute_result"
    }
   ],
   "source": [
    "# Create a custom lookup dictionary\n",
    "lookup_dict = {'nlp':'natural language processing',\n",
    "'ur':'your', \"wbu\" : \"what about you\"}\n",
    "\n",
    "# Creating a custom function for text standardization\n",
    "import re\n",
    "def text_std(input_text):\n",
    "    words = input_text.split()\n",
    "    new_words = []\n",
    "    for word in words:\n",
    "        word = re.sub(r'[^\\w\\s]','',word)\n",
    "        if word.lower() in lookup_dict:\n",
    "            word = lookup_dict[word.lower()]\n",
    "            new_words.append(word)\n",
    "            new_text = \" \".join(new_words)\n",
    "    return new_text\n",
    "\n",
    "# Run the text_std function\n",
    "text_std(\"I like nlp it's ur choice\")\n",
    "\n",
    "# Here, nlp has standardised to 'natural language processing' and ur to 'your'."
   ]
  },
  {
   "cell_type": "markdown",
   "metadata": {},
   "source": [
    "#### Correcting Spelling"
   ]
  },
  {
   "cell_type": "markdown",
   "metadata": {},
   "source": [
    "In this recipe, we are going to discuss how to do spelling correction. But before that, let’s understand why this spelling correction is important.\n",
    "\n",
    "Most of the text data is in the form of either customer reviews, blogs, or tweets, where there is a high chance of people using short words and making typo errors. This will help us in reducing multiple copies of words, which represents the same meaning. For example, “proccessing” and “processing” will be treated as different words even if they are used in the same sense.\n",
    "\n",
    "Note that abbreviations should be handled before this step, or else the corrector would fail at times. Say, for example, “ur” (actually means “your”) would be corrected to “or.”\n",
    "\n",
    "--> The simplest way to do this by using the TextBlob library"
   ]
  },
  {
   "cell_type": "code",
   "execution_count": 59,
   "metadata": {},
   "outputs": [
    {
     "name": "stdout",
     "output_type": "stream",
     "text": [
      "                                     tweet\n",
      "0                     Introoduction to NLP\n",
      "1    It is likely to be useful, to people \n",
      "2  Maahine leaerning is the new electrcity\n",
      "3                     R is good langanuage\n",
      "4                          I like ths book\n",
      "5             I want moree books like this\n"
     ]
    }
   ],
   "source": [
    "text=['Introoduction to NLP','It is likely to be useful, to \\\n",
    "people ','Maahine leaerning is the new electrcity', 'R is good \\\n",
    "langanuage','I like ths book','I want moree books like this']\n",
    "\n",
    "#convert list to dataframe\n",
    "import pandas as pd\n",
    "df = pd.DataFrame({'tweet':text})\n",
    "print(df)"
   ]
  },
  {
   "cell_type": "code",
   "execution_count": 60,
   "metadata": {},
   "outputs": [
    {
     "data": {
      "text/plain": [
       "0                        Introduction to NLP\n",
       "1      It is likely to be useful, to people \n",
       "2    Machine learning is the new electricity\n",
       "3                         R is good language\n",
       "4                            I like the book\n",
       "5                I want more books like this\n",
       "Name: tweet, dtype: object"
      ]
     },
     "execution_count": 60,
     "metadata": {},
     "output_type": "execute_result"
    }
   ],
   "source": [
    "# Execute below code on the text data\n",
    "from textblob import TextBlob\n",
    "df['tweet'] = df['tweet'].apply(lambda x: str(TextBlob(x).correct()))\n",
    "df['tweet']\n",
    "\n",
    "# If you clearly observe this, it corrected the spelling of Introduction , Machine learning, \n",
    "# electricity, language, the, more "
   ]
  },
  {
   "cell_type": "code",
   "execution_count": 61,
   "metadata": {},
   "outputs": [
    {
     "name": "stdout",
     "output_type": "stream",
     "text": [
      "message\n",
      "service\n"
     ]
    }
   ],
   "source": [
    "#You can also use autocorrect library as shown below\n",
    "from autocorrect import Speller\n",
    "\n",
    "spell = Speller(lang='en')\n",
    "\n",
    "print(spell(u'mussage'))\n",
    "print(spell(u'sirvice'))"
   ]
  },
  {
   "cell_type": "markdown",
   "metadata": {},
   "source": [
    "#### Tokenizing Text"
   ]
  },
  {
   "cell_type": "markdown",
   "metadata": {},
   "source": [
    "In this recipe, we would look at the ways to tokenize. Tokenization refers to splitting text into minimal meaningful units. There is a sentence tokenizer and word tokenizer. We will see a word tokenizer in this recipe, which is a mandatory step in text preprocessing for any kind of analysis. \n",
    "\n",
    "There are many libraries to perform tokenization like NLTK, SpaCy, and TextBlob. Here are a few ways to achieve it.\n",
    "\n",
    "--> The simplest way to do this is by using the TextBlob library."
   ]
  },
  {
   "cell_type": "code",
   "execution_count": 37,
   "metadata": {},
   "outputs": [
    {
     "name": "stdout",
     "output_type": "stream",
     "text": [
      "                                               tweet\n",
      "0                        This is introduction to NLP\n",
      "1              It is likely to be useful, to people \n",
      "2             Machine learning is the new electrcity\n",
      "3  There would be less hype around AI and more ac...\n",
      "4                           python is the best tool!\n",
      "5                                R is good langauage\n",
      "6                                   I like this book\n",
      "7                        I want more books like this\n"
     ]
    }
   ],
   "source": [
    "text=['This is introduction to NLP','It is likely to be useful, \\\n",
    "to people ','Machine learning is the new electrcity',\n",
    "'There would be less hype around AI and more action going \\\n",
    "forward','python is the best tool!','R is good langauage',\n",
    "'I like this book','I want more books like this']\n",
    "\n",
    "#convert list to dataframe\n",
    "import pandas as pd\n",
    "df = pd.DataFrame({'tweet':text})\n",
    "print(df)"
   ]
  },
  {
   "cell_type": "code",
   "execution_count": 38,
   "metadata": {},
   "outputs": [
    {
     "data": {
      "text/plain": [
       "WordList(['There', 'would', 'be', 'less', 'hype', 'around', 'AI', 'and', 'more', 'action', 'going', 'forward'])"
      ]
     },
     "execution_count": 38,
     "metadata": {},
     "output_type": "execute_result"
    }
   ],
   "source": [
    "# Execute below code on the text data\n",
    "\n",
    "# Using textblob\n",
    "from textblob import TextBlob\n",
    "TextBlob(df['tweet'][3]).words"
   ]
  },
  {
   "cell_type": "code",
   "execution_count": 39,
   "metadata": {},
   "outputs": [
    {
     "data": {
      "text/plain": [
       "['My', 'favorite', 'animal', 'is', 'cat']"
      ]
     },
     "execution_count": 39,
     "metadata": {},
     "output_type": "execute_result"
    }
   ],
   "source": [
    "# using NLTK\n",
    "import nltk\n",
    "\n",
    "# create data\n",
    "mystring = \"My favorite animal is cat\"\n",
    "nltk.word_tokenize(mystring)"
   ]
  },
  {
   "cell_type": "code",
   "execution_count": 40,
   "metadata": {},
   "outputs": [
    {
     "data": {
      "text/plain": [
       "['My', 'favorite', 'animal', 'is', 'cat']"
      ]
     },
     "execution_count": 40,
     "metadata": {},
     "output_type": "execute_result"
    }
   ],
   "source": [
    "#using split function from python\n",
    "mystring.split()"
   ]
  },
  {
   "cell_type": "markdown",
   "metadata": {},
   "source": [
    "#### Stemming"
   ]
  },
  {
   "cell_type": "markdown",
   "metadata": {},
   "source": [
    "In this recipe, we will discuss stemming. Stemming is a process of extracting a root word. For example, “fish,” “fishes,” and “fishing” are stemmed into fish.\n",
    "\n",
    "--> The simplest way to do this by using NLTK or a TextBlob library."
   ]
  },
  {
   "cell_type": "code",
   "execution_count": 41,
   "metadata": {},
   "outputs": [
    {
     "name": "stdout",
     "output_type": "stream",
     "text": [
      "                            tweet\n",
      "0                  I like fishing\n",
      "1                      I eat fish\n",
      "2  There are many fishes in pound\n"
     ]
    }
   ],
   "source": [
    "text=['I like fishing','I eat fish','There are many fishes in pound']\n",
    "\n",
    "#convert list to dataframe\n",
    "import pandas as pd\n",
    "df = pd.DataFrame({'tweet':text})\n",
    "print(df)\n"
   ]
  },
  {
   "cell_type": "code",
   "execution_count": 42,
   "metadata": {},
   "outputs": [
    {
     "data": {
      "text/plain": [
       "0                     I like fish\n",
       "1                      I eat fish\n",
       "2    there are mani fish in pound\n",
       "Name: tweet, dtype: object"
      ]
     },
     "execution_count": 42,
     "metadata": {},
     "output_type": "execute_result"
    }
   ],
   "source": [
    "#  Stemming the text\n",
    "#Import library\n",
    "from nltk.stem import PorterStemmer\n",
    "st = PorterStemmer()\n",
    "df['tweet'][:5].apply(lambda x: \" \".join([st.stem(word) for\n",
    "word in x.split()]))\n",
    "\n",
    "# If you observe this, you will notice that fish, fishing, and fishes have been stemmed to fish."
   ]
  },
  {
   "cell_type": "markdown",
   "metadata": {},
   "source": [
    "#### Lemmatizing"
   ]
  },
  {
   "cell_type": "markdown",
   "metadata": {},
   "source": [
    "In this recipe, we will discuss lemmatization. Lemmatization is a process of extracting a root word by considering the vocabulary. For example, “good,” “better,” or “best” is lemmatized into good. \n",
    "\n",
    "The part of speech of a word is determined in lemmatization. It will return the dictionary form of a word, which must be a valid word while stemming just extracts the root word.\n",
    "\n",
    "- Lemmatization handles matching “car” to “cars” along with matching “car” to “automobile.”\n",
    "\n",
    "- Stemming handles matching “car” to “cars.”\n",
    "\n",
    "- Lemmatization can get better results.\n",
    "\n",
    "- The stemmed form of leafs is leaf.\n",
    "\n",
    "- The stemmed form of leaves is leav.\n",
    "\n",
    "- The lemmatized form of leafs is leaf.\n",
    "\n",
    "- The lemmatized form of leaves is leaf.\n",
    "\n",
    "--> The simplest way to do this is by using NLTK or the TextBlob library."
   ]
  },
  {
   "cell_type": "code",
   "execution_count": 43,
   "metadata": {},
   "outputs": [
    {
     "name": "stdout",
     "output_type": "stream",
     "text": [
      "                           tweet\n",
      "0                 I like fishing\n",
      "1                     I eat fish\n",
      "2  There are many fishes inpound\n",
      "3                leaves and leaf\n"
     ]
    }
   ],
   "source": [
    "text=['I like fishing','I eat fish','There are many fishes in\\\n",
    "pound', 'leaves and leaf']\n",
    "\n",
    "#convert list to dataframe\n",
    "import pandas as pd\n",
    "df = pd.DataFrame({'tweet':text})\n",
    "print(df)\n"
   ]
  },
  {
   "cell_type": "code",
   "execution_count": 44,
   "metadata": {},
   "outputs": [
    {
     "data": {
      "text/plain": [
       "0                 I like fishing\n",
       "1                     I eat fish\n",
       "2    There are many fish inpound\n",
       "3                  leaf and leaf\n",
       "Name: tweet, dtype: object"
      ]
     },
     "execution_count": 44,
     "metadata": {},
     "output_type": "execute_result"
    }
   ],
   "source": [
    "# Lemmatizing the data\n",
    "#Import library\n",
    "from textblob import Word\n",
    "\n",
    "#Code for lemmatize\n",
    "df['tweet'] = df['tweet'].apply(lambda x: \" \".join([Word(word).lemmatize() for word in x.split()]))\n",
    "df['tweet']\n",
    "\n",
    "# You can observe that fish and fishes are lemmatized to fish and, as explained, leaves and leaf are lemmatized to leaf."
   ]
  },
  {
   "cell_type": "markdown",
   "metadata": {},
   "source": [
    "#### Exploring Text Data"
   ]
  },
  {
   "cell_type": "markdown",
   "metadata": {},
   "source": [
    "So far, we are comfortable with data collection and text preprocessing. Let us perform some exploratory data analysis.\n",
    " \n",
    "--> The simplest way to do this by using NLTK or the TextBlob library."
   ]
  },
  {
   "cell_type": "code",
   "execution_count": 65,
   "metadata": {},
   "outputs": [
    {
     "name": "stdout",
     "output_type": "stream",
     "text": [
      "1142\n",
      "+++++++++++++++++++\n",
      "102457\n"
     ]
    }
   ],
   "source": [
    "# Read the text data\n",
    "\n",
    "#Importing data\n",
    "import nltk\n",
    "from nltk.corpus import webtext\n",
    "# nltk.download('webtext')\n",
    "wt_sentences = webtext.sents('firefox.txt')\n",
    "wt_words = webtext.words('firefox.txt')\n",
    "\n",
    "#  Import necessary libraries\n",
    "from nltk.probability import FreqDist\n",
    "from nltk.corpus import stopwords\n",
    "import string\n",
    "\n",
    "# Check number of words in the data\n",
    "print(len(wt_sentences))\n",
    "print(\"+++++++++++++++++++\")\n",
    "print(len(wt_words))"
   ]
  },
  {
   "cell_type": "code",
   "execution_count": 66,
   "metadata": {},
   "outputs": [
    {
     "name": "stdout",
     "output_type": "stream",
     "text": [
      "<FreqDist with 8296 samples and 102457 outcomes>\n"
     ]
    }
   ],
   "source": [
    "# Compute the frequency of all words in the reviews\n",
    "frequency_dist = nltk.FreqDist(wt_words)\n",
    "print(frequency_dist)\n"
   ]
  },
  {
   "cell_type": "code",
   "execution_count": 82,
   "metadata": {},
   "outputs": [
    {
     "name": "stdout",
     "output_type": "stream",
     "text": [
      "7175\n",
      "+++++++++++++++++++\n"
     ]
    },
    {
     "data": {
      "text/plain": [
       "['when',\n",
       " 'page',\n",
       " 'with',\n",
       " 'window',\n",
       " 'Firefox',\n",
       " 'does',\n",
       " 'from',\n",
       " 'open',\n",
       " 'menu',\n",
       " 'should',\n",
       " 'doesn',\n",
       " 'after',\n",
       " 'Firebird',\n",
       " 'work',\n",
       " 'browser',\n",
       " 'toolbar',\n",
       " 'button',\n",
       " 'bookmarks',\n",
       " 'dialog',\n",
       " 'bookmark',\n",
       " 'file',\n",
       " 'download',\n",
       " 'crashes',\n",
       " 'text',\n",
       " 'crash',\n",
       " 'click',\n",
       " 'tabs',\n",
       " 'Bookmarks',\n",
       " 'link',\n",
       " 'firefox',\n",
       " 'manager',\n",
       " 'using',\n",
       " 'Mozilla',\n",
       " 'default',\n",
       " 'error',\n",
       " 'clicking',\n",
       " 'windows',\n",
       " 'search',\n",
       " 'folder',\n",
       " 'Phoenix',\n",
       " 'icon',\n",
       " 'Manager',\n",
       " 'this',\n",
       " 'site',\n",
       " 'files',\n",
       " 'Page',\n",
       " 'fails',\n",
       " 'causes',\n",
       " 'close',\n",
       " 'opening',\n",
       " 'Toolbar',\n",
       " 'Bookmark',\n",
       " 'right',\n",
       " 'display',\n",
       " 'down',\n",
       " 'that',\n",
       " 'theme',\n",
       " 'Download',\n",
       " 'pages',\n",
       " 'firebird',\n",
       " 'only',\n",
       " 'while',\n",
       " 'have',\n",
       " 'image',\n",
       " 'links',\n",
       " 'When',\n",
       " 'location',\n",
       " 'Crash',\n",
       " 'option',\n",
       " 'scroll',\n",
       " 'load',\n",
       " 'cannot',\n",
       " 'Options',\n",
       " 'address',\n",
       " 'start',\n",
       " 'password',\n",
       " 'extension',\n",
       " 'install',\n",
       " 'back',\n",
       " 'buttons',\n",
       " 'history',\n",
       " 'loading',\n",
       " 'form',\n",
       " 'instead',\n",
       " 'wrong',\n",
       " 'show',\n",
       " 'mouse',\n",
       " 'build',\n",
       " 'sidebar',\n",
       " 'about',\n",
       " 'focus',\n",
       " 'will',\n",
       " 'http',\n",
       " 'broken',\n",
       " 'Windows',\n",
       " 'popup',\n",
       " 'some',\n",
       " 'icons',\n",
       " 'opens',\n",
       " 'drop',\n",
       " 'context',\n",
       " 'into',\n",
       " 'autocomplete',\n",
       " 'preferences',\n",
       " 'missing',\n",
       " 'screen',\n",
       " 'save',\n",
       " 'Open',\n",
       " 'field',\n",
       " 'print',\n",
       " 'Ctrl',\n",
       " 'working',\n",
       " 'images',\n",
       " 'profile',\n",
       " 'other',\n",
       " 'options',\n",
       " 'mozilla',\n",
       " 'Find',\n",
       " 'Browser',\n",
       " 'startup',\n",
       " 'change',\n",
       " 'size',\n",
       " 'list',\n",
       " 'javascript',\n",
       " 'opened',\n",
       " 'first',\n",
       " 'type',\n",
       " 'user',\n",
       " 'trying',\n",
       " 'like',\n",
       " 'extensions',\n",
       " 'displayed',\n",
       " 'multiple',\n",
       " 'Save',\n",
       " 'phoenix',\n",
       " 'selected',\n",
       " 'Cannot',\n",
       " 'time',\n",
       " 'shows',\n",
       " 'properly',\n",
       " 'over',\n",
       " 'appears',\n",
       " 'view',\n",
       " 'Error',\n",
       " 'name',\n",
       " 'correctly',\n",
       " 'always',\n",
       " 'left',\n",
       " 'item',\n",
       " 'hangs',\n",
       " 'appear',\n",
       " 'background',\n",
       " 'menus',\n",
       " 'directory',\n",
       " 'input',\n",
       " 'application',\n",
       " 'themes',\n",
       " 'version',\n",
       " 'message',\n",
       " 'same',\n",
       " 'blank',\n",
       " 'View',\n",
       " 'File',\n",
       " 'middle',\n",
       " 'even',\n",
       " 'folders',\n",
       " 'scrolling',\n",
       " 'html',\n",
       " 'keyboard',\n",
       " 'without',\n",
       " 'Tools',\n",
       " 'Menu',\n",
       " 'line',\n",
       " 'Preferences',\n",
       " 'proxy',\n",
       " 'saved',\n",
       " 'sites',\n",
       " 'Clicking',\n",
       " 'select',\n",
       " 'content',\n",
       " 'Search',\n",
       " 'home',\n",
       " 'than',\n",
       " 'update',\n",
       " 'shortcut',\n",
       " 'items',\n",
       " 'under',\n",
       " 'source',\n",
       " 'preview',\n",
       " 'current',\n",
       " 'closing',\n",
       " 'find',\n",
       " 'Javascript',\n",
       " 'clicked',\n",
       " 'cookies',\n",
       " 'plugin',\n",
       " 'empty',\n",
       " 'History',\n",
       " 'remove',\n",
       " 'running',\n",
       " 'disabled',\n",
       " 'longer',\n",
       " 'support',\n",
       " 'dropdown',\n",
       " 'status',\n",
       " 'installer',\n",
       " 'installing',\n",
       " 'works',\n",
       " 'displays',\n",
       " 'document',\n",
       " 'allow',\n",
       " 'JavaScript',\n",
       " 'Password',\n",
       " 'shown',\n",
       " 'After',\n",
       " 'downloads',\n",
       " 'last',\n",
       " 'mode',\n",
       " 'Folder',\n",
       " 'more',\n",
       " 'enter',\n",
       " 'drag',\n",
       " 'website',\n",
       " 'freezes',\n",
       " 'wheel',\n",
       " 'login',\n",
       " 'launch',\n",
       " 'another',\n",
       " 'needs',\n",
       " 'About',\n",
       " 'ctrl',\n",
       " 'being',\n",
       " 'Unable',\n",
       " 'Print',\n",
       " 'function',\n",
       " 'Installer',\n",
       " 'Text',\n",
       " 'Help',\n",
       " 'used',\n",
       " 'disable',\n",
       " 'Extension',\n",
       " 'problem',\n",
       " 'installed',\n",
       " 'downloading',\n",
       " 'make',\n",
       " 'Need',\n",
       " 'settings',\n",
       " 'Linux',\n",
       " 'cursor',\n",
       " 'enabled',\n",
       " 'still',\n",
       " 'Java',\n",
       " 'closed',\n",
       " 'found',\n",
       " 'small',\n",
       " 'builds',\n",
       " 'main',\n",
       " 'chrome',\n",
       " 'Tabs',\n",
       " 'system',\n",
       " 'access',\n",
       " 'installation',\n",
       " 'browsing',\n",
       " 'slow',\n",
       " 'Profile',\n",
       " 'breaks',\n",
       " 'Location',\n",
       " 'flash',\n",
       " 'Wrong',\n",
       " 'certain',\n",
       " 'Image',\n",
       " 'Default',\n",
       " 'changes',\n",
       " 'loaded',\n",
       " 'characters',\n",
       " 'URLs',\n",
       " 'Link',\n",
       " 'selection',\n",
       " 'server',\n",
       " 'loads',\n",
       " 'between',\n",
       " 'information',\n",
       " 'switching',\n",
       " 'code',\n",
       " 'style',\n",
       " 'then',\n",
       " 'auto',\n",
       " 'import',\n",
       " 'Window',\n",
       " 'incorrectly',\n",
       " 'command',\n",
       " '...\"',\n",
       " 'gets',\n",
       " 'webpage',\n",
       " 'complete',\n",
       " 'FireFox',\n",
       " 'customize',\n",
       " 'second',\n",
       " 'large',\n",
       " 'delete',\n",
       " 'Sidebar',\n",
       " 'Internet',\n",
       " 'Popup',\n",
       " 'java',\n",
       " 'changing',\n",
       " 'entry',\n",
       " 'different',\n",
       " 'Dialog',\n",
       " 'Flash',\n",
       " 'until',\n",
       " 'full',\n",
       " 'stop',\n",
       " 'pref',\n",
       " 'selecting',\n",
       " 'connection',\n",
       " 'problems',\n",
       " 'nothing',\n",
       " 'there',\n",
       " 'already',\n",
       " 'remember',\n",
       " 'through',\n",
       " 'boxes',\n",
       " 'restart',\n",
       " 'incorrect',\n",
       " 'cache',\n",
       " 'homepage',\n",
       " 'Info',\n",
       " 'very',\n",
       " 'rendering',\n",
       " 'warning',\n",
       " 'which',\n",
       " 'cookie',\n",
       " 'stops',\n",
       " 'results',\n",
       " 'arrow',\n",
       " 'preference',\n",
       " 'character',\n",
       " 'Downloads',\n",
       " 'mail',\n",
       " 'title',\n",
       " 'data',\n",
       " 'Form',\n",
       " 'available',\n",
       " 'Customize',\n",
       " 'Autocomplete',\n",
       " 'Remove',\n",
       " 'Make',\n",
       " 'clear',\n",
       " 'times',\n",
       " 'copy',\n",
       " 'Source',\n",
       " 'sometimes',\n",
       " 'google',\n",
       " 'request',\n",
       " 'HTML',\n",
       " 'makes',\n",
       " 'Theme',\n",
       " 'submit',\n",
       " 'fields',\n",
       " 'create',\n",
       " 'starting',\n",
       " 'This',\n",
       " 'before',\n",
       " 'them',\n",
       " 'Extensions',\n",
       " 'Opening',\n",
       " 'uses',\n",
       " 'prefs',\n",
       " 'visible',\n",
       " 'info',\n",
       " 'gives',\n",
       " 'alert',\n",
       " 'properties',\n",
       " 'keys',\n",
       " 'goes',\n",
       " 'lost',\n",
       " 'blocking',\n",
       " 'favicon',\n",
       " 'disappear',\n",
       " 'toolbars',\n",
       " 'doesnt',\n",
       " 'upon',\n",
       " 'viewing',\n",
       " 'automatically',\n",
       " 'need',\n",
       " 'hang',\n",
       " 'switch',\n",
       " 'showing',\n",
       " 'Back',\n",
       " 'each',\n",
       " 'external',\n",
       " 'Home',\n",
       " 'refresh',\n",
       " 'string',\n",
       " 'blocked',\n",
       " 'during',\n",
       " 'setting',\n",
       " 'unable',\n",
       " 'many',\n",
       " 'Right',\n",
       " 'Thunderbird',\n",
       " 'navigation',\n",
       " 'move',\n",
       " 'every',\n",
       " 'space',\n",
       " 'downloaded',\n",
       " 'contains',\n",
       " 'Middle',\n",
       " 'double',\n",
       " 'active',\n",
       " 'Option',\n",
       " 'disk',\n",
       " 'Address',\n",
       " 'scrollbar',\n",
       " 'expand',\n",
       " 'session',\n",
       " 'Images',\n",
       " 'completely',\n",
       " 'personal',\n",
       " 'color',\n",
       " 'fonts',\n",
       " 'forms',\n",
       " 'updated',\n",
       " 'where',\n",
       " 'value',\n",
       " 'closes',\n",
       " 'prompt',\n",
       " 'monitor',\n",
       " 'within',\n",
       " 'desktop',\n",
       " 'nightly',\n",
       " 'render',\n",
       " 'linux',\n",
       " 'reload',\n",
       " 'Yahoo',\n",
       " 'release',\n",
       " 'deleted',\n",
       " 'passwords',\n",
       " 'inside',\n",
       " 'next',\n",
       " 'Context',\n",
       " 'forward',\n",
       " 'possible',\n",
       " 'part',\n",
       " 'added',\n",
       " 'textbox',\n",
       " 'feature',\n",
       " 'Show',\n",
       " 'just',\n",
       " 'Themes',\n",
       " 'Auto',\n",
       " 'Downloading',\n",
       " 'program',\n",
       " 'help',\n",
       " 'Enter',\n",
       " 'been',\n",
       " 'long',\n",
       " 'plugins',\n",
       " 'choose',\n",
       " 'shortcuts',\n",
       " 'Toolbars',\n",
       " 'CTRL',\n",
       " 'itself',\n",
       " 'Update',\n",
       " 'usage',\n",
       " 'ability',\n",
       " 'Implement',\n",
       " 'order',\n",
       " 'ignored',\n",
       " 'area',\n",
       " 'twice',\n",
       " 'position',\n",
       " 'Preview',\n",
       " 'disappears',\n",
       " 'existing',\n",
       " 'Mouse',\n",
       " 'Click',\n",
       " 'behaviour',\n",
       " 'edit',\n",
       " 'cause',\n",
       " 'displaying',\n",
       " 'again',\n",
       " 'filename',\n",
       " 'deleting',\n",
       " 'https',\n",
       " 'local',\n",
       " 'cust',\n",
       " 'adding',\n",
       " 'remote',\n",
       " 'table',\n",
       " 'accessing',\n",
       " 'dragging',\n",
       " 'Ability',\n",
       " 'typing',\n",
       " 'network',\n",
       " 'action',\n",
       " 'Site',\n",
       " 'immediately',\n",
       " 'starts',\n",
       " 'created',\n",
       " 'certificate',\n",
       " 'saving',\n",
       " 'fail',\n",
       " 'font',\n",
       " 'handling',\n",
       " 'popups',\n",
       " 'Crashes',\n",
       " 'enable',\n",
       " 'cancel',\n",
       " 'able',\n",
       " 'hidden',\n",
       " 'panel',\n",
       " 'Close',\n",
       " 'specific',\n",
       " 'HTTP',\n",
       " 'failed',\n",
       " 'email',\n",
       " 'Change',\n",
       " 'previous',\n",
       " 'could',\n",
       " 'stored',\n",
       " 'Start',\n",
       " 'Shift',\n",
       " 'send',\n",
       " 'rendered',\n",
       " 'User',\n",
       " 'checkbox',\n",
       " 'typed',\n",
       " 'Using',\n",
       " 'config',\n",
       " 'Cookie',\n",
       " 'checked',\n",
       " 'memory',\n",
       " 'above',\n",
       " 'resize',\n",
       " 'imported',\n",
       " 'number',\n",
       " 'failure',\n",
       " 'tooltip',\n",
       " 'contents',\n",
       " 'Full',\n",
       " 'Icon',\n",
       " 'functionality',\n",
       " 'Double',\n",
       " 'username',\n",
       " 'entered',\n",
       " 'href',\n",
       " 'event',\n",
       " 'visiting',\n",
       " 'autoscroll',\n",
       " 'changed',\n",
       " 'removed',\n",
       " 'stay',\n",
       " 'script',\n",
       " 'attempting',\n",
       " 'tree',\n",
       " 'Privacy',\n",
       " 'effect',\n",
       " 'single',\n",
       " 'state',\n",
       " 'control',\n",
       " 'exception',\n",
       " 'fullscreen',\n",
       " 'creates',\n",
       " 'shift',\n",
       " 'responding',\n",
       " 'path',\n",
       " 'present',\n",
       " 'Google',\n",
       " 'dialogs',\n",
       " 'crashed',\n",
       " 'anymore',\n",
       " 'plug',\n",
       " 'locks',\n",
       " 'frame',\n",
       " 'console',\n",
       " 'secure',\n",
       " 'seems',\n",
       " 'Personal',\n",
       " 'Scroll',\n",
       " 'respond',\n",
       " 'containing',\n",
       " 'launching',\n",
       " 'place',\n",
       " 'going',\n",
       " 'overflow',\n",
       " 'black',\n",
       " 'Selecting',\n",
       " 'side',\n",
       " 'keyword',\n",
       " 'loses',\n",
       " 'behavior',\n",
       " 'accept',\n",
       " 'column',\n",
       " 'bars',\n",
       " 'shouldn',\n",
       " 'says',\n",
       " 'entries',\n",
       " 'printing',\n",
       " 'websites',\n",
       " 'header',\n",
       " 'never',\n",
       " 'Security',\n",
       " 'Screen',\n",
       " 'blocker',\n",
       " 'applet',\n",
       " 'bottom',\n",
       " 'width',\n",
       " 'paste',\n",
       " 'what',\n",
       " 'Cancel',\n",
       " 'Allow',\n",
       " 'anything',\n",
       " 'Display',\n",
       " 'Install',\n",
       " 'Manage',\n",
       " 'away',\n",
       " 'pressing',\n",
       " 'Menus',\n",
       " 'once',\n",
       " 'Request',\n",
       " 'ignores',\n",
       " 'specified',\n",
       " 'returns',\n",
       " 'exit',\n",
       " 'include',\n",
       " 'Build',\n",
       " 'tags',\n",
       " 'random',\n",
       " 'parsing',\n",
       " 'tabbed',\n",
       " 'MozillaFirebird',\n",
       " 'attribute',\n",
       " 'stylesheet',\n",
       " 'Edit',\n",
       " 'authentication',\n",
       " 'Mail',\n",
       " 'Icons',\n",
       " 'domain',\n",
       " 'Some',\n",
       " 'block',\n",
       " 'tools',\n",
       " 'Should',\n",
       " 'object',\n",
       " 'loop',\n",
       " 'takes',\n",
       " 'yahoo',\n",
       " 'Advanced',\n",
       " 'Font',\n",
       " 'Type',\n",
       " 'frames',\n",
       " 'Explorer',\n",
       " 'types',\n",
       " 'process',\n",
       " 'Desktop',\n",
       " 'correct',\n",
       " 'Enable',\n",
       " 'tries',\n",
       " 'take',\n",
       " 'Please',\n",
       " 'renders',\n",
       " 'sort',\n",
       " 'applications',\n",
       " 'With',\n",
       " 'Cookies',\n",
       " 'Plugin',\n",
       " 'favicons',\n",
       " 'Problem',\n",
       " 'Incorrect',\n",
       " 'Create',\n",
       " 'fine',\n",
       " 'check',\n",
       " 'pops',\n",
       " 'keeps',\n",
       " 'defined',\n",
       " 'freeze',\n",
       " 'several',\n",
       " 'needed',\n",
       " 'Installing',\n",
       " 'root',\n",
       " 'port',\n",
       " 'elements',\n",
       " 'profiles',\n",
       " 'notification',\n",
       " 'entering',\n",
       " 'keywords',\n",
       " 'target',\n",
       " 'Inspector',\n",
       " 'called',\n",
       " 'made',\n",
       " 'customization',\n",
       " 'throbber',\n",
       " 'Navigation',\n",
       " 'restore',\n",
       " 'standard',\n",
       " 'Keyboard',\n",
       " 'security',\n",
       " 'hide',\n",
       " 'invalid',\n",
       " 'look',\n",
       " 'defaults',\n",
       " 'scrollbars',\n",
       " 'looks',\n",
       " 'latest',\n",
       " 'engine',\n",
       " 'dual',\n",
       " 'undefined',\n",
       " 'gtk2',\n",
       " 'exist',\n",
       " 'listed',\n",
       " 'embedded',\n",
       " 'Feature',\n",
       " 'given',\n",
       " 'collapse',\n",
       " 'though',\n",
       " 'Missing',\n",
       " 'Import',\n",
       " 'becomes',\n",
       " 'arrows',\n",
       " 'urlbar',\n",
       " 'strange',\n",
       " 'sheet',\n",
       " 'updates',\n",
       " 'pointer',\n",
       " 'brings',\n",
       " 'trunk',\n",
       " 'Status',\n",
       " 'setup',\n",
       " 'extra',\n",
       " 'Load',\n",
       " 'Does',\n",
       " 'remains',\n",
       " 'want',\n",
       " 'Links',\n",
       " 'spaces',\n",
       " 'quit',\n",
       " 'turn',\n",
       " 'Clear',\n",
       " 'word',\n",
       " 'wont',\n",
       " 'hand',\n",
       " 'Select',\n",
       " 'Empty',\n",
       " 'seconds',\n",
       " 'visited',\n",
       " 'Printing',\n",
       " 'reset',\n",
       " 'Netscape',\n",
       " 'element',\n",
       " 'result',\n",
       " 'started',\n",
       " 'branch',\n",
       " 'Button',\n",
       " 'updating',\n",
       " 'separator',\n",
       " 'manage',\n",
       " 'high',\n",
       " 'Quick',\n",
       " 'implement',\n",
       " 'would',\n",
       " 'refuses',\n",
       " 'customizing',\n",
       " 'give',\n",
       " 'group',\n",
       " 'configuration',\n",
       " 'editing',\n",
       " 'moving',\n",
       " 'Support',\n",
       " 'Drag',\n",
       " 'because',\n",
       " 'mailto',\n",
       " 'pressed',\n",
       " 'disappeared',\n",
       " 'internet',\n",
       " 'border',\n",
       " 'editor',\n",
       " 'client',\n",
       " 'general',\n",
       " 'resizing',\n",
       " 'also',\n",
       " 'unless',\n",
       " 'There',\n",
       " 'stays',\n",
       " 'based',\n",
       " 'alternate',\n",
       " 'become',\n",
       " 'read',\n",
       " 'finished',\n",
       " 'named',\n",
       " 'components',\n",
       " 'Parsing',\n",
       " 'play',\n",
       " 'instance',\n",
       " 'choosing',\n",
       " 'remembered',\n",
       " 'behind',\n",
       " 'Saved',\n",
       " 'animated',\n",
       " 'secondary',\n",
       " 'attempt',\n",
       " 'engines',\n",
       " 'patch',\n",
       " 'progress',\n",
       " 'hover',\n",
       " 'colors',\n",
       " 'building',\n",
       " 'General',\n",
       " 'removing',\n",
       " 'Access',\n",
       " 'leaves',\n",
       " 'prevents',\n",
       " 'Multiple',\n",
       " 'instances',\n",
       " 'manually',\n",
       " 'aren',\n",
       " 'visit',\n",
       " 'encoding',\n",
       " 'tried',\n",
       " 'pull',\n",
       " 'Acrobat',\n",
       " 'sound',\n",
       " 'onto',\n",
       " 'clicks',\n",
       " 'letter',\n",
       " 'entire',\n",
       " 'speed',\n",
       " 'interface',\n",
       " 'users',\n",
       " 'removes',\n",
       " 'helper',\n",
       " 'partially',\n",
       " 'toolkit',\n",
       " '2003',\n",
       " 'write',\n",
       " 'advanced',\n",
       " 'press',\n",
       " 'reports',\n",
       " 'property',\n",
       " 'Autoscroll',\n",
       " 'Scrolling',\n",
       " 'dialogue',\n",
       " 'GTK2',\n",
       " 'software',\n",
       " 'fully',\n",
       " 'auth',\n",
       " 'migration',\n",
       " 'forgets',\n",
       " 'Move',\n",
       " 'seem',\n",
       " 'resizable',\n",
       " 'Copy',\n",
       " 'Outlook',\n",
       " 'Closing',\n",
       " 'your',\n",
       " 'they',\n",
       " 'Dragging',\n",
       " 'return',\n",
       " 'Send',\n",
       " 'most',\n",
       " 'numbers',\n",
       " 'names',\n",
       " 'unusable',\n",
       " 'expected',\n",
       " 'lock',\n",
       " 'Loading',\n",
       " 'reloads',\n",
       " 'respect',\n",
       " 'around',\n",
       " 'description',\n",
       " 'nightlies',\n",
       " 'notes',\n",
       " 'well',\n",
       " 'Adobe',\n",
       " 'method',\n",
       " 'custom',\n",
       " 'lose',\n",
       " 'recognize',\n",
       " 'Properties',\n",
       " 'values',\n",
       " 'Switching',\n",
       " 'letters',\n",
       " 'Other',\n",
       " 'following',\n",
       " 'Cursor',\n",
       " 'Pages',\n",
       " 'such',\n",
       " 'media',\n",
       " 'protocol',\n",
       " 'recent',\n",
       " 'normal',\n",
       " 'Settings',\n",
       " 'true',\n",
       " 'creating',\n",
       " 'Drop',\n",
       " 'false',\n",
       " 'vertical',\n",
       " 'sorted',\n",
       " 'disables',\n",
       " 'attempts',\n",
       " 'Hotmail',\n",
       " 'radio',\n",
       " 'webpages',\n",
       " 'groups',\n",
       " 'layout',\n",
       " 'height',\n",
       " 'Launch',\n",
       " 'handle',\n",
       " 'rename',\n",
       " 'much',\n",
       " 'navigator',\n",
       " 'favorites',\n",
       " 'choice',\n",
       " 'deletes',\n",
       " 'Focus',\n",
       " 'Delete',\n",
       " 'menubar',\n",
       " 'maximized',\n",
       " 'case',\n",
       " 'Keywords',\n",
       " 'Program',\n",
       " 'Block',\n",
       " 'iframe',\n",
       " 'WinXP',\n",
       " 'errors',\n",
       " 'accessible',\n",
       " 'Scrollbar',\n",
       " 'panels',\n",
       " 'compile',\n",
       " 'moved',\n",
       " 'localhost',\n",
       " 'fixed',\n",
       " 'date',\n",
       " 'Installation',\n",
       " 'requested',\n",
       " 'badly',\n",
       " 'connecting',\n",
       " 'both',\n",
       " 'related',\n",
       " 'white',\n",
       " 'textarea',\n",
       " 'call',\n",
       " 'System',\n",
       " 'randomly',\n",
       " 'Buttons',\n",
       " '....',\n",
       " 'since',\n",
       " 'Bugzilla',\n",
       " 'messages',\n",
       " 'Seamonkey',\n",
       " 'requires',\n",
       " 'something',\n",
       " 'master',\n",
       " 'launches',\n",
       " 'stuck',\n",
       " 'programs',\n",
       " 'pane',\n",
       " 'apps',\n",
       " 'online',\n",
       " 'XPInstall',\n",
       " 'recognized',\n",
       " 'Migrator',\n",
       " 'Size',\n",
       " 'Next',\n",
       " 'handled',\n",
       " 'produces',\n",
       " 'features',\n",
       " 'tool',\n",
       " 'generated',\n",
       " 'export',\n",
       " 'lists',\n",
       " 'supported',\n",
       " 'inactive',\n",
       " 'whenever',\n",
       " 'browse',\n",
       " 'occurs',\n",
       " 'percentage',\n",
       " 'Rename',\n",
       " 'visual',\n",
       " 'indication',\n",
       " 'servers',\n",
       " 'handler',\n",
       " 'Favicons',\n",
       " 'focused',\n",
       " 'originating',\n",
       " 'First',\n",
       " 'Stop',\n",
       " 'rather',\n",
       " 'uninstall',\n",
       " 'Plug',\n",
       " 'weird',\n",
       " 'permissions',\n",
       " 'whole',\n",
       " 'stylesheets',\n",
       " 'resolution',\n",
       " 'commands',\n",
       " 'Software',\n",
       " 'match',\n",
       " 'tables',\n",
       " 'must',\n",
       " 'jump',\n",
       " ...]"
      ]
     },
     "execution_count": 82,
     "metadata": {},
     "output_type": "execute_result"
    }
   ],
   "source": [
    "\n",
    "sorted_frequency_dist = sorted(frequency_dist,key=frequency_dist.__getitem__, reverse=True)\n",
    "print(len(sorted_frequency_dist))\n",
    "print(\"+++++++++++++++++++\")\n",
    "sorted_frequency_dist"
   ]
  },
  {
   "cell_type": "code",
   "execution_count": 83,
   "metadata": {},
   "outputs": [
    {
     "data": {
      "image/png": "[encoded data removed]",
      "text/plain": [
       "<Figure size 432x288 with 1 Axes>"
      ]
     },
     "metadata": {
      "needs_background": "light"
     },
     "output_type": "display_data"
    },
    {
     "data": {
      "text/plain": [
       "<AxesSubplot:xlabel='Samples', ylabel='Counts'>"
      ]
     },
     "execution_count": 83,
     "metadata": {},
     "output_type": "execute_result"
    }
   ],
   "source": [
    "#  Consider words with length greater than 3 and plot\n",
    "large_words = dict([(k,v) for k,v in frequency_dist.items() if len(k)>3])\n",
    "frequency_dist = nltk.FreqDist(large_words)\n",
    "frequency_dist.plot(50,cumulative=False)"
   ]
  },
  {
   "cell_type": "code",
   "execution_count": 84,
   "metadata": {},
   "outputs": [
    {
     "data": {
      "text/plain": [
       "<matplotlib.image.AxesImage at 0x7fc4c341b100>"
      ]
     },
     "execution_count": 84,
     "metadata": {},
     "output_type": "execute_result"
    },
    {
     "data": {
      "image/png": "[encoded data removed]",
      "text/plain": [
       "<Figure size 432x288 with 1 Axes>"
      ]
     },
     "metadata": {
      "needs_background": "light"
     },
     "output_type": "display_data"
    }
   ],
   "source": [
    "#  Build Wordcloud\n",
    "#  Wordcloud is the pictorial representation of the most frequently repeated words representing the size of the word.\n",
    "\n",
    "# build wordcloud\n",
    "from wordcloud import WordCloud\n",
    "wcloud = WordCloud().generate_from_frequencies(frequency_dist) # frequency_dist = nltk.FreqDist(wt_words)\n",
    "\n",
    "# Plotting the wordcloud\n",
    "import matplotlib.pyplot as plt\n",
    "plt.imshow(wcloud, interpolation='bilinear')"
   ]
  },
  {
   "cell_type": "markdown",
   "metadata": {},
   "source": [
    "#### Building a Text Processing Pipeline"
   ]
  },
  {
   "cell_type": "markdown",
   "metadata": {},
   "source": [
    "So far, we have completed most of the text manipulation and processing techniques and methods. In this recipe, let’s do something interesting.\n"
   ]
  },
  {
   "cell_type": "markdown",
   "metadata": {},
   "source": [
    "Now we want to build an end-to-end text preprocessing pipeline. \n",
    "\n",
    "Whenever we want to do preprocessing for any NLP application, you can directly plug in data to this pipeline function and get the required clean text data as the output.\n",
    "\n",
    "--> The simplest way to do this by creating the custom function with all the\n",
    "techniques learned so far.\n",
    "\n",
    "--> This works by putting all the possible processing techniques into a wrapper function and passing the data through it."
   ]
  },
  {
   "cell_type": "code",
   "execution_count": 125,
   "metadata": {},
   "outputs": [],
   "source": [
    "# Read/create the text data\n",
    "tweet_sample= \"How to take control of your #debt https:// \\\n",
    "personal.vanguard.com/us/insights/saving-investing/ \\\n",
    "debt-management.#Best advice for #family #financial #success \\\n",
    "(@PrepareToWin)\""
   ]
  },
  {
   "cell_type": "code",
   "execution_count": 128,
   "metadata": {},
   "outputs": [
    {
     "data": {
      "text/plain": [
       "'How to take control of your debt http personal vanguard com u insight saving investing debt management Best advice for family financial success AT_USER'"
      ]
     },
     "execution_count": 128,
     "metadata": {},
     "output_type": "execute_result"
    }
   ],
   "source": [
    "# Import required libraries\n",
    "import re\n",
    "import nltk\n",
    "from textblob import TextBlob\n",
    "from nltk.corpus import stopwords\n",
    "from nltk.stem import PorterStemmer\n",
    "from textblob import Word\n",
    "from nltk.util import ngrams\n",
    "from wordcloud import WordCloud, STOPWORDS\n",
    "from nltk.tokenize import word_tokenize\n",
    "\n",
    "\n",
    "#  Process the text\n",
    "def processRow(row):\n",
    "    \n",
    "    tweet = row\n",
    "    \n",
    "    # Lower case\n",
    "    tweet.lower()\n",
    "    \n",
    "    # Remove unicode strings like \"u002c\" and \"x96\"\n",
    "    tweet = re.sub(r'(\\\\u[0-9A-Fa-f]+)',r'', tweet)\n",
    "    tweet = re.sub(r'[^\\x00-\\x7f]',r'',tweet)\n",
    "\n",
    "    \n",
    "    # Convert any url to URL\n",
    "    tweet = re.sub('((www\\.[^\\s])|(https?://[^\\s]+))','URL',tweet)\n",
    "    \n",
    "    # Convert any @Username to \"AT_USER\"\n",
    "    tweet = re.sub('@[^\\s]+', 'AT_USER', tweet)\n",
    "    \n",
    "    # Remove additional white spaces\n",
    "    tweet = re.sub('[\\s]+',' ', tweet)\n",
    "    tweet = re.sub('[\\n]+',' ', tweet)\n",
    "    \n",
    "    # Remove not alphanumeric symbols white spaces\n",
    "    tweet = re.sub(r'[^\\w]', ' ', tweet)\n",
    "\n",
    "    # Removes hastag in front of a word \"\"\"\n",
    "    tweet = re.sub(r'#([^\\s]+)', r'\\1', tweet)\n",
    "\n",
    "    # Replace #word with word\n",
    "    tweet = re.sub(r'#(^[\\s])+', r'\\1', tweet)\n",
    "    \n",
    "    # Remove :( or :)\n",
    "    tweet = tweet.replace(':)','')\n",
    "    tweet = tweet.replace(':(','')\n",
    "\n",
    "    # Remove numbers\n",
    "    tweet = ''.join([i for i in tweet if not i.isdigit()])\n",
    "\n",
    "    # Remove multiple exclamation\n",
    "    tweet = re.sub(r\"(\\!)\\1+\", ' ', tweet)\n",
    "\n",
    "    # Remove multiple question marks\n",
    "    tweet = re.sub(r\"(\\?)\\1+\", ' ', tweet)\n",
    "    \n",
    "    # Remove multistop\n",
    "    tweet = re.sub(r\"(\\.)\\1+\", ' ', tweet)\n",
    "\n",
    "    # Lemma\n",
    "    from textblob import Word\n",
    "    tweet = \" \".join([Word(word).lemmatize() for word in tweet.split()])\n",
    "    \n",
    "    #stemmer\n",
    "    #st = PorterStemmer()\n",
    "    #tweet=\" \".join([st.stem(word) for word in tweet.split()])\n",
    "\n",
    "    #Removes emoticons from text \n",
    "    tweet = re.sub(':\\)|;\\)|:-\\)|\\(-:|:-D|=D|:P|xD|X-p|\\^\\^|:-*|\\^\\.\\^|\\^\\-\\^|\\^\\_\\^|\\,-\\)|\\)-:|:\\'\\(|:\\(|:-\\(|:\\S|T\\.T|\\.\\_\\.|:<|:-\\S|:-<|\\*\\-\\*|:O|=O|=\\-O|O\\.o|XO|O\\_O|:-\\@|=/|:/|X\\-\\(|>\\.<|>=\\(|D:', '', tweet)\n",
    "\n",
    "    #trim\n",
    "    tweet = tweet.strip('\\'\"')\n",
    " \n",
    "    row = tweet\n",
    "    \n",
    "    return row\n",
    "\n",
    "# Call the function with your data\n",
    "processRow(tweet_sample)\n"
   ]
  },
  {
   "cell_type": "markdown",
   "metadata": {},
   "source": [
    "### Converting Text to Features"
   ]
  },
  {
   "cell_type": "markdown",
   "metadata": {},
   "source": [
    "In this topic, we are going to cover basic to advanced feature engineering (text to features) methods. By the end of this chapter, you will be comfortable with the following recipes:\n",
    "\n",
    "Recipe 1. One Hot encoding\n",
    "\n",
    "Recipe 2. Count vectorizer\n",
    "\n",
    "Recipe 3. N-grams\n",
    "\n",
    "Recipe 4. Co-occurrence matrix\n",
    "\n",
    "Recipe 5. Hash vectorizer\n",
    "\n",
    "Recipe 6. Term Frequency-Inverse Document Frequency (TF-IDF)\n",
    "\n",
    "Recipe 7. Word embedding\n",
    "\n",
    "Recipe 8. Implementing fastText\n",
    "\n",
    "Now that all the text preprocessing steps are discussed, let’s explore feature engineering, the foundation for Natural Language Processing.\n",
    "\n",
    "As we already know, machines or algorithms cannot understand the characters/words or sentences, they can only take numbers as input that also includes binaries. But the inherent nature of text data is unstructured and noisy, which makes it impossible to interact with machines.\n",
    "\n",
    "The procedure of converting raw text data into machine understandable format (numbers) is called feature engineering of text data. \n",
    "\n",
    "Machine learning and deep learning algorithms’ performance and accuracy is fundamentally dependent on the type of feature engineering technique used."
   ]
  },
  {
   "cell_type": "markdown",
   "metadata": {},
   "source": [
    "#### Converting Text to Features Using One Hot Encoding"
   ]
  },
  {
   "cell_type": "markdown",
   "metadata": {},
   "source": [
    "The traditional method used for feature engineering is One Hot encoding. If anyone knows the basics of machine learning, One Hot encoding is something they should have come across for sure at some point of time or\n",
    "maybe most of the time. \n",
    "\n",
    "It is a process of converting categorical variables into features or columns and coding one or zero for the presence of that particular category. \n",
    "\n",
    "We are going to use the same logic here, and the number of features is going to be the number of total tokens present in the whole corpus.\n",
    "\n",
    "--> One Hot Encoding will basically convert characters or words into binary numbers."
   ]
  },
  {
   "cell_type": "code",
   "execution_count": 131,
   "metadata": {},
   "outputs": [
    {
     "data": {
      "text/html": [
       "<div>\n",
       "<style scoped>\n",
       "    .dataframe tbody tr th:only-of-type {\n",
       "        vertical-align: middle;\n",
       "    }\n",
       "\n",
       "    .dataframe tbody tr th {\n",
       "        vertical-align: top;\n",
       "    }\n",
       "\n",
       "    .dataframe thead th {\n",
       "        text-align: right;\n",
       "    }\n",
       "</style>\n",
       "<table border=\"1\" class=\"dataframe\">\n",
       "  <thead>\n",
       "    <tr style=\"text-align: right;\">\n",
       "      <th></th>\n",
       "      <th>I</th>\n",
       "      <th>NLP</th>\n",
       "      <th>am</th>\n",
       "      <th>learning</th>\n",
       "    </tr>\n",
       "  </thead>\n",
       "  <tbody>\n",
       "    <tr>\n",
       "      <th>0</th>\n",
       "      <td>1</td>\n",
       "      <td>0</td>\n",
       "      <td>0</td>\n",
       "      <td>0</td>\n",
       "    </tr>\n",
       "    <tr>\n",
       "      <th>1</th>\n",
       "      <td>0</td>\n",
       "      <td>0</td>\n",
       "      <td>1</td>\n",
       "      <td>0</td>\n",
       "    </tr>\n",
       "    <tr>\n",
       "      <th>2</th>\n",
       "      <td>0</td>\n",
       "      <td>0</td>\n",
       "      <td>0</td>\n",
       "      <td>1</td>\n",
       "    </tr>\n",
       "    <tr>\n",
       "      <th>3</th>\n",
       "      <td>0</td>\n",
       "      <td>1</td>\n",
       "      <td>0</td>\n",
       "      <td>0</td>\n",
       "    </tr>\n",
       "  </tbody>\n",
       "</table>\n",
       "</div>"
      ],
      "text/plain": [
       "   I  NLP  am  learning\n",
       "0  1    0   0         0\n",
       "1  0    0   1         0\n",
       "2  0    0   0         1\n",
       "3  0    1   0         0"
      ]
     },
     "execution_count": 131,
     "metadata": {},
     "output_type": "execute_result"
    }
   ],
   "source": [
    "#  Store the text in a variable\n",
    "Text = \"I am learning NLP\"\n",
    "\n",
    "# Execute below function on the text data\n",
    "\n",
    "# Importing the library\n",
    "import pandas as pd\n",
    "\n",
    "# Generating the features\n",
    "pd.get_dummies(Text.split())"
   ]
  },
  {
   "cell_type": "markdown",
   "metadata": {},
   "source": [
    "#### Converting Text to Features Using Count Vectorizing"
   ]
  },
  {
   "cell_type": "markdown",
   "metadata": {},
   "source": [
    "The approach in One Hot Encoding has a disadvantage. It does not take the frequency of the word occurring into consideration. If a particular word is appearing multiple times, there is a chance of missing the information if it is not included in the analysis. A count vectorizer will solve that problem.\n",
    "\n",
    "--> Count vectorizer is almost similar to One Hot encoding. The only difference is instead of checking whether the particular word is present or not, it will count the words that are present in the document.\n",
    "\n",
    "Sklearn has a feature extraction function that extracts features out of the text. Let’s discuss how to execute the same. Import the CountVectorizer function from Sklearn as explained below.\n",
    "\n"
   ]
  },
  {
   "cell_type": "code",
   "execution_count": 132,
   "metadata": {},
   "outputs": [
    {
     "name": "stdout",
     "output_type": "stream",
     "text": [
      "{'love': 4, 'nlp': 5, 'and': 1, 'will': 6, 'learn': 3, 'in': 2, '2month': 0}\n",
      "[[1 1 1 1 1 2 1]]\n"
     ]
    }
   ],
   "source": [
    "#importing the function\n",
    "from sklearn.feature_extraction.text import CountVectorizer\n",
    "\n",
    "# Text\n",
    "text = [\"I love NLP and I will learn NLP in 2month \"]\n",
    "\n",
    "# create the transform\n",
    "vectorizer = CountVectorizer()\n",
    "\n",
    "# tokenizing\n",
    "vectorizer.fit(text)\n",
    "\n",
    "# encode document\n",
    "vector = vectorizer.transform(text)\n",
    "\n",
    "# summarize & generating output\n",
    "print(vectorizer.vocabulary_)\n",
    "print(vector.toarray())"
   ]
  },
  {
   "cell_type": "markdown",
   "metadata": {},
   "source": [
    "#### Generating N-grams"
   ]
  },
  {
   "cell_type": "markdown",
   "metadata": {},
   "source": [
    "If you observe the above methods, each word is considered as a feature.\n",
    "\n",
    "There is a drawback to this method.\n",
    "\n",
    "It does not consider the previous and the next words, to see if that would give a proper and complete meaning to the words. For example: consider the word “not bad.” If this is split into individual words, then it will lose out on conveying “good” – which is what this word actually means.\n",
    "\n",
    "As we saw, we might lose potential information or insight because a lot of words make sense once they are put together. This problem can be solved by N-grams. N-grams are the fusion of multiple letters or multiple words. They are formed in such a way that even the previous and next words are captured.\n",
    "\n",
    "- Unigrams are the unique words present in the sentence.\n",
    "\n",
    "- Bigram is the combination of 2 words.\n",
    "\n",
    "- Trigram is 3 words and so on.\n",
    "\n",
    "--> There are a lot of packages that will generate the N-grams. The one that is mostly used is TextBlob."
   ]
  },
  {
   "cell_type": "code",
   "execution_count": 136,
   "metadata": {},
   "outputs": [
    {
     "data": {
      "text/plain": [
       "[WordList(['I']), WordList(['am']), WordList(['learning']), WordList(['NLP'])]"
      ]
     },
     "execution_count": 136,
     "metadata": {},
     "output_type": "execute_result"
    }
   ],
   "source": [
    "#  Generating N-grams using TextBlob\n",
    "\n",
    "Text = \"I am learning NLP\"\n",
    "\n",
    "#Use the below TextBlob function to create N-grams. Use the text that is defined above and mention the “n” based on the requirement.\n",
    "\n",
    "#Import textblob\n",
    "from textblob import TextBlob\n",
    "\n",
    "TextBlob(Text).ngrams(1)"
   ]
  },
  {
   "cell_type": "code",
   "execution_count": 137,
   "metadata": {},
   "outputs": [
    {
     "data": {
      "text/plain": [
       "[WordList(['I', 'am']),\n",
       " WordList(['am', 'learning']),\n",
       " WordList(['learning', 'NLP'])]"
      ]
     },
     "execution_count": 137,
     "metadata": {},
     "output_type": "execute_result"
    }
   ],
   "source": [
    "#For Bigram : For bigrams, use n = 2\n",
    "TextBlob(Text).ngrams(2)"
   ]
  },
  {
   "cell_type": "code",
   "execution_count": 138,
   "metadata": {},
   "outputs": [
    {
     "name": "stdout",
     "output_type": "stream",
     "text": [
      "{'love nlp': 3, 'nlp and': 4, 'and will': 0, 'will learn': 6, 'learn nlp': 2, 'nlp in': 5, 'in 2month': 1}\n",
      "[[1 1 1 1 1 1 1]]\n"
     ]
    }
   ],
   "source": [
    "# Bigram-based features for a document\n",
    "\n",
    "# Importing the function\n",
    "from sklearn.feature_extraction.text import CountVectorizer\n",
    "\n",
    "# Text\n",
    "text = [\"I love NLP and I will learn NLP in 2month \"]\n",
    "\n",
    "# Create the transform\n",
    "vectorizer = CountVectorizer(ngram_range=(2,2))\n",
    "\n",
    "# Tokenizing\n",
    "vectorizer.fit(text)\n",
    "\n",
    "# Encode document\n",
    "vector = vectorizer.transform(text)\n",
    "\n",
    "# Summarize & generating output\n",
    "print(vectorizer.vocabulary_)\n",
    "print(vector.toarray())"
   ]
  },
  {
   "cell_type": "code",
   "execution_count": null,
   "metadata": {},
   "outputs": [],
   "source": []
  }
 ],
 "metadata": {
  "kernelspec": {
   "display_name": "Python 3",
   "language": "python",
   "name": "python3"
  },
  "language_info": {
   "codemirror_mode": {
    "name": "ipython",
    "version": 3
   },
   "file_extension": ".py",
   "mimetype": "text/x-python",
   "name": "python",
   "nbconvert_exporter": "python",
   "pygments_lexer": "ipython3",
   "version": "3.8.3"
  }
 },
 "nbformat": 4,
 "nbformat_minor": 2
}
